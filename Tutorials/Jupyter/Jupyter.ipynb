{
 "cells": [
  {
   "cell_type": "markdown",
   "metadata": {},
   "source": [
    "# Python Quick Start Using Jupyter Notebooks\n",
    "***\n",
    "**Dan Boschen & Josh Wilkins<br>3/07/2018**"
   ]
  },
  {
   "cell_type": "markdown",
   "metadata": {},
   "source": [
    "## Context\n",
    "This is a “Quick Start” Guide and Lessons Learned for using Python through Anaconda and the Jupyter Notebook. Prior familiarity with Matlab is assumed so includes useful references for transitioning between Matlab and Python using Numpy. \n",
    "\n",
    "<img src=\"./img/pythonInterest.png\" style= \"width: 850px; float: center;\" />"
   ]
  },
  {
   "cell_type": "markdown",
   "metadata": {},
   "source": [
    "## Useful References\n",
    "\n",
    "1. FAQ SciPy and NumPy with good quick primer on use: https://www.scipy.org/scipylib/faq.html\n",
    "2. Matplotlib pyplot tutorial: https://matplotlib.org/users/pyplot_tutorial.html\n",
    "3. Markdown Cheatsheet: https://github.com/adam-p/markdown-here/wiki/Markdown-Cheatsheet\n",
    "4. Mathjax Motivating examples: http://jupyter-notebook.readthedocs.io/en/stable/examples/Notebook/Typesetting%20Equations.html\n",
    "5. Short intro to Pandas: https://pandas.pydata.org/pandas-docs/stable/10min.html\n",
    "6. Conda cheat sheet: https://conda.io/docs/user-guide/cheatsheet.html\n",
    "7. Numpy for Matlab users: https://docs.scipy.org/doc/numpy-dev/user/numpy-for-matlab-users.html\n",
    "8. Stepping from Matlab to Python: http://stsievert.com/blog/2015/09/01/matlab-to-python/\n",
    "9. Free online book for Python 2: https://learnpythonthehardway.org/book/\n",
    "10. PEP8 Style Guide for Python: https://www.python.org/dev/peps/pep-0008/\n",
    "11. Jupyter Notebook tips, tricks and shortcuts: https://www.dataquest.io/blog/jupyter-notebook-tips-tricks-shortcuts/\n",
    "12. Summary of Magics https://blog.dominodatalab.com/lesser-known-ways-of-using-notebooks/\n",
    "13. Excellent detailed tutorial and history https://www.datacamp.com/community/tutorials/tutorial-jupyter-notebook\n",
    "14. \"Loop Like A Native\", by Ned Batchelder https://nedbatchelder.com/text/iter.html\n"
   ]
  },
  {
   "cell_type": "markdown",
   "metadata": {},
   "source": [
    "## Mentionable Tools\n",
    "\n",
    "**Ananconda**: Python distribution package tailored for data sciences. It includes thousands of popular data science packages, the Spyder IDE, Jupyter Notebook, and the conda pagkage and virtual environment manager for Windows, Linux and MacOS. \n",
    "\n",
    "**Conda**: Command line package and environment manager. (Anaconda Navigator is the GUI to Conda)\n",
    "\n",
    "**Cython**: C compiler for functions to make them faster\n",
    "\n",
    "**Matplotlib pyplot**: Plotting library that works like Matlab\n",
    "\n",
    "**NumPy**: Python extension module for efficient operation on arrays of data that allow python to serve as a high level language for manipulating numerical data similar to Matlab, providing vectorized operations. \n",
    "\n",
    "**Python 2.7 vs 3.3**: Colorado is currently using 2.7 with no immediate plans to migrate to 3.3 due to their extensive code base.  Differences are relatively minor but currently much more support in 2.7 in terms of documentation to help you along the way and 3rd party libraries. \n",
    "\n",
    "**Jupyter Notebook**: Combines computer code and rich text elements (paragraphs, equations, figures, links).\n",
    "\n",
    "**Markdown**: Lightweight markup language that is used in Jupyter Notebooks.\n",
    "\n",
    "**MathJax**: Markdown specific for writing mathematical formulas. The Markdown parser in Juypter Notebooks in MathJax aware.\n",
    "\n",
    "**Pandas**: Python package for data analysis for working with “relational” or “labeled” data in an easy and intuitive way (similar to spreadsheets).\n",
    "\n",
    "**pip**: Python package installer, similar to conda but with access to a larger package base. Conda has a new packaging format so conda and pip cannot be used interchangeably; conda cannot install a package in the pip format and vice versa. They can be used side by side but will not interoperate. Since the Anaconda environment is managed with conda, all updates to anaconda and installed libraries (from Anaconda) should be done using conda.  Also search for packages on conda and install from there, and if not found try pip. \n",
    "\n",
    "**SciPy**: Scientific and numerical tools for Python supporting integration, ODE solvers, gradient optimization. (If it’s covered in a general textbook on numerical computing, it is likely in SciPy). Very fast, efficient and robust as mostly wrappers around existing open source C/Fortran scientific routines from http://www.netlib.org.\n",
    "\n",
    "**Spyder** IDE that comes with Anaconda\n"
   ]
  },
  {
   "cell_type": "markdown",
   "metadata": {},
   "source": [
    "## Quick Start\n",
    "\n",
    "Since many analyses can be done directly using Python within Jupyter Notebook, this quick start guide will focus on getting the user up and running with Juypyter Notebook first.  A notable feature of the Jupyter Notebook is to document in rich text features along with making dynamic plots that can be changed on the fly as well as importing images and figures.\n",
    "\n",
    "Future additions of this document can include using the Sypder IDE for code development. The Spyder IDE is more appropriate for extensive custom code (that can be developed and saved for import into future notebooks or other used in Python directly).\n",
    "\n",
    "### Install Anaconda\n",
    "\n",
    "Navigate to https://www.anaconda.com/download.  Choose Windows, MAC or Linux platform and install latest python version 2.x (Currently 2.7 as of the writing of this document). \n",
    "\n",
    "Follow the default prompts including installing for “Just Me”.\n",
    "\n",
    "### Using Python within Jupyter Notebook\n",
    "\n",
    "The first code block of this document contains the common configurations that I use, that is useful as a good starting point when starting a new Jupyter Notebook.\n",
    "\n",
    "### Enhancing the Jupyter Notebook with Plug-Ins\n",
    "\n",
    "##### \"nbextensions\" (thanks Josh Wilkins for finding this!):\n",
    "\n",
    "Run the following commands from console to install:\n",
    "\n",
    "```\n",
    "pip install jupyter_contrib_nbextensions\n",
    "jupyter contrib nbextension install --user\n",
    "pip install jupyter_nbextensions_configurator\n",
    "```\n",
    "\n",
    "At this point you might have to restart Jupyter for it to take effect (enter control-C twice in the other console that came up when Jupyter started)\n",
    "\n",
    "After launching Jupyter, there should now be a NBExtensions tab.\n",
    "\n",
    "By clicking on the Nbextesions tab from the main Jupyter navigator showing the directory file listing, the extensions can be selected. The following are ones I have been using:\n",
    "\n",
    "* Equation Auto Numbering\n",
    "* Hinterland\n",
    "* Nbextensions dashboard tab\n",
    "* Codefolding\n",
    "* Cotrib_nbextensions_help_item\n",
    "* Hide input all\n",
    "* Nbextensions edit menu item\n",
    "* Python Markdown\n",
    "* Scratchpad\n",
    "* Toggle all line numbers\n",
    "* Jupyter-js-widgets/extension\n",
    "* Skip-Traceback\n",
    "* Split Cells Notebook\n",
    "* Tree Filter\n",
    "* Drag and Drop\n"
   ]
  },
  {
   "cell_type": "markdown",
   "metadata": {},
   "source": [
    "## Example Markdown Block\n",
    "\n",
    "\n",
    "\n",
    "\n",
    "### Subheading\n",
    "\n",
    "#### Subheading\n",
    "\n",
    "##### Subheading\n",
    "\n",
    "Test in markdown area with **bold** and *italic* fonts\n",
    "\n",
    "\n",
    "\n",
    "`#inline code'\n",
    "\n",
    "```\n",
    "# block code\n",
    "x=5\n",
    "y=2\n",
    "z=5\n",
    "print \"The answer is \" + str(x+y)\n",
    "```\n",
    "\n",
    "    # block code another way (tab or 4 space in)\n",
    "    x=5\n",
    "    y=2\n",
    "    z=5\n",
    "    print \"The answer is \" + str(x+y)\n",
    "\n",
    "\n",
    "## Formulas using Mathjax\n",
    "\n",
    "\n",
    "double $$ is centered:\n",
    "\n",
    "\n",
    "$$x=5+\\frac{4}{5}$$\n",
    "\n",
    "single \\$ is inline text: $\\int 5x dx$\n",
    "\n",
    "format for equation numbering:\n",
    "\n",
    "\\begin{equation}\n",
    "\\sum_{x=5}^{12} 5x^2\n",
    "\\end{equation}\n",
    "\n",
    "\\begin{equation}\n",
    "\\sum_{\\hat{x}=5}^{12} 5\\hat{x}^2\n",
    "\\end{equation}\n",
    "\n",
    "Greek symbols:\n",
    "$\\alpha \\space \\beta \\space \\gamma \\space \\Gamma \\space \\delta \\space \\Delta$\n",
    "\n",
    "\n",
    "\n",
    "\n",
    "## Images and figures\n",
    "\n",
    "Inserting images is done using HTML directly:\n",
    "\n",
    "<img src=\"./img/example.PNG\"/>\n",
    "\n",
    "<img src=\"./img/example.PNG\" style=\"width: 100px;\"/>\n",
    "\n",
    "\n",
    "#### tables, \n",
    "note that the colon placement sets the format   :--- left justify ---: right justify :--: center\n",
    "\n",
    "\n",
    "\n",
    " Rev | Date | Author | Comments \n",
    " :--- | :---: | :---: | :---: \n",
    " 1 | 3/07/2018 | C. Daniel Boschen | Initial Draft \n",
    " 2 | 3/09/2018 | C. Daniel Boschen | Additional notes from Josh"
   ]
  },
  {
   "cell_type": "markdown",
   "metadata": {},
   "source": [
    "## Common Notebook Configurations"
   ]
  },
  {
   "cell_type": "code",
   "execution_count": 1,
   "metadata": {},
   "outputs": [],
   "source": [
    "# common Notebook configurations\n",
    "import numpy as np\n",
    "import scipy\n",
    "import matplotlib.pyplot as plt\n",
    "\n",
    "\n",
    "#configuration for inline plots   \n",
    "#(Note on Chris Liessner's machine the %matplotlib nbagg magic did not\n",
    "# work until he put a space between % and matplotlib)\n",
    "% matplotlib nbagg\n",
    "plt.rcParams['agg.path.chunksize'] = 10000"
   ]
  },
  {
   "cell_type": "markdown",
   "metadata": {},
   "source": [
    "## Plotting and basic analysis example"
   ]
  },
  {
   "cell_type": "code",
   "execution_count": 2,
   "metadata": {
    "code_folding": []
   },
   "outputs": [
    {
     "data": {
      "image/png": "[encoded data removed]",
      "text/plain": [
       "<matplotlib.figure.Figure at 0xcbdd0d0>"
      ]
     },
     "metadata": {},
     "output_type": "display_data"
    }
   ],
   "source": [
    "# plotting and basic analysis example\n",
    "\n",
    "x = np.linspace(0,10,100)\n",
    "y = np.cos(2*np.pi*x/5)\n",
    "y2 = y**2\n",
    "\n",
    "plt.figure()\n",
    "\n",
    "plt.plot(x,y, label='cos')                      # showing alternate label for legend\n",
    "# note there is no \"hold on/off\" like in Matlab\n",
    "plt.plot(x,y2, label = '$cos^2$', c='red')      # showing alternate line color \n",
    "plt.plot(x, y-y2, label = 'difference', ls = '--', lw= 3)\n",
    "plt.grid()\n",
    "plt.legend()\n",
    "\n",
    "plt.title(r'Plot Title with Greek Character $\\beta$')\n",
    "plt.xlabel('Time [s]')\n",
    "\n",
    "# note the semi colon after the last command will supress output (from any cells in this block)\n",
    "plt.ylabel('Mag [V]');\n"
   ]
  },
  {
   "cell_type": "markdown",
   "metadata": {},
   "source": [
    "The following shows plotting with matplotlib with an object-oriented approach:"
   ]
  },
  {
   "cell_type": "code",
   "execution_count": 3,
   "metadata": {},
   "outputs": [
    {
     "data": {
      "text/plain": [
       "Text(0.5,1,u'FFT')"
      ]
     },
     "execution_count": 3,
     "metadata": {},
     "output_type": "execute_result"
    },
    {
     "data": {
      "image/png": "[encoded data removed]",
      "text/plain": [
       "<matplotlib.figure.Figure at 0x6ea8610>"
      ]
     },
     "metadata": {},
     "output_type": "display_data"
    }
   ],
   "source": [
    "fig, (ax1, ax2) = plt.subplots(1,2)\n",
    "ax1.plot(y) \n",
    "ax1.set_title('Raw Signal')\n",
    "ax2.plot(np.real(np.fft.fft(y)))\n",
    "ax2.set_title('FFT')"
   ]
  },
  {
   "cell_type": "markdown",
   "metadata": {},
   "source": [
    "## Script, Function and Object Constructs\n",
    "\n",
    "The following demonstrates function and ojbect constructs using a simple plotting task:"
   ]
  },
  {
   "cell_type": "code",
   "execution_count": 4,
   "metadata": {
    "code_folding": []
   },
   "outputs": [
    {
     "data": {
      "image/png": "[encoded data removed]",
      "text/plain": [
       "<matplotlib.figure.Figure at 0xd31df90>"
      ]
     },
     "metadata": {},
     "output_type": "display_data"
    }
   ],
   "source": [
    "# showing script, function and object constructs\n",
    "\n",
    "# defining previous script as a function:\n",
    "\n",
    "def plotMyWay(xData,yData,xTitle,yTitle):\n",
    "    plt.figure(figsize=(3,2))\n",
    "    plt.plot(xData,yData)\n",
    "    plt.grid()\n",
    "    plt.xlabel(xTitle)\n",
    "    plt.ylabel(yTitle)\n",
    "    plt.tight_layout()\n",
    "\n",
    "    \n",
    "# using the function\n",
    "plotMyWay(x,y,'Time [s]', 'Mag [V]')"
   ]
  },
  {
   "cell_type": "code",
   "execution_count": 5,
   "metadata": {},
   "outputs": [
    {
     "data": {
      "image/png": "[encoded data removed]",
      "text/plain": [
       "<matplotlib.figure.Figure at 0xd327230>"
      ]
     },
     "metadata": {},
     "output_type": "display_data"
    }
   ],
   "source": [
    "# repeating above with an object construct\n",
    "\n",
    "class myDataMyWay(object):\n",
    "    def __init__(self, xData, yData):\n",
    "        self.xData = xData\n",
    "        self.yData = yData\n",
    "    def plot(self, xTitle, yTitle):\n",
    "        plt.figure(figsize=(3,2))\n",
    "        plt.plot(self.xData,self.yData)\n",
    "        plt.grid()\n",
    "        plt.xlabel(xTitle)\n",
    "        plt.ylabel(yTitle)\n",
    "        plt.tight_layout()        \n",
    "\n",
    "# using class and method:\n",
    "objExample = myDataMyWay(x,y)\n",
    "objExample.plot('Time [s]', 'Mag [V]')"
   ]
  },
  {
   "cell_type": "code",
   "execution_count": 6,
   "metadata": {},
   "outputs": [],
   "source": [
    "#example function for use in notebook to print markdown from code block\n",
    "def printmd(stringWithMarkdown):\n",
    "    from IPython.display import Markdown, display\n",
    "    display(Markdown(stringWithMarkdown))"
   ]
  },
  {
   "cell_type": "code",
   "execution_count": 7,
   "metadata": {},
   "outputs": [
    {
     "data": {
      "text/plain": [
       "{'A': 0.9463045952926319,\n",
       " 'C': 41125.06882186129,\n",
       " 'T': 0.09937583286048585,\n",
       " 'fOffset': 1.3788822268818608,\n",
       " 'floor': 5490.060639767796}"
      ]
     },
     "execution_count": 7,
     "metadata": {},
     "output_type": "execute_result"
    },
    {
     "data": {
      "image/png": "[encoded data removed]",
      "text/plain": [
       "<matplotlib.figure.Figure at 0xd68e910>"
      ]
     },
     "metadata": {},
     "output_type": "display_data"
    }
   ],
   "source": [
    "# Another example using custom modules\n",
    "\n",
    "import sys\n",
    "sys.path.append(\"./src\")\n",
    "from util.csvData import csvData\n",
    "from util.resonance import Sweep \n",
    "\n",
    "\n",
    "def processRabi(file):\n",
    "    rabiImport = csvData(file)\n",
    "    rabi = rabiImport.getData()\n",
    "    faxis = rabi[:,0]\n",
    "    signal = rabi[:,1]\n",
    "    curvefit = Sweep(faxis, signal)\n",
    "    param, pcov = curvefit.RabiFit()\n",
    "    plt.figure()\n",
    "    faxis2= np.linspace(faxis[0],faxis[-1],1000)\n",
    "    plt.plot(faxis2, curvefit.Rabi(faxis2),'r', label='curvefit')\n",
    "    plt.plot(faxis, signal,'o', label = 'data samples')    \n",
    "    plt.xlabel('Frequency Axis [Hz]')\n",
    "    plt.ylabel('Magnitude')\n",
    "    plt.grid()\n",
    "    plt.legend()\n",
    "    return param\n",
    "\n",
    "processRabi('./data/rabi1.txt')"
   ]
  },
  {
   "cell_type": "markdown",
   "metadata": {},
   "source": [
    "## Making Markdown be the default\n",
    "\n",
    "Some steps to make markdown the default for new cell creation\n",
    "\n",
    "- Run these 2 lines in python\n",
    "\n",
    "From distutils.sysconfig import get_python_lib\n",
    "\n",
    "print(get_python_lib()) + \"\\\\notebook\\\\static\\\\notebook\\\\js\"\n",
    "\n",
    "- Go to the printed folder path\n",
    "- Edit main.min.js\n",
    "- Find these lines:\n",
    "\n",
    "Notebook.options_default = {<br>\n",
    "   // can be any cell type, or the special values of<br>\n",
    "   // 'above', 'below', or 'selected' to get the value from another cell.<br>\n",
    "   default_cell_type: 'code',<br>\n",
    "   Header: true,<br>\n",
    "   Toolbar: true<br>\n",
    "};\n",
    "\n",
    "- Change to\n",
    "default_cell_type: 'markdown',\n"
   ]
  },
  {
   "cell_type": "markdown",
   "metadata": {},
   "source": [
    "## Magic Commands\n",
    "\n",
    "magic functions are predefined functions that are available in the notebook. Some of the more useful ones are detailed here.\n",
    "\n",
    "Cell magics must appear first in the shell with no prior lines"
   ]
  },
  {
   "cell_type": "code",
   "execution_count": 8,
   "metadata": {},
   "outputs": [
    {
     "data": {
      "application/json": {
       "cell": {
        "!": "OSMagics",
        "HTML": "Other",
        "SVG": "Other",
        "bash": "Other",
        "capture": "ExecutionMagics",
        "cmd": "Other",
        "debug": "ExecutionMagics",
        "file": "Other",
        "html": "DisplayMagics",
        "javascript": "DisplayMagics",
        "js": "DisplayMagics",
        "latex": "DisplayMagics",
        "perl": "Other",
        "prun": "ExecutionMagics",
        "pypy": "Other",
        "python": "Other",
        "python2": "Other",
        "python3": "Other",
        "ruby": "Other",
        "script": "ScriptMagics",
        "sh": "Other",
        "svg": "DisplayMagics",
        "sx": "OSMagics",
        "system": "OSMagics",
        "time": "ExecutionMagics",
        "timeit": "ExecutionMagics",
        "writefile": "OSMagics"
       },
       "line": {
        "alias": "OSMagics",
        "alias_magic": "BasicMagics",
        "autocall": "AutoMagics",
        "automagic": "AutoMagics",
        "autosave": "KernelMagics",
        "bookmark": "OSMagics",
        "cd": "OSMagics",
        "clear": "KernelMagics",
        "cls": "KernelMagics",
        "colors": "BasicMagics",
        "config": "ConfigMagics",
        "connect_info": "KernelMagics",
        "copy": "Other",
        "ddir": "Other",
        "debug": "ExecutionMagics",
        "dhist": "OSMagics",
        "dirs": "OSMagics",
        "doctest_mode": "BasicMagics",
        "echo": "Other",
        "ed": "Other",
        "edit": "KernelMagics",
        "env": "OSMagics",
        "gui": "BasicMagics",
        "hist": "Other",
        "history": "HistoryMagics",
        "killbgscripts": "ScriptMagics",
        "ldir": "Other",
        "less": "KernelMagics",
        "load": "CodeMagics",
        "load_ext": "ExtensionMagics",
        "loadpy": "CodeMagics",
        "logoff": "LoggingMagics",
        "logon": "LoggingMagics",
        "logstart": "LoggingMagics",
        "logstate": "LoggingMagics",
        "logstop": "LoggingMagics",
        "ls": "Other",
        "lsmagic": "BasicMagics",
        "macro": "ExecutionMagics",
        "magic": "BasicMagics",
        "matplotlib": "PylabMagics",
        "mkdir": "Other",
        "more": "KernelMagics",
        "notebook": "BasicMagics",
        "page": "BasicMagics",
        "pastebin": "CodeMagics",
        "pdb": "ExecutionMagics",
        "pdef": "NamespaceMagics",
        "pdoc": "NamespaceMagics",
        "pfile": "NamespaceMagics",
        "pinfo": "NamespaceMagics",
        "pinfo2": "NamespaceMagics",
        "popd": "OSMagics",
        "pprint": "BasicMagics",
        "precision": "BasicMagics",
        "profile": "BasicMagics",
        "prun": "ExecutionMagics",
        "psearch": "NamespaceMagics",
        "psource": "NamespaceMagics",
        "pushd": "OSMagics",
        "pwd": "OSMagics",
        "pycat": "OSMagics",
        "pylab": "PylabMagics",
        "qtconsole": "KernelMagics",
        "quickref": "BasicMagics",
        "recall": "HistoryMagics",
        "rehashx": "OSMagics",
        "reload_ext": "ExtensionMagics",
        "ren": "Other",
        "rep": "Other",
        "rerun": "HistoryMagics",
        "reset": "NamespaceMagics",
        "reset_selective": "NamespaceMagics",
        "rmdir": "Other",
        "run": "ExecutionMagics",
        "save": "CodeMagics",
        "sc": "OSMagics",
        "set_env": "OSMagics",
        "store": "StoreMagics",
        "sx": "OSMagics",
        "system": "OSMagics",
        "tb": "ExecutionMagics",
        "time": "ExecutionMagics",
        "timeit": "ExecutionMagics",
        "unalias": "OSMagics",
        "unload_ext": "ExtensionMagics",
        "who": "NamespaceMagics",
        "who_ls": "NamespaceMagics",
        "whos": "NamespaceMagics",
        "xdel": "NamespaceMagics",
        "xmode": "BasicMagics"
       }
      },
      "text/plain": [
       "Available line magics:\n",
       "%alias  %alias_magic  %autocall  %automagic  %autosave  %bookmark  %cd  %clear  %cls  %colors  %config  %connect_info  %copy  %ddir  %debug  %dhist  %dirs  %doctest_mode  %echo  %ed  %edit  %env  %gui  %hist  %history  %killbgscripts  %ldir  %less  %load  %load_ext  %loadpy  %logoff  %logon  %logstart  %logstate  %logstop  %ls  %lsmagic  %macro  %magic  %matplotlib  %mkdir  %more  %notebook  %page  %pastebin  %pdb  %pdef  %pdoc  %pfile  %pinfo  %pinfo2  %popd  %pprint  %precision  %profile  %prun  %psearch  %psource  %pushd  %pwd  %pycat  %pylab  %qtconsole  %quickref  %recall  %rehashx  %reload_ext  %ren  %rep  %rerun  %reset  %reset_selective  %rmdir  %run  %save  %sc  %set_env  %store  %sx  %system  %tb  %time  %timeit  %unalias  %unload_ext  %who  %who_ls  %whos  %xdel  %xmode\n",
       "\n",
       "Available cell magics:\n",
       "%%!  %%HTML  %%SVG  %%bash  %%capture  %%cmd  %%debug  %%file  %%html  %%javascript  %%js  %%latex  %%perl  %%prun  %%pypy  %%python  %%python2  %%python3  %%ruby  %%script  %%sh  %%svg  %%sx  %%system  %%time  %%timeit  %%writefile\n",
       "\n",
       "Automagic is ON, % prefix IS NOT needed for line magics."
      ]
     },
     "execution_count": 8,
     "metadata": {},
     "output_type": "execute_result"
    }
   ],
   "source": [
    "# to see all magic commands avialable in given interpreter\n",
    "%lsmagic"
   ]
  },
  {
   "cell_type": "markdown",
   "metadata": {},
   "source": [
    "### HTML magic\n",
    "Demonstrating html magic showing the entering of HTML command which will force all tables in document to be right justified"
   ]
  },
  {
   "cell_type": "code",
   "execution_count": 9,
   "metadata": {},
   "outputs": [
    {
     "data": {
      "text/html": [
       "<style>\n",
       "table {float:right}\n",
       "</style>"
      ],
      "text/plain": [
       "<IPython.core.display.HTML object>"
      ]
     },
     "metadata": {},
     "output_type": "display_data"
    }
   ],
   "source": [
    "%%html\n",
    "<style>\n",
    "table {float:right}\n",
    "</style>"
   ]
  },
  {
   "cell_type": "markdown",
   "metadata": {},
   "source": [
    "\n",
    "\n",
    "Rev | Date | Author | Comments \n",
    " :--- | :---: | :---: | :---: \n",
    " 1 | 2/14/2018 | C. Daniel Boschen | Initial Draft \n",
    " 2 | 2/14/2018 | C. Daniel Boschen | Added notes from Josh on making Markdown be the defualt \n",
    " \n"
   ]
  },
  {
   "cell_type": "markdown",
   "metadata": {},
   "source": [
    "Demonstrating cmd magic to run a console command (in windows console). Since UNC directories are not recognized, the following shows the approach to changing the working directory for the shell script."
   ]
  },
  {
   "cell_type": "markdown",
   "metadata": {},
   "source": [
    "### Command script magic"
   ]
  },
  {
   "cell_type": "code",
   "execution_count": 10,
   "metadata": {},
   "outputs": [
    {
     "name": "stdout",
     "output_type": "stream",
     "text": [
      "Microsoft Windows [Version 10.0.16299.371]\r\n",
      "(c) 2017 Microsoft Corporation. All rights reserved.\r\n",
      "\r\n",
      "A:\\Repositories\\JupyterNotebooks\\Tutorials\\Jupyter>:: create temporary drive mapped to UNC location\n",
      "A:\\Repositories\\JupyterNotebooks\\Tutorials\\Jupyter>pushd \\\\bevfs01\\Engineering_Projects\\Training\\Jupyter\n",
      "\r\n",
      "A:\\Repositories\\JupyterNotebooks\\Tutorials\\Jupyter>:: windows console commands\n",
      "A:\\Repositories\\JupyterNotebooks\\Tutorials\\Jupyter>dir\n",
      " Volume in drive A is Sandbox\r\n",
      " Volume Serial Number is DA12-B970\r\n",
      "\r\n",
      " Directory of A:\\Repositories\\JupyterNotebooks\\Tutorials\\Jupyter\r\n",
      "\r\n",
      "05/06/2018  03:02 PM    <DIR>          .\r\n",
      "05/06/2018  03:02 PM    <DIR>          ..\r\n",
      "05/06/2018  02:55 PM    <DIR>          .ipynb_checkpoints\r\n",
      "04/08/2018  09:33 PM    <DIR>          css\r\n",
      "04/08/2018  09:33 PM    <DIR>          data\r\n",
      "05/06/2018  02:49 PM    <DIR>          img\r\n",
      "05/06/2018  03:02 PM           456,742 Jupyter.ipynb\r\n",
      "04/08/2018  09:33 PM    <DIR>          src\r\n",
      "               1 File(s)        456,742 bytes\r\n",
      "               7 Dir(s)  111,972,671,488 bytes free\r\n",
      "\r\n",
      "A:\\Repositories\\JupyterNotebooks\\Tutorials\\Jupyter>:: remove temporary drive\n",
      "A:\\Repositories\\JupyterNotebooks\\Tutorials\\Jupyter>popd\n",
      "\r\n",
      "A:\\Repositories\\JupyterNotebooks\\Tutorials\\Jupyter>"
     ]
    },
    {
     "name": "stderr",
     "output_type": "stream",
     "text": [
      "The network path was not found.\r\n"
     ]
    }
   ],
   "source": [
    "%%cmd\n",
    ":: create temporary drive mapped to UNC location\n",
    "pushd \\\\bevfs01\\Engineering_Projects\\Training\\Jupyter\n",
    ":: windows console commands\n",
    "dir\n",
    ":: remove temporary drive\n",
    "popd"
   ]
  },
  {
   "cell_type": "markdown",
   "metadata": {},
   "source": [
    "### Profiling magic\n",
    "\n",
    "Profiling is useful for optimizing code; scripts and functions can be timed to identify long running routines that could then by compiled to c with cython (compiling to c is why numpy and pandas are fast). Competing functions or approaches/algorithms can be assessed for efficiency.\n",
    "\n",
    "%time function()    : will time a single run\n",
    "%timeit function()  : will run a function multiple times\n",
    "%prun function() : will run the function using the profiler showing time per operation\n",
    "\n",
    "\n",
    "To compile long running functions to c:\n",
    "\n",
    "If cython is not listed in the available cell magics above, install cython using conda install cython from the command prompt (best to use the Anaconda prompt for this):\n",
    "\n",
    "'''\n",
    "conda install cython\n",
    "'''\n",
    "\n",
    "'''\n",
    "%%cython\n",
    "def newFunction(n)\n",
    "    //function contents\n",
    "'''"
   ]
  },
  {
   "cell_type": "code",
   "execution_count": 11,
   "metadata": {},
   "outputs": [
    {
     "data": {
      "text/markdown": [
       "**Timing this statement!**"
      ],
      "text/plain": [
       "<IPython.core.display.Markdown object>"
      ]
     },
     "metadata": {},
     "output_type": "display_data"
    },
    {
     "name": "stdout",
     "output_type": "stream",
     "text": [
      "Wall time: 4 ms\n"
     ]
    },
    {
     "data": {
      "text/markdown": [
       "**Timing a function once, compary numpy and scipy fft **"
      ],
      "text/plain": [
       "<IPython.core.display.Markdown object>"
      ]
     },
     "metadata": {},
     "output_type": "display_data"
    },
    {
     "name": "stdout",
     "output_type": "stream",
     "text": [
      "Wall time: 332 ms\n",
      "Wall time: 413 ms\n"
     ]
    },
    {
     "data": {
      "text/markdown": [
       "**Repeat with timing with multiple runs**"
      ],
      "text/plain": [
       "<IPython.core.display.Markdown object>"
      ]
     },
     "metadata": {},
     "output_type": "display_data"
    },
    {
     "name": "stdout",
     "output_type": "stream",
     "text": [
      "10 loops, best of 3: 159 ms per loop\n",
      "1 loop, best of 3: 255 ms per loop\n"
     ]
    }
   ],
   "source": [
    "%time printmd('**Timing this statement!**')\n",
    "\n",
    "printmd('**Timing a function once, compary numpy and scipy fft **')\n",
    "from scipy.fftpack import fft\n",
    "%time fft(np.random.rand(5000000))\n",
    "%time np.fft.fft(np.random.rand(5000000))\n",
    "\n",
    "\n",
    "printmd('**Repeat with timing with multiple runs**')\n",
    "%timeit fft(np.random.rand(5000000))\n",
    "%timeit np.fft.fft(np.random.rand(5000000))"
   ]
  },
  {
   "cell_type": "markdown",
   "metadata": {},
   "source": [
    "## Windows Extension\n",
    "\n",
    "Adding a windows extension to your machine to launch jupyter from Windows Explorer\n",
    "\n",
    "<img src=\"./img/windowsExtension.PNG\" style=\"height: 400px;\"/>\n",
    "\n",
    "First you need to find the anaconda installation path, if you installed for all users it will be:<br>\n",
    "C:\\\\Users\\\\<user name>\\\\AppData\\\\Local\\\\Continuum\\\\Anaconda2\n",
    "\n",
    "You might find it in program files<br>\n",
    "Edit the jupyter.txt file in this directory and replace every instance of my path with your path<br>\n",
    "Save the changes, change txt suffix to reg and then double click the reg file to add the extension to your machine<br>\n",
    "To use, go to the directory you want to open up jupyter notebook and right click, then select the “Open Jupyter Notebook Here”"
   ]
  },
  {
   "cell_type": "markdown",
   "metadata": {},
   "source": [
    "## Notebook Styling with CSS\n",
    "\n",
    "The notebook can be styled using css. Press F12 for html class names and tags for css handles.\n",
    "As an example, I've changed the background color of the input cells"
   ]
  },
  {
   "cell_type": "code",
   "execution_count": 12,
   "metadata": {},
   "outputs": [
    {
     "data": {
      "text/html": [
       "<style>\n",
       "    div.input_area{\n",
       "\t\tbackground: #ffffb3;\n",
       "\t}\n",
       "</style>"
      ],
      "text/plain": [
       "<IPython.core.display.HTML object>"
      ]
     },
     "execution_count": 12,
     "metadata": {},
     "output_type": "execute_result"
    }
   ],
   "source": [
    "from IPython.core.display import HTML\n",
    "\n",
    "def css_styling():\n",
    "    styles = open(\"./css/custom.css\", \"r\").read()\n",
    "    return HTML(styles)\n",
    "css_styling()"
   ]
  },
  {
   "cell_type": "markdown",
   "metadata": {},
   "source": [
    "<div style = \"color: white; background: blue\"> \n",
    "\n",
    "THIS IS SOME TEXT along with ** Markup ** with CSS that effects this one block only. I did notice that wrapping the table format in the divs causes that Markup to not be processed, but here I see that we can still enter formulas: $\\alpha = 5x$\n",
    "\n",
    "</div>"
   ]
  },
  {
   "cell_type": "markdown",
   "metadata": {},
   "source": [
    "# PLEASE ADD OTHER HANDY \"COOK BOOK\" RECIPES HERE"
   ]
  },
  {
   "cell_type": "markdown",
   "metadata": {
    "collapsed": true
   },
   "source": [
    "## Revision History\n",
    "\n",
    "This file is in a mercurial repository and the last committed revision is listed below.<br>\n",
    "You may not get this cell to work unless you installed Anaconda \"for me only\"."
   ]
  },
  {
   "cell_type": "code",
   "execution_count": 13,
   "metadata": {},
   "outputs": [
    {
     "name": "stdout",
     "output_type": "stream",
     "text": [
      "Couldn't find program: u'bash'\n"
     ]
    }
   ],
   "source": [
    "%%bash --out output\n",
    "hg summary"
   ]
  },
  {
   "cell_type": "code",
   "execution_count": 14,
   "metadata": {},
   "outputs": [
    {
     "ename": "NameError",
     "evalue": "name 'output' is not defined",
     "output_type": "error",
     "traceback": [
      "\u001b[1;31m---------------------------------------------------------------------------\u001b[0m",
      "\u001b[1;31mNameError\u001b[0m                                 Traceback (most recent call last)",
      "\u001b[1;32m<ipython-input-14-c539aa7c085a>\u001b[0m in \u001b[0;36m<module>\u001b[1;34m()\u001b[0m\n\u001b[0;32m      1\u001b[0m \u001b[1;31m# get version from mercurial and display last save revision as REV +\u001b[0m\u001b[1;33m\u001b[0m\u001b[1;33m\u001b[0m\u001b[0m\n\u001b[1;32m----> 2\u001b[1;33m \u001b[0mfirstLine\u001b[0m \u001b[1;33m=\u001b[0m  \u001b[0moutput\u001b[0m\u001b[1;33m.\u001b[0m\u001b[0msplit\u001b[0m\u001b[1;33m(\u001b[0m\u001b[1;34m'\\n'\u001b[0m\u001b[1;33m)\u001b[0m\u001b[1;33m[\u001b[0m\u001b[1;36m0\u001b[0m\u001b[1;33m]\u001b[0m\u001b[1;33m\u001b[0m\u001b[0m\n\u001b[0m\u001b[0;32m      3\u001b[0m \u001b[0mrevField\u001b[0m \u001b[1;33m=\u001b[0m \u001b[0mfirstLine\u001b[0m\u001b[1;33m.\u001b[0m\u001b[0msplit\u001b[0m\u001b[1;33m(\u001b[0m\u001b[1;34m':'\u001b[0m\u001b[1;33m)\u001b[0m\u001b[1;33m[\u001b[0m\u001b[1;36m1\u001b[0m\u001b[1;33m]\u001b[0m\u001b[1;33m\u001b[0m\u001b[0m\n\u001b[0;32m      4\u001b[0m \u001b[1;33m\u001b[0m\u001b[0m\n\u001b[0;32m      5\u001b[0m \u001b[0mrevision\u001b[0m \u001b[1;33m=\u001b[0m \u001b[0mrevField\u001b[0m \u001b[1;33m+\u001b[0m \u001b[1;34m'+'\u001b[0m\u001b[1;33m\u001b[0m\u001b[0m\n",
      "\u001b[1;31mNameError\u001b[0m: name 'output' is not defined"
     ]
    }
   ],
   "source": [
    "# get version from mercurial and display last save revision as REV + \n",
    "firstLine =  output.split('\\n')[0]\n",
    "revField = firstLine.split(':')[1]\n",
    "\n",
    "revision = revField + '+'\n",
    "printmd('### Document revision: '+ revision + '')\n",
    "print output"
   ]
  }
 ],
 "metadata": {
  "hide_input": false,
  "kernelspec": {
   "display_name": "Python 2",
   "language": "python",
   "name": "python2"
  },
  "language_info": {
   "codemirror_mode": {
    "name": "ipython",
    "version": 2
   },
   "file_extension": ".py",
   "mimetype": "text/x-python",
   "name": "python",
   "nbconvert_exporter": "python",
   "pygments_lexer": "ipython2",
   "version": "2.7.14"
  },
  "latex_envs": {
   "LaTeX_envs_menu_present": true,
   "autoclose": false,
   "autocomplete": true,
   "bibliofile": "biblio.bib",
   "cite_by": "apalike",
   "current_citInitial": 1,
   "eqLabelWithNumbers": true,
   "eqNumInitial": 1,
   "hotkeys": {
    "equation": "Ctrl-E",
    "itemize": "Ctrl-I"
   },
   "labels_anchors": false,
   "latex_user_defs": false,
   "report_style_numbering": false,
   "user_envs_cfg": false
  },
  "toc": {
   "nav_menu": {
    "height": "371px",
    "width": "252px"
   },
   "number_sections": false,
   "sideBar": false,
   "skip_h1_title": false,
   "title_cell": "Table of Contents",
   "title_sidebar": "Contents",
   "toc_cell": false,
   "toc_position": {
    "height": "834px",
    "left": "1px",
    "right": "20px",
    "top": "108px",
    "width": "318px"
   },
   "toc_section_display": true,
   "toc_window_display": true
  },
  "varInspector": {
   "cols": {
    "lenName": 16,
    "lenType": 16,
    "lenVar": 40
   },
   "kernels_config": {
    "python": {
     "delete_cmd_postfix": "",
     "delete_cmd_prefix": "del ",
     "library": "var_list.py",
     "varRefreshCmd": "print(var_dic_list())"
    },
    "r": {
     "delete_cmd_postfix": ") ",
     "delete_cmd_prefix": "rm(",
     "library": "var_list.r",
     "varRefreshCmd": "cat(var_dic_list()) "
    }
   },
   "types_to_exclude": [
    "module",
    "function",
    "builtin_function_or_method",
    "instance",
    "_Feature"
   ],
   "window_display": false
  }
 },
 "nbformat": 4,
 "nbformat_minor": 2
}
