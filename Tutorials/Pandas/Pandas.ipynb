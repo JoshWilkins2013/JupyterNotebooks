{
 "cells": [
  {
   "cell_type": "markdown",
   "metadata": {},
   "source": [
    "<img src=\"./img/microsemilogo.jpg\"  style = \"float: right\"/>\n",
    "\n",
    "\n",
    "# An Introduction to Pandas\n",
    "***\n",
    "**Josh Wilkins<br>3/15/2018**"
   ]
  },
  {
   "cell_type": "code",
   "execution_count": 1,
   "metadata": {
    "code_folding": [
     0
    ],
    "hide_input": true
   },
   "outputs": [
    {
     "data": {
      "text/html": [
       "<style>\n",
       "\tdiv.cell{\n",
       "\t\twidth: 95%;\n",
       "\t\tmargin-left:auto;\n",
       "\t\tmargin-right:auto;\n",
       "\t}\n",
       "\t.output_png{\n",
       "\t\ttext-align: center;\n",
       "\t\tmargin-left:auto;\n",
       "\t\tmargin-right:auto;\n",
       "\t}\n",
       "\tdiv.text_cell_render{\n",
       "\t\tfont-family:\"Calibri (Body)\";\n",
       "\t\tfont-size: 16px;\n",
       "\t\twidth: 100%;\n",
       "\t\tmargin-left:auto;\n",
       "\t\tmargin-right:auto;\n",
       "\t\tpadding: 0;\n",
       "\t}\n",
       "\t.prompt{\n",
       "\t\tdisplay: None;\n",
       "\t}\n",
       "\t.anchor-link{\n",
       "\t\tdisplay: None;\n",
       "\t}\n",
       "\t.output_stderr{\n",
       "\t\tdisplay: None;\n",
       "\t}\n",
       "\thr{\n",
       "\t\tborder-color: black;\n",
       "\t}\n",
       "</style>"
      ],
      "text/plain": [
       "<IPython.core.display.HTML object>"
      ]
     },
     "execution_count": 1,
     "metadata": {},
     "output_type": "execute_result"
    }
   ],
   "source": [
    "# Imports \\ CSS\n",
    "\n",
    "import os\n",
    "import glob\n",
    "import scipy\n",
    "import numpy as np\n",
    "import pandas as pd\n",
    "import matplotlib.pyplot as plt\n",
    "from matplotlib import rcParams\n",
    "% matplotlib inline\n",
    "\n",
    "# CSS\n",
    "from IPython.core.display import HTML\n",
    "styles = open(\"custom.css\", \"r\").read()\n",
    "HTML(styles)"
   ]
  },
  {
   "cell_type": "markdown",
   "metadata": {},
   "source": [
    "## Context\n",
    "***\n",
    "This is an introduction to the third party package Pandas<br>\n",
    "Pandas provides high-performance, easy-to-use data structure and data analysis tools for the Python<br>\n",
    "Pandas is particularly useful for people working on data cleansing or data analysis.\n",
    "\n",
    "Others are encouraged to improve and add onto this document; Add each new section in the block just prior to Revision History<br>\n",
    "Use a Double-Point (##) header to automatically add it to the table of contents.\n",
    "\n",
    "Current document location: \\\\bevfs01\\Engineering_Projects\\Training\\Jupyter\\Pandas\\"
   ]
  },
  {
   "cell_type": "markdown",
   "metadata": {},
   "source": [
    "## Useful References\n",
    "***\n",
    "- [10 Minutes to Pandas](https://pandas.pydata.org/pandas-docs/stable/10min.html)\n",
    "- [Pandas Intro at Tutorials Point](https://www.tutorialspoint.com/python_pandas/index.htm)"
   ]
  },
  {
   "cell_type": "markdown",
   "metadata": {},
   "source": [
    "## Series\n",
    "***\n",
    "### Basics\n",
    "A Series is a one-dimensional array like structure with homogeneous data.<br>\n",
    "\n",
    "The constructor:<br>\n",
    "**pandas.Series(data, index, dtype, copy)**\n",
    "- **data**: The data to pass into the Series object; Can be a number, list, numpy array, or dictionary\n",
    "- **index**: Row names default to an integer list, np.arrange(len(data)), but can be specified\n",
    "- **dtype**: Data type is inferred unless specified\n",
    "- **copy**: Defaults to False, but can copy the data that is passed in"
   ]
  },
  {
   "cell_type": "code",
   "execution_count": 2,
   "metadata": {},
   "outputs": [
    {
     "name": "stdout",
     "output_type": "stream",
     "text": [
      "a    1\n",
      "b    2\n",
      "c    3\n",
      "dtype: int64\n"
     ]
    }
   ],
   "source": [
    "# Creating a Series object\n",
    "\n",
    "numbers = [1, 2, 3]\n",
    "letters = ['a', 'b', 'c']\n",
    "print pd.Series(data=numbers, index=letters)"
   ]
  },
  {
   "cell_type": "code",
   "execution_count": 3,
   "metadata": {},
   "outputs": [
    {
     "name": "stdout",
     "output_type": "stream",
     "text": [
      "a    1\n",
      "b    2\n",
      "c    3\n",
      "dtype: int64\n"
     ]
    }
   ],
   "source": [
    "# Which is the same as from a dictionary\n",
    "data = dict(zip(letters, numbers))\n",
    "s = pd.Series(data)\n",
    "print s"
   ]
  },
  {
   "cell_type": "code",
   "execution_count": 4,
   "metadata": {},
   "outputs": [
    {
     "name": "stdout",
     "output_type": "stream",
     "text": [
      "3\n",
      "3\n"
     ]
    }
   ],
   "source": [
    "# Indexing and slicing is applicable\n",
    "print s[-1]\n",
    "\n",
    "# Can also use the index as a label\n",
    "print s['c']"
   ]
  },
  {
   "cell_type": "markdown",
   "metadata": {},
   "source": [
    "### Methods\n",
    "- **axes**: Returns a list of the row axis labels\n",
    "- **dtype**: Returns the dtype of the object\n",
    "- **empty**: Returns True if series is empty\n",
    "- **size**: Returns the number of elements in the underlying data\n",
    "- **values**: Returns the Series as ndarray\n",
    "- **head(n)**: Returns the first n rows\n",
    "- **tail(n)**: Returns the last n rows"
   ]
  },
  {
   "cell_type": "code",
   "execution_count": 5,
   "metadata": {},
   "outputs": [
    {
     "name": "stdout",
     "output_type": "stream",
     "text": [
      "[Index([u'a', u'b', u'c'], dtype='object')]\n"
     ]
    }
   ],
   "source": [
    "# Returns a list of the row axis labels\n",
    "print s.axes"
   ]
  },
  {
   "cell_type": "code",
   "execution_count": 6,
   "metadata": {},
   "outputs": [
    {
     "name": "stdout",
     "output_type": "stream",
     "text": [
      "int64\n"
     ]
    }
   ],
   "source": [
    "# Returns the data type of the object\n",
    "print s.dtype"
   ]
  },
  {
   "cell_type": "code",
   "execution_count": 7,
   "metadata": {},
   "outputs": [
    {
     "name": "stdout",
     "output_type": "stream",
     "text": [
      "False\n"
     ]
    }
   ],
   "source": [
    "# Returns True if series is empty\n",
    "print s.empty"
   ]
  },
  {
   "cell_type": "code",
   "execution_count": 8,
   "metadata": {},
   "outputs": [
    {
     "name": "stdout",
     "output_type": "stream",
     "text": [
      "3\n"
     ]
    }
   ],
   "source": [
    "# Returns the number of elements in the underlying data\n",
    "print s.size"
   ]
  },
  {
   "cell_type": "code",
   "execution_count": 9,
   "metadata": {},
   "outputs": [
    {
     "name": "stdout",
     "output_type": "stream",
     "text": [
      "[1 2 3]\n"
     ]
    }
   ],
   "source": [
    "# Returns the Series as ndarray\n",
    "print s.values"
   ]
  },
  {
   "cell_type": "code",
   "execution_count": 10,
   "metadata": {},
   "outputs": [
    {
     "name": "stdout",
     "output_type": "stream",
     "text": [
      "a    1\n",
      "b    2\n",
      "dtype: int64\n"
     ]
    }
   ],
   "source": [
    "# Returns the first n rows\n",
    "print s.head(2) # Which is the same as s[:2]"
   ]
  },
  {
   "cell_type": "code",
   "execution_count": 11,
   "metadata": {},
   "outputs": [
    {
     "name": "stdout",
     "output_type": "stream",
     "text": [
      "b    2\n",
      "c    3\n",
      "dtype: int64\n"
     ]
    }
   ],
   "source": [
    "# Returns the last n rows\n",
    "print s.tail(2) # Which is the same as s[-2:]"
   ]
  },
  {
   "cell_type": "markdown",
   "metadata": {},
   "source": [
    "## DataFrames\n",
    "***\n",
    "### Basics\n",
    "A DataFrame is a two-dimensional array with heterogeneous data.<br>\n",
    "Think of it as a collection of Series.\n",
    "\n",
    "The Constructor:<br>\n",
    "**pandas.DataFrame( data, index, columns, dtype, copy)**\n",
    "- **data**: The data to pass into the Series object; Can be a list, numpy array, a Series, another DataFrame, or a dictionary\n",
    "- **index**: Row names default to an integer list, np.arrange(len(data)), but can be specified\n",
    "- **columns**: Column names default to an integer list, np.arrange(len(data)), but can be specified\n",
    "- **dtype**: Data type of each column is inferred unless specified\n",
    "- **copy**: Defaults to False, but can copy the data that is passed in"
   ]
  },
  {
   "cell_type": "markdown",
   "metadata": {},
   "source": [
    "DataFrame Creation"
   ]
  },
  {
   "cell_type": "code",
   "execution_count": 12,
   "metadata": {},
   "outputs": [
    {
     "name": "stdout",
     "output_type": "stream",
     "text": [
      "     Name  Age\n",
      "a    Alex   10\n",
      "b     Bob   12\n",
      "c  Clarke   13\n"
     ]
    }
   ],
   "source": [
    "data = [['Alex', 10], ['Bob', 12], ['Clarke', 13]]\n",
    "df = pd.DataFrame(data, index=[\"a\", \"b\", \"c\"], columns=['Name','Age'])\n",
    "print df"
   ]
  },
  {
   "cell_type": "markdown",
   "metadata": {},
   "source": [
    "From a dictionary"
   ]
  },
  {
   "cell_type": "code",
   "execution_count": 13,
   "metadata": {},
   "outputs": [
    {
     "name": "stdout",
     "output_type": "stream",
     "text": [
      "   Age   Name\n",
      "0   28    Tom\n",
      "1   34   Jack\n",
      "2   29  Steve\n",
      "3   42  Ricky\n"
     ]
    }
   ],
   "source": [
    "data = {'Name':['Tom', 'Jack', 'Steve', 'Ricky'],'Age':[28,34,29,42]}\n",
    "df = pd.DataFrame(data)\n",
    "print df"
   ]
  },
  {
   "cell_type": "markdown",
   "metadata": {},
   "source": [
    "Column Selection"
   ]
  },
  {
   "cell_type": "code",
   "execution_count": 14,
   "metadata": {},
   "outputs": [
    {
     "name": "stdout",
     "output_type": "stream",
     "text": [
      "0    28\n",
      "1    34\n",
      "2    29\n",
      "3    42\n",
      "Name: Age, dtype: int64\n"
     ]
    }
   ],
   "source": [
    "print df['Age'] # Same as df.Age"
   ]
  },
  {
   "cell_type": "markdown",
   "metadata": {},
   "source": [
    "### Basic Methods\n",
    "- **T**:Transposes rows and columns\n",
    "- **axes**: Returns a list with the row axis labels and column axis labels as the only members\n",
    "- **dtypes**: Returns the dtypes in this object\n",
    "- **empty**: True if NDFrame is entirely empty [no items]; if any of the axes are of length 0\n",
    "- **ndim**: Number of axes / array dimensions\n",
    "- **shape**: Returns a tuple representing the dimensionality of the DataFrame\n",
    "- **size**: Number of elements in the NDFrame\n",
    "- **values**: Numpy representation of NDFrame\n",
    "- **head()**: Returns the first n rows\n",
    "- **tail()**: Returns last n rows"
   ]
  },
  {
   "cell_type": "code",
   "execution_count": 15,
   "metadata": {},
   "outputs": [
    {
     "name": "stdout",
     "output_type": "stream",
     "text": [
      "        0     1      2      3\n",
      "Age    28    34     29     42\n",
      "Name  Tom  Jack  Steve  Ricky\n"
     ]
    }
   ],
   "source": [
    "# Transposes rows and columns\n",
    "print df.T"
   ]
  },
  {
   "cell_type": "code",
   "execution_count": 16,
   "metadata": {},
   "outputs": [
    {
     "name": "stdout",
     "output_type": "stream",
     "text": [
      "[RangeIndex(start=0, stop=4, step=1), Index([u'Age', u'Name'], dtype='object')]\n"
     ]
    }
   ],
   "source": [
    "# Returns a list with the row axis labels and column axis labels as the only members\n",
    "print df.axes"
   ]
  },
  {
   "cell_type": "code",
   "execution_count": 17,
   "metadata": {},
   "outputs": [
    {
     "name": "stdout",
     "output_type": "stream",
     "text": [
      "Age      int64\n",
      "Name    object\n",
      "dtype: object\n"
     ]
    }
   ],
   "source": [
    "# Returns the dtypes in this object\n",
    "print df.dtypes"
   ]
  },
  {
   "cell_type": "code",
   "execution_count": 18,
   "metadata": {},
   "outputs": [
    {
     "name": "stdout",
     "output_type": "stream",
     "text": [
      "False\n"
     ]
    }
   ],
   "source": [
    "# True if NDFrame is entirely empty [no items]; if any of the axes are of length 0\n",
    "print df.empty"
   ]
  },
  {
   "cell_type": "code",
   "execution_count": 19,
   "metadata": {},
   "outputs": [
    {
     "name": "stdout",
     "output_type": "stream",
     "text": [
      "2\n"
     ]
    }
   ],
   "source": [
    "# Number of axes / array dimensions\n",
    "print df.ndim"
   ]
  },
  {
   "cell_type": "code",
   "execution_count": 20,
   "metadata": {},
   "outputs": [
    {
     "name": "stdout",
     "output_type": "stream",
     "text": [
      "(4, 2)\n"
     ]
    }
   ],
   "source": [
    "# Returns a tuple representing the dimensionality of the DataFrame\n",
    "print df.shape"
   ]
  },
  {
   "cell_type": "code",
   "execution_count": 21,
   "metadata": {},
   "outputs": [
    {
     "name": "stdout",
     "output_type": "stream",
     "text": [
      "8\n"
     ]
    }
   ],
   "source": [
    "# Returns the number of elements in the underlying data\n",
    "print df.size"
   ]
  },
  {
   "cell_type": "code",
   "execution_count": 22,
   "metadata": {},
   "outputs": [
    {
     "name": "stdout",
     "output_type": "stream",
     "text": [
      "[[28L 'Tom']\n",
      " [34L 'Jack']\n",
      " [29L 'Steve']\n",
      " [42L 'Ricky']]\n"
     ]
    }
   ],
   "source": [
    "# Returns the Series as ndarray\n",
    "print df.values"
   ]
  },
  {
   "cell_type": "code",
   "execution_count": 23,
   "metadata": {},
   "outputs": [
    {
     "name": "stdout",
     "output_type": "stream",
     "text": [
      "   Age  Name\n",
      "0   28   Tom\n",
      "1   34  Jack\n"
     ]
    }
   ],
   "source": [
    "# Returns the first n rows\n",
    "print df.head(2) # Which is the same as s[:2]"
   ]
  },
  {
   "cell_type": "code",
   "execution_count": 24,
   "metadata": {},
   "outputs": [
    {
     "name": "stdout",
     "output_type": "stream",
     "text": [
      "   Age   Name\n",
      "2   29  Steve\n",
      "3   42  Ricky\n"
     ]
    }
   ],
   "source": [
    "# Returns the last n rows\n",
    "print df.tail(2) # Which is the same as s[-2:]"
   ]
  },
  {
   "cell_type": "markdown",
   "metadata": {},
   "source": [
    "### Statistical Functions\n",
    "- **sum(axis=1)**: Returns the sum of the row or column\n",
    "- **mean(axis=1)**: Returns a list with the row axis labels and column axis labels as the only members\n",
    "- **std(axis=1)**: Returns the dtypes in this object"
   ]
  },
  {
   "cell_type": "markdown",
   "metadata": {},
   "source": [
    "##  Panels\n",
    "***\n",
    "### Basics\n",
    "A Panel is a three-dimensional data structure with heterogeneous data.<br>\n",
    "Think of it as a collection of DataFrames<br>\n",
    "Panels are not very commonly used\n",
    "\n",
    "The constructor\n",
    "**pandas.Panel(data, items, major_axis, minor_axis, dtype, copy)**\n",
    "- **data**:\tData takes various forms like ndarray, series, map, lists, dict, constants and also another DataFrame\n",
    "- **items**:\taxis=0\n",
    "- **major_axis**:\taxis=1\n",
    "- **minor_axis**:\taxis=2\n",
    "- **dtype**:\tData type of each column\n",
    "- **copy**:\tCopy data. Default, false"
   ]
  },
  {
   "cell_type": "code",
   "execution_count": 25,
   "metadata": {},
   "outputs": [
    {
     "name": "stdout",
     "output_type": "stream",
     "text": [
      "<class 'pandas.core.panel.Panel'>\n",
      "Dimensions: 2 (items) x 2 (major_axis) x 3 (minor_axis)\n",
      "Items axis: 0 to 1\n",
      "Major_axis axis: 0 to 1\n",
      "Minor_axis axis: 0 to 2\n"
     ]
    }
   ],
   "source": [
    "data = np.array( [ [ [1,2,3], [4,5,6] ], [ [1,2,3], [4,5,6] ] ] )\n",
    "p = pd.Panel(data)\n",
    "print p"
   ]
  },
  {
   "cell_type": "markdown",
   "metadata": {},
   "source": [
    "## CSV Files\n",
    "***\n",
    "[The constructor](https://pandas.pydata.org/pandas-docs/stable/generated/pandas.read_csv.html)\n",
    "\n",
    "### An example"
   ]
  },
  {
   "cell_type": "code",
   "execution_count": 26,
   "metadata": {},
   "outputs": [
    {
     "data": {
      "image/png": "[encoded data removed]",
      "text/plain": [
       "<Figure size 1080x720 with 2 Axes>"
      ]
     },
     "metadata": {},
     "output_type": "display_data"
    },
    {
     "data": {
      "image/png": "[encoded data removed]",
      "text/plain": [
       "<Figure size 1080x720 with 2 Axes>"
      ]
     },
     "metadata": {},
     "output_type": "display_data"
    }
   ],
   "source": [
    "rcParams['figure.figsize'] = (15, 10)\n",
    "\n",
    "# .mxd files are in csv format, so the same would work for actual .csv files\n",
    "mxd_files = glob.glob(\".\\\\Data\\\\*.mxd\")  # Grab all mxd files in Data folder\n",
    "\n",
    "for mxd_file in mxd_files:\n",
    "    fig = plt.figure()\n",
    "    ax = fig.add_subplot(111)\n",
    "    \n",
    "    df = pd.read_csv(mxd_file)\n",
    "    df.MJD = df.MJD - df.MJD[0]  # Remove MJD offset to make time axis meaningful\n",
    "    df = df[df.MJD > 0.75]\n",
    "    ax.plot(df.MJD, df[\"F1s\"], 'r')\n",
    "    ax.set_xlabel(\"Time (MJD)\")\n",
    "    ax.set_ylabel(\"Frequency (F1s)\")\n",
    "    ax.tick_params(axis='y', colors='red')\n",
    "    ax.yaxis.label.set_color('red')\n",
    "    \n",
    "    mean = df[\"F1s\"].mean()\n",
    "    std = df[\"F1s\"].std()\n",
    "    ax.set_ylim([mean - 5*std, mean + 5*std])\n",
    "        \n",
    "    ax2 = ax.twinx()\n",
    "    ax2.plot(df.MJD, df[\"ChamberTemp\"], 'b')\n",
    "    ax2.set_ylabel(\"Chamber Temperature (deg C)\")\n",
    "    ax2.tick_params(axis='y', colors='blue')\n",
    "    ax2.yaxis.label.set_color('blue')\n",
    "    ax2.grid()\n",
    "    \n",
    "    plt.title(mxd_file[11:18])\n",
    "    plt.show()"
   ]
  }
 ],
 "metadata": {
  "hide_input": false,
  "kernelspec": {
   "display_name": "Python 2",
   "language": "python",
   "name": "python2"
  },
  "language_info": {
   "codemirror_mode": {
    "name": "ipython",
    "version": 2
   },
   "file_extension": ".py",
   "mimetype": "text/x-python",
   "name": "python",
   "nbconvert_exporter": "python",
   "pygments_lexer": "ipython2",
   "version": "2.7.14"
  },
  "latex_envs": {
   "LaTeX_envs_menu_present": true,
   "autoclose": false,
   "autocomplete": true,
   "bibliofile": "biblio.bib",
   "cite_by": "apalike",
   "current_citInitial": 1,
   "eqLabelWithNumbers": true,
   "eqNumInitial": 1,
   "hotkeys": {
    "equation": "Ctrl-E",
    "itemize": "Ctrl-I"
   },
   "labels_anchors": false,
   "latex_user_defs": false,
   "report_style_numbering": false,
   "user_envs_cfg": false
  },
  "toc": {
   "nav_menu": {
    "height": "371px",
    "width": "252px"
   },
   "number_sections": false,
   "sideBar": false,
   "skip_h1_title": true,
   "title_cell": "Table of Contents",
   "title_sidebar": "Contents",
   "toc_cell": false,
   "toc_position": {
    "height": "814px",
    "left": "1px",
    "right": "20px",
    "top": "108px",
    "width": "255px"
   },
   "toc_section_display": true,
   "toc_window_display": true
  },
  "varInspector": {
   "cols": {
    "lenName": 16,
    "lenType": 16,
    "lenVar": 40
   },
   "kernels_config": {
    "python": {
     "delete_cmd_postfix": "",
     "delete_cmd_prefix": "del ",
     "library": "var_list.py",
     "varRefreshCmd": "print(var_dic_list())"
    },
    "r": {
     "delete_cmd_postfix": ") ",
     "delete_cmd_prefix": "rm(",
     "library": "var_list.r",
     "varRefreshCmd": "cat(var_dic_list()) "
    }
   },
   "types_to_exclude": [
    "module",
    "function",
    "builtin_function_or_method",
    "instance",
    "_Feature"
   ],
   "window_display": false
  }
 },
 "nbformat": 4,
 "nbformat_minor": 2
}
