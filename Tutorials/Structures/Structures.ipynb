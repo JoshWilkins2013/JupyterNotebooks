{
 "cells": [
  {
   "cell_type": "markdown",
   "metadata": {
    "slideshow": {
     "slide_type": "-"
    }
   },
   "source": [
    "# Data Structures in Python\n",
    "***\n",
    "**Josh Wilkins<br>3/14/2018**"
   ]
  },
  {
   "cell_type": "code",
   "execution_count": 1,
   "metadata": {
    "code_folding": [
     0
    ],
    "hide_input": true
   },
   "outputs": [
    {
     "data": {
      "text/html": [
       "<style>\n",
       "\tdiv.cell{\n",
       "\t\twidth: 95%;\n",
       "\t\tmargin-left:auto;\n",
       "\t\tmargin-right:auto;\n",
       "\t}\n",
       "\t.output_png{\n",
       "\t\ttext-align: center;\n",
       "\t\tmargin-left:auto;\n",
       "\t\tmargin-right:auto;\n",
       "\t}\n",
       "\tdiv.text_cell_render{\n",
       "\t\tfont-family:\"Calibri (Body)\";\n",
       "\t\tfont-size: 16px;\n",
       "\t\twidth: 100%;\n",
       "\t\tmargin-left:auto;\n",
       "\t\tmargin-right:auto;\n",
       "\t\tpadding: 0;\n",
       "\t}\n",
       "\t.prompt{\n",
       "\t\tdisplay: None;\n",
       "\t}\n",
       "\t.anchor-link{\n",
       "\t\tdisplay: None;\n",
       "\t}\n",
       "\t.output_stderr{\n",
       "\t\tdisplay: None;\n",
       "\t}\n",
       "\thr{\n",
       "\t\tborder-color: black;\n",
       "\t}\n",
       "</style>"
      ],
      "text/plain": [
       "<IPython.core.display.HTML object>"
      ]
     },
     "execution_count": 1,
     "metadata": {},
     "output_type": "execute_result"
    }
   ],
   "source": [
    "# CSS\n",
    "\n",
    "from IPython.core.display import HTML\n",
    "styles = open(\"custom.css\", \"r\").read()\n",
    "HTML(styles)"
   ]
  },
  {
   "cell_type": "markdown",
   "metadata": {
    "slideshow": {
     "slide_type": "-"
    }
   },
   "source": [
    "## Context\n",
    "***\n",
    "This is an intro into python data structures including lists, strings, numpy arrays, and more.<br>\n",
    "Others are encouraged to improve and add onto this document; Add each new section in the block just prior to Revision History<br>\n",
    "Use a Double-Point (##) header to automatically add it to the table of contents.\n",
    "\n",
    "Current document location: \\\\bevfs01\\Engineering_Projects\\Training\\Jupyter\\Structures\\"
   ]
  },
  {
   "cell_type": "markdown",
   "metadata": {
    "slideshow": {
     "slide_type": "-"
    }
   },
   "source": [
    "## Useful References\n",
    "***\n",
    "- [Introduction to Python - The Python Guru](http://thepythonguru.com/)\n",
    "- [Python Tutorial at Tutorials Point](https://www.tutorialspoint.com/python/index.htm)\n",
    "- [Exception Handling](https://stackoverflow.com/questions/16138232/is-it-a-good-practice-to-use-try-except-else-in-python)"
   ]
  },
  {
   "cell_type": "markdown",
   "metadata": {},
   "source": [
    "## Numbers\n",
    "***\n",
    "### Numeric Types\n",
    "\n",
    "- **int** (signed integers): Integers or ints are positive or negative whole numbers with no decimal point\n",
    "- **long** (long integers): Also called longs, they are integers of unlimited size, written like integers and followed by an uppercase or lowercase L\n",
    "- **float** (floating point): Floats are written with a decimal point. Floats may also be in scientific notation, with e or E indicating the power of 10\n",
    "- **complex** (complex numbers): In the form a + bj, where a and b are floats and j (or J) is the imaginary number $\\sqrt{-1}$."
   ]
  },
  {
   "cell_type": "code",
   "execution_count": null,
   "metadata": {
    "collapsed": true
   },
   "outputs": [],
   "source": [
    "# Assignments types are implicit, no need to declare it as an int\n",
    "x = 3  # Ints are signed integers\n",
    "print type(x)"
   ]
  },
  {
   "cell_type": "code",
   "execution_count": null,
   "metadata": {
    "collapsed": true
   },
   "outputs": [],
   "source": [
    "# Any integer needing more precision is a long integer\n",
    "x = 9876543210\n",
    "print type(x)"
   ]
  },
  {
   "cell_type": "code",
   "execution_count": null,
   "metadata": {
    "collapsed": true
   },
   "outputs": [],
   "source": [
    "# Anything with a decimal is recognized as a float\n",
    "x = 3.\n",
    "print type(x)"
   ]
  },
  {
   "cell_type": "code",
   "execution_count": null,
   "metadata": {
    "collapsed": true
   },
   "outputs": [],
   "source": [
    "# Complex numbers represented with a j\n",
    "x = 1 + 2j\n",
    "x = complex(1, 2)  # Can also be made by casting two numbers with complex()\n",
    "print type(x)\n",
    "\n",
    "# Can grab the real and imaginary parts of a complex number\n",
    "print x.real\n",
    "print x.imag"
   ]
  },
  {
   "cell_type": "markdown",
   "metadata": {},
   "source": [
    "### Casting\n",
    "Casting is the process of coercing a number explicitly from one type to another"
   ]
  },
  {
   "cell_type": "code",
   "execution_count": null,
   "metadata": {
    "collapsed": true
   },
   "outputs": [],
   "source": [
    "# Changing data types is fairly straightforward\n",
    "x = 2  # Is an integer\n",
    "print type(x)\n",
    "\n",
    "# Convert to a float\n",
    "x = float(x)\n",
    "print type(x)\n",
    "\n",
    "# Convert to a long integer\n",
    "x = long(x)\n",
    "print type(x)\n",
    "\n",
    "# Convert to a complex number\n",
    "x = complex(x) # Same as complex(x, 0)\n",
    "print x\n",
    "print type(x)"
   ]
  },
  {
   "cell_type": "markdown",
   "metadata": {},
   "source": [
    "### Numeric Functions\n",
    "A list of the most useful mathematical expressions in python (not extensive). Can either use the numpy package or the math package.<br>\n",
    "[Here is a more extensive list](https://www.tutorialspoint.com/python/python_numbers.htm)\n",
    "- **abs(x)**: Absolute value\n",
    "- **exp(x)**: $e^x$\n",
    "- **log(x)**: Log base e of x\n",
    "- **log10(x)**: Log base 10 of x\n",
    "- **sqrt(x)**: $\\sqrt{x}$\n",
    "- **round(x, n)**: Rounds a number to n places"
   ]
  },
  {
   "cell_type": "code",
   "execution_count": null,
   "metadata": {
    "collapsed": true
   },
   "outputs": [],
   "source": [
    "import math as m\n",
    "import numpy as np\n",
    "\n",
    "x = -5.555\n",
    "x = abs(x)\n",
    "print x  # Absolute value of x\n",
    "print m.exp(x)    # e^x\n",
    "print np.log(x)   # log(x)\n",
    "print m.log10(x)  # log10(x)\n",
    "print np.sqrt(x)  # Square-root of x\n",
    "print round(x, 1) # Rounding x to tenths place"
   ]
  },
  {
   "cell_type": "markdown",
   "metadata": {},
   "source": [
    "### Additional Information"
   ]
  },
  {
   "cell_type": "markdown",
   "metadata": {},
   "source": [
    "Difference between math and numpy packages:\n",
    "\n",
    "The **math** package is part of the standard python library. It provides functions for basic mathematical operations as well as some commonly used constants. Use the math package if you are doing simple computations with only with scalars (and no lists or arrays). [Math functions and methods](https://docs.python.org/2/library/math.html)\n",
    "\n",
    "The **numpy** package is a third party package geared towards scientific computing. It is the defacto package for numerical and vector operations in python. It provides several routines optimized for vector and array computations as a result, is a lot faster for such operations than say just using python lists. Use numpy if you are doing scientific computations with matrices, arrays, or large datasets. [Numpy functions & methods](https://docs.scipy.org/doc/numpy-1.13.0/reference/routines.math.html)"
   ]
  },
  {
   "cell_type": "code",
   "execution_count": null,
   "metadata": {
    "collapsed": true
   },
   "outputs": [],
   "source": [
    "# Integer division\n",
    "\n",
    "# Careful, if both numbers are integers, the resultant will be an integer\n",
    "print 1 / 2    # Results in 0 because both numbers are integers\n",
    "print 1.0 / 2  # But if either number is a float\n",
    "print 1 / 2.0  # The result will be a float\n",
    "\n",
    "# Rounding\n",
    "print round(3.0 / 2.0)"
   ]
  },
  {
   "cell_type": "markdown",
   "metadata": {},
   "source": [
    "## Lists\n",
    "***\n",
    "### Basics\n",
    "List creation, indexing and slicing"
   ]
  },
  {
   "cell_type": "code",
   "execution_count": null,
   "metadata": {
    "collapsed": true
   },
   "outputs": [],
   "source": [
    "# List creation, indexing, and slicing\n",
    "\n",
    "# List creation, note the data types do not have to be the same\n",
    "# But its common for them to be of all one data type\n",
    "l = [1, '2', 3.0]\n",
    "print l\n",
    "\n",
    "# Can also create a repeated list like a list of ones\n",
    "l = [1] * 4\n",
    "print l\n",
    "\n",
    "# Can also cast things to list (not really useful here, but sometimes comes in handy)\n",
    "l = list([1, 2, 3, 4, 5])\n",
    "print l\n",
    "\n",
    "# Indexing\n",
    "print l[0]  # Python is zero index (first element is l[0])\n",
    "print l[-1] # Can index from end of list using negative numbers\n",
    "\n",
    "# Slicing   # Use : to 'slice' list in a from:to format\n",
    "print l[1:3]\n",
    "\n",
    "# Last n elements\n",
    "print l[-2:]  # Can index from end of list using negative numbers\n",
    "\n",
    "# Up to last element\n",
    "print l[:-1]"
   ]
  },
  {
   "cell_type": "markdown",
   "metadata": {},
   "source": [
    "### List Functions\n",
    "A list of the most useful list functions in python (not extensive)<br>\n",
    "[Here is a more extensive list](https://www.tutorialspoint.com/python/python_lists.htm)\n",
    "\n",
    "- **min(list)**: Returns the lowest value in a list\n",
    "- **max(list)**: Returns the highest value in a list\n",
    "- **len(list)**: Returns the number of elements in a list\n",
    "- **sum(list)**: Returns the sum of the elements in a list"
   ]
  },
  {
   "cell_type": "code",
   "execution_count": null,
   "metadata": {
    "collapsed": true
   },
   "outputs": [],
   "source": [
    "# List functions\n",
    "\n",
    "# Create list to modify\n",
    "l = [3, 2, 1]\n",
    "print l\n",
    "\n",
    "x = min(l)  # Minimum value from list\n",
    "print \"min: \" + str(x)  # Can printout by concatenating strings (will get into later)\n",
    "\n",
    "x = max(l)  # Maximum value from list\n",
    "print \"max: %d\" % x  # Or by using this format for printing\n",
    "\n",
    "x = sum(l)  # Sum of all values in list\n",
    "print \"sum: %s\" % x  # Can also cast in printout (valid casts: %d, %f, %s)\n",
    "\n",
    "x = len(l)  # Length of list (cardinality or number of elements)\n",
    "print \"length: %0.1f elements\" % x  # Can specify sigfigs on floats with %X.Xf"
   ]
  },
  {
   "cell_type": "markdown",
   "metadata": {},
   "source": [
    "### List Methods\n",
    "A list of the most useful list methods in python (not extensive)<br>\n",
    "[Here is a more extensive list](https://www.tutorialspoint.com/python/python_lists.htm)\n",
    "\n",
    "- **append(item)**: Appends an item to a list\n",
    "- **extend(list)**: Appends a list to a list\n",
    "- **sort(list)**: Sorts a list lowest to highest value\n",
    "- **reverse(list)**: Reverses the order of a list"
   ]
  },
  {
   "cell_type": "code",
   "execution_count": null,
   "metadata": {
    "collapsed": true
   },
   "outputs": [],
   "source": [
    "# List methods\n",
    "\n",
    "# Create list to modify\n",
    "l = [2, 1]\n",
    "print l\n",
    "\n",
    "# Adding elements to a list\n",
    "l.append(7)\n",
    "print l\n",
    "\n",
    "# Adding two lists\n",
    "l += [6, 5]  # Can add two lists (l = l + [4, 5, 6])\n",
    "print l\n",
    "\n",
    "l.extend([4, 3])  # Can also extend the list with another\n",
    "print l\n",
    "\n",
    "# Sorting the list\n",
    "l.sort()  # Can also use sorted(l)\n",
    "print l\n",
    "\n",
    "# Reversign a list\n",
    "l.reverse()\n",
    "print l"
   ]
  },
  {
   "cell_type": "markdown",
   "metadata": {},
   "source": [
    "### Aliasing\n",
    "\n",
    "Assigning a list to another list merely creates a pointer to the original list's memory location and does not create another object. Two variables with the same memory address but different variable names are considered aliased. Aliasing makes python memory and speed efficient; Its basically always using pointers instead of creating new objects every time an assignment is made. Only mutable objects have this aliasing property<br>\n",
    "See [here](http://henry.precheur.org/python/copy_list.html) for additional information"
   ]
  },
  {
   "cell_type": "code",
   "execution_count": null,
   "metadata": {
    "code_folding": [],
    "collapsed": true
   },
   "outputs": [],
   "source": [
    "# Aliasing\n",
    "\n",
    "# Create list and 'copy' it\n",
    "l1 = [1, 2, 3]\n",
    "l2 = l1\n",
    "\n",
    "# The memory addresses of the two lists are the same, meaning it is the same list\n",
    "print id(l1)\n",
    "print id(l2)\n",
    "\n",
    "# Note l1 and l2 point to the same memory location\n",
    "# So chaning one will alter the other\n",
    "l2[0] = 100\n",
    "print l1\n",
    "\n",
    "# One way is to create an empty list, then extend it\n",
    "l2 = []\n",
    "l2.extend(l1)\n",
    "\n",
    "# Show that the memory addresses are different\n",
    "print id(l1)!=id(l2)\n",
    "\n",
    "# Another way is to just cast list one into another list\n",
    "l3 = list(l1)\n",
    "print id(l1)!=id(l3)"
   ]
  },
  {
   "cell_type": "markdown",
   "metadata": {},
   "source": [
    "### Misc List Info\n",
    "Nested lists and memory management"
   ]
  },
  {
   "cell_type": "code",
   "execution_count": null,
   "metadata": {
    "collapsed": true
   },
   "outputs": [],
   "source": [
    "# Nested lists\n",
    "\n",
    "l = [[1], [2, 3], [4]]\n",
    "print l\n",
    "\n",
    "# Indexing nested list\n",
    "print l[1]  # Will return list\n",
    "print l[1][0] # Will return the first element of that list\n",
    "\n",
    "# Removing elements or lists from memory the first element in a list\n",
    "del l[1]  # Use del to remove things from memory\n",
    "print l"
   ]
  },
  {
   "cell_type": "markdown",
   "metadata": {},
   "source": [
    "## Sets\n",
    "***\n",
    "A set is essentially an unordered collection of elements that is iterable, mutable, and has no duplicate elements.<br>\n",
    "They seem to be far less common than lists in python."
   ]
  },
  {
   "cell_type": "code",
   "execution_count": null,
   "metadata": {
    "collapsed": true
   },
   "outputs": [],
   "source": [
    "# Create a set\n",
    "s = {1, 2, 3, 3, \"3\"}\n",
    "print type(s)\n",
    "\n",
    "# By creating a set, the duplicates are removed\n",
    "print s\n",
    "\n",
    "# Sets are mutable\n",
    "s.add(9)\n",
    "print s\n",
    "\n",
    "# Unless they are frozen\n",
    "s = frozenset(['a', 'b', 'c'])\n",
    "\n",
    "# Which means they can no longer be changed\n",
    "# s.add('d') # Would cause an error\n",
    "\n",
    "# Also sets are not indexable\n",
    "# print s[0] # Causes error, sets are not indexable\n",
    "\n",
    "# A useful scenario if you want to remove the duplicates from a list\n",
    "# Just cast it to a set, then back to a list\n",
    "l = [1, 2, 3, 3, 3]\n",
    "l = list(set(l))\n",
    "print l"
   ]
  },
  {
   "cell_type": "markdown",
   "metadata": {},
   "source": [
    "### Set Methods\n",
    "\n",
    "- **union(set)**: Returns the union of two sets. Same as Set1 | Set2\n",
    "- **intersect(set)**: Returns the intersection of two sets. Same as Set1 & Set2 "
   ]
  },
  {
   "cell_type": "markdown",
   "metadata": {},
   "source": [
    "## Strings\n",
    "***\n",
    "Strings in python are essentially immutable lists.<br>\n",
    "This means that most of the rules that apply to lists also apply to strings.<br>\n",
    "Strings are immutable however which means they cannot be changed inplace; To alter a string, a new string must be created."
   ]
  },
  {
   "cell_type": "code",
   "execution_count": null,
   "metadata": {
    "collapsed": true
   },
   "outputs": [],
   "source": [
    "# String creation, indexing and slicing\n",
    "\n",
    "# Create string\n",
    "string = \"ABCDEF\"\n",
    "\n",
    "# Essentially treat as a list of characters\n",
    "# So indexing applies\n",
    "print string[0]\n",
    "\n",
    "# Slicing also applies\n",
    "print string[:3]\n",
    "\n",
    "# And min/max/len functions work\n",
    "print len(string)\n",
    "\n",
    "# But strings are immutable, they cannot be changed\n",
    "# string[0] = 'Q'  # Would cause an error"
   ]
  },
  {
   "cell_type": "markdown",
   "metadata": {},
   "source": [
    "### String Methods\n",
    "\n",
    "A list of the most useful string methods in python (not extensive).<br>\n",
    "[Here is a more extensive list](https://www.tutorialspoint.com/python/python_strings.htm)<br>\n",
    "\n",
    "- **upper()**: Makes entire string uppercase\n",
    "- **lower()**: Makes entire string lowercase\n",
    "- **title()**: Capitalizes first letter of every word \n",
    "- **strip([chars])**: Removes leading and trailing characters\n",
    "- **replace(char, char)**: Replaces all instances of the specified character with another character\n",
    "- **split([chars])**: Returns list of strings, split by the specified character"
   ]
  },
  {
   "cell_type": "code",
   "execution_count": null,
   "metadata": {
    "collapsed": true
   },
   "outputs": [],
   "source": [
    "# String methods\n",
    "string = \"My, StRiNg\"\n",
    "\n",
    "# Uppercase\n",
    "string = string.upper()\n",
    "print string\n",
    "\n",
    "# Lowercase\n",
    "string = string.lower()\n",
    "print string\n",
    "\n",
    "# Title format\n",
    "string = string.title()\n",
    "print string\n",
    "\n",
    "# Stripping strings\n",
    "string = string.strip()  # Removes all leading and trailing whitespace in string\n",
    "\n",
    "# Replacing characters\n",
    "string = string.replace(' ', '')  # Removing all whitespace\n",
    "print string\n",
    "\n",
    "# Splitting strings\n",
    "print string.split(',')\n",
    "\n",
    "# You can also combine methods\n",
    "string = \"My, StRiNg\"\n",
    "print string.title().replace(' ', '').split(',')"
   ]
  },
  {
   "cell_type": "markdown",
   "metadata": {},
   "source": [
    "### Misc String Info\n",
    "\n",
    "Identical strings have the same memory address"
   ]
  },
  {
   "cell_type": "code",
   "execution_count": null,
   "metadata": {
    "collapsed": true
   },
   "outputs": [],
   "source": [
    "s1 = \"string\"\n",
    "s2 = \"string\"\n",
    "print id(s1)\n",
    "print id(s2)"
   ]
  },
  {
   "cell_type": "markdown",
   "metadata": {},
   "source": [
    "## Numpy Arrays\n",
    "***\n",
    "[Matlab Equivalencies](https://docs.scipy.org/doc/numpy-dev/user/numpy-for-matlab-users.html)<br>\n",
    "[In-depth Tutorials](https://www.tutorialspoint.com/numpy/index.htm)"
   ]
  },
  {
   "cell_type": "code",
   "execution_count": null,
   "metadata": {
    "collapsed": true
   },
   "outputs": [],
   "source": [
    "# Numpy\n",
    "\n",
    "import numpy as np\n",
    "\n",
    "arr1 = np.array([1, 2, 3])\n",
    "print type(arr1)\n",
    "print arr1\n",
    "\n",
    "# Operations are performed element-wise\n",
    "arr2 = np.array([1, 2, 3]).T\n",
    "print arr1*arr2\n",
    "print arr1 + arr2\n",
    "\n",
    "# The dot product of two arrays. For 2-D vectors, it is the equivalent to matrix multiplication.\n",
    "print arr1.dot(arr2)\n",
    "\n",
    "# Matrix product of two arrays\n",
    "print np.matmul(arr2, arr1)\n",
    "\n",
    "# Always use numpy arrays instead of lists for any mathematical operations\n",
    "list1 = [1, 2, 3]\n",
    "list2 = [1, 2, 3]\n",
    "print list1 + list2"
   ]
  },
  {
   "cell_type": "markdown",
   "metadata": {},
   "source": [
    "## Tuples\n",
    "***\n",
    "### Basics\n",
    "A tuple is a sequence of immutable Python objects<br>\n",
    "The general len/min/max functions work with tuples, indexing and slicing work<br>\n",
    "[More on tuples here](https://www.tutorialspoint.com/python/python_tuples.htm)"
   ]
  },
  {
   "cell_type": "code",
   "execution_count": null,
   "metadata": {
    "collapsed": true
   },
   "outputs": [],
   "source": [
    "# Creating a tuple\n",
    "tup1 = ('physics', 'chemistry', 1997, 2000);\n",
    "tup2 = (1, 2, 3, 4, 5 );\n",
    "tup3 = \"a\", \"b\", \"c\", \"d\";\n",
    "print type(tup1)\n",
    "print tup1"
   ]
  },
  {
   "cell_type": "markdown",
   "metadata": {},
   "source": [
    "## Time and DateTime\n",
    "***\n",
    "The **time** module handles the collection of time data from the device or platform (See [here](https://docs.python.org/3/library/time.html))<br>\n",
    "Not to be confused with the **datetime** module that handles time information (See [here](https://docs.python.org/3/library/datetime.html))<br>\n",
    "For additional date time object help and conversion, try the astropy package [here](http://docs.astropy.org/en/stable/time/index.html)"
   ]
  },
  {
   "cell_type": "markdown",
   "metadata": {},
   "source": [
    "### Time Module\n",
    "This module provides various time-related functions.<br>\n",
    "Although this module is always available, not all functions are available on all platforms."
   ]
  },
  {
   "cell_type": "code",
   "execution_count": null,
   "metadata": {
    "collapsed": true
   },
   "outputs": [],
   "source": [
    "# Timing a function\n",
    "\n",
    "import time\n",
    "\n",
    "start = time.time()\n",
    "time.sleep(0.25)  # Do something here (example wait in seconds)\n",
    "end = time.time()\n",
    "\n",
    "elapsed = end - start\n",
    "print(elapsed)"
   ]
  },
  {
   "cell_type": "markdown",
   "metadata": {},
   "source": [
    "### Datetime Module: Time\n",
    "A time instance only holds values of time, and not a date associated with the time<br>\n",
    "See [here](https://pymotw.com/2/datetime/) for more information on the datetime module"
   ]
  },
  {
   "cell_type": "code",
   "execution_count": null,
   "metadata": {
    "collapsed": true
   },
   "outputs": [],
   "source": [
    "# The time class in the datetime package\n",
    "\n",
    "from datetime import time\n",
    "\n",
    "t = time(1, 2, 3, 4)\n",
    "print t\n",
    "print type(t)\n",
    "print 'hour  :', t.hour\n",
    "print 'minute:', t.minute\n",
    "print 'second:', t.second\n",
    "\n",
    "# Highest resoultion of time object is integer microseconds\n",
    "print 'microsecond:', t.microsecond"
   ]
  },
  {
   "cell_type": "markdown",
   "metadata": {},
   "source": [
    "### Datetime Module: Date\n",
    "A date instance only holds date values and not a time associated with the date."
   ]
  },
  {
   "cell_type": "code",
   "execution_count": null,
   "metadata": {
    "collapsed": true
   },
   "outputs": [],
   "source": [
    "# The date class in the datetime package\n",
    "\n",
    "from datetime import date\n",
    "\n",
    "today = date.today()\n",
    "print type(today)\n",
    "print today\n",
    "print 'Year  :', today.year\n",
    "print 'Month :', today.month\n",
    "\n",
    "# The resolution for date objects is integer days\n",
    "print 'Day   :', today.day"
   ]
  },
  {
   "cell_type": "markdown",
   "metadata": {},
   "source": [
    "### Datetime Module: Datetime\n",
    "A datetime instance holds both the date and the time."
   ]
  },
  {
   "cell_type": "code",
   "execution_count": null,
   "metadata": {
    "collapsed": true
   },
   "outputs": [],
   "source": [
    "# The datetime class in the datetime package\n",
    "\n",
    "from datetime import datetime\n",
    "\n",
    "t = datetime.now()\n",
    "print type(t)\n",
    "print t\n",
    "print 'Year  :', today.year\n",
    "print 'Month :', today.month\n",
    "print 'Day   :', today.day\n",
    "print 'hour  :', t.hour\n",
    "print 'minute:', t.minute\n",
    "print 'second:', t.second\n",
    "print 'micro :', t.microsecond"
   ]
  },
  {
   "cell_type": "markdown",
   "metadata": {},
   "source": [
    "### Datetime Module: Timedelta\n",
    "Class in datetime module that handles time deltas. Holds only days, seconds, and microseconds data"
   ]
  },
  {
   "cell_type": "code",
   "execution_count": null,
   "metadata": {
    "collapsed": true
   },
   "outputs": [],
   "source": [
    "from datetime import datetime as dt\n",
    "import time\n",
    "\n",
    "t1 = dt.now()\n",
    "time.sleep(0.25)\n",
    "t2 = dt.now()\n",
    "\n",
    "elapsed = t2-t1\n",
    "print elapsed\n",
    "print type(elapsed)\n",
    "print elapsed.total_seconds()"
   ]
  },
  {
   "cell_type": "markdown",
   "metadata": {},
   "source": [
    "## Dictionaries\n",
    "***\n",
    "Dictionaries are essentially two lists tied together in a key:value pair.<br>\n",
    "A more precise way of putting it is a dictionary is a list of length 2 tuples where every key has a corresponding value.<br>\n",
    "[More on dictionaries here](https://www.tutorialspoint.com/python/python_dictionary.htm)\n",
    "\n",
    "### Basics\n",
    "Dictionary creation, keys and values."
   ]
  },
  {
   "cell_type": "code",
   "execution_count": null,
   "metadata": {
    "collapsed": true
   },
   "outputs": [],
   "source": [
    "# Dictionary creation, keys, and values\n",
    "\n",
    "# Create Dictionary\n",
    "d = {'name' : 'Jack', 'age' : 26, 'city' : 'Boston', 'foods' : ['Pizza', 'Spaghetti', 'Onions']}\n",
    "print type(d)\n",
    "print d\n",
    "print d.keys()   # Country\n",
    "print d.values() # Un-meaningful Value"
   ]
  },
  {
   "cell_type": "markdown",
   "metadata": {},
   "source": [
    "### Converting Lists\n",
    "One useful approach to creating a dictionary is to create two separate lists of equal length, convert them into paired tuples, and then convert them into a dictionary. This is typically done with the zip() function."
   ]
  },
  {
   "cell_type": "code",
   "execution_count": null,
   "metadata": {
    "collapsed": true
   },
   "outputs": [],
   "source": [
    "# Dictionary from two lists\n",
    "\n",
    "# Create the two lists\n",
    "keys = ['name', 'age', 'city']\n",
    "values = ['Jack', 26, 'Boston']\n",
    "\n",
    "# Create a list of tuples\n",
    "tup = zip(keys, values)\n",
    "print type(tup)\n",
    "print type(tup[0])\n",
    "print tup\n",
    "\n",
    "# Then cast it to a dictionary\n",
    "d = dict(tup)\n",
    "print d"
   ]
  },
  {
   "cell_type": "markdown",
   "metadata": {},
   "source": [
    "### Ordered Dictionaries\n",
    "\n",
    "Dictionaries in python don't normally hold their order.<br>\n",
    "If you need to maintain order, use an OrderedDict"
   ]
  },
  {
   "cell_type": "code",
   "execution_count": null,
   "metadata": {
    "collapsed": true
   },
   "outputs": [],
   "source": [
    "from collections import OrderedDict\n",
    "d = OrderedDict(sorted(tup))  # Sorts on key\n",
    "print d"
   ]
  },
  {
   "cell_type": "markdown",
   "metadata": {},
   "source": [
    "## Flow Control\n",
    "***\n",
    "\n",
    "### Basics\n",
    "- **break**: Ends the loop\n",
    "- **continue**: Jump to the next iteration in the loop\n",
    "- **pass**: Do nothing (no-op)"
   ]
  },
  {
   "cell_type": "code",
   "execution_count": null,
   "metadata": {
    "collapsed": true
   },
   "outputs": [],
   "source": [
    "# Flow Control\n",
    "\n",
    "# The for loop\n",
    "for i in range(10):\n",
    "    if i == 4:\n",
    "        break  # End the for loop at i == 4\n",
    "    elif i == 1:\n",
    "        continue  # Go to next i (in this case 2)\n",
    "    elif i == 0:\n",
    "        pass  # Do nothing\n",
    "    else:\n",
    "        print i\n",
    "\n",
    "# A while loop\n",
    "i = 0\n",
    "while i < 3:\n",
    "    if i == 2:\n",
    "        print \"While Loop Success\"\n",
    "    else:\n",
    "        pass\n",
    "    i += 1  # Same as i = i + 1"
   ]
  },
  {
   "cell_type": "markdown",
   "metadata": {},
   "source": [
    "## Iterators\n",
    "***\n",
    "### Dictionary Iterations\n",
    "Can loop through either the dictionary keys, values or both at the same time."
   ]
  },
  {
   "cell_type": "code",
   "execution_count": null,
   "metadata": {
    "collapsed": true
   },
   "outputs": [],
   "source": [
    "# Looping through dictionaries\n",
    "\n",
    "d = {'name' : 'Jack', 'age' : 26, 'city' : 'Boston', 'foods' : ['Pizza', 'Spaghetti', 'Onions']}\n",
    "\n",
    "# Can loop through just the keys or values\n",
    "# print \"Keys:\"\n",
    "# for key in d.keys():\n",
    "#     print key\n",
    "\n",
    "# print \"\\nValues:\"\n",
    "# for val in d.values():\n",
    "#     print val\n",
    "\n",
    "# Or over both the keys and the items\n",
    "for key, val in d.iteritems():\n",
    "    print \"%s : %s\" % (key, val)"
   ]
  },
  {
   "cell_type": "markdown",
   "metadata": {},
   "source": [
    "### List Comprehension\n",
    "Shorthand iterated list creation while possible addition of conditionals."
   ]
  },
  {
   "cell_type": "code",
   "execution_count": null,
   "metadata": {
    "collapsed": true
   },
   "outputs": [],
   "source": [
    "# List Comprehension\n",
    "\n",
    "# Create list\n",
    "numbers = np.arange(10)  # Integer list from 0-9\n",
    "\n",
    "# Basic list comprehension, grab first three elements of numbers\n",
    "new_numbers = [ x for x in numbers[:3] ]\n",
    "print new_numbers\n",
    "\n",
    "# Which is equivalent to\n",
    "new_numbers = []\n",
    "for x in numbers[:3]:\n",
    "    new_numbers.append(x)\n",
    "print new_numbers\n",
    "\n",
    "# Can add conditional statements to list comprehension\n",
    "evens = [x for x in numbers if x % 2 == 0]  # Grab just the evens into a list\n",
    "print evens\n",
    "\n",
    "# Can also modify the element before it goes into the new list\n",
    "even_strings = [str(x) for x in numbers if x % 2 == 0]  # Grab just the evens into a list\n",
    "print even_strings\n",
    "\n",
    "# Just so its clear, this is equivalent to\n",
    "even_strings = []\n",
    "for x in numbers:\n",
    "    if x % 2 == 0:\n",
    "        even_strings.append(str(x))\n",
    "print even_strings"
   ]
  },
  {
   "cell_type": "markdown",
   "metadata": {},
   "source": [
    "### Misc\n",
    "\n",
    "The enumerate and range functions"
   ]
  },
  {
   "cell_type": "code",
   "execution_count": null,
   "metadata": {
    "collapsed": true
   },
   "outputs": [],
   "source": [
    "# Enumerate\n",
    "\n",
    "# Create the list\n",
    "l = [\"a\", \"b\", \"c\"]\n",
    "\n",
    "for item in enumerate(l):\n",
    "    print item  # enumerate creates a tuple\n",
    "\n",
    "# So you can split the tuple in the for loop\n",
    "for count, item in enumerate(l):\n",
    "    print str(count) + \" : \" + item\n",
    "    \n",
    "for i in range(2):\n",
    "    print i"
   ]
  },
  {
   "cell_type": "markdown",
   "metadata": {},
   "source": [
    "### Lambda Functions\n",
    "Creating anonymous functions on the fly<br>\n",
    "Generally used in conjunction with map(), filter(), and reduce();<br>\n",
    "because these functions require a function as an argument:\n",
    "- **map(function, list)**: Applies the function to all the items the list\n",
    "- **filter(function, list)**: Creates a list of elements for which a function returns true\n",
    "- **reduce(function, list)**: Applies a rolling computation to sequential pairs of values in a list"
   ]
  },
  {
   "cell_type": "code",
   "execution_count": null,
   "metadata": {
    "collapsed": true
   },
   "outputs": [],
   "source": [
    "arr = np.arange(6)\n",
    "\n",
    "# Grab even numbers from array\n",
    "print filter(lambda x: x % 2 == 0, arr)\n",
    "\n",
    "# Double each element of x\n",
    "print map(lambda x: x * 2, arr)\n",
    "\n",
    "# Returns sum of array\n",
    "print reduce(lambda x, y: x + y, arr)"
   ]
  },
  {
   "cell_type": "code",
   "execution_count": null,
   "metadata": {
    "collapsed": true
   },
   "outputs": [],
   "source": [
    "# Applying multiple functions on the same object\n",
    "\n",
    "def multiply(x):\n",
    "    return (x * x)\n",
    "\n",
    "def add(x):\n",
    "    return (x + x)\n",
    "\n",
    "funcs = [multiply, add]\n",
    "for i in range(4):\n",
    "    value = list(map(lambda x: x(i), funcs))\n",
    "    print(value)"
   ]
  },
  {
   "cell_type": "code",
   "execution_count": null,
   "metadata": {
    "collapsed": true
   },
   "outputs": [],
   "source": [
    "# Making anonymous functions on the fly\n",
    "\n",
    "def make_incrementor (n):\n",
    "    return lambda x: x + n\n",
    " \n",
    "f = make_incrementor(1)\n",
    "g = make_incrementor(2)\n",
    "\n",
    "print f(1), g(2)"
   ]
  },
  {
   "cell_type": "markdown",
   "metadata": {},
   "source": [
    "### Generators\n",
    "Generators are iterators that you can only iterate over once<br>\n",
    "This is because they do not store all the values in memory, they generate a value on the fly<br>\n",
    "Most of the time generators are implemented as functions, but they do not return a value, they yield a value<br>\n",
    "**Watch this: [Loop Like a Native](https://nedbatchelder.com/text/iter.html)**"
   ]
  },
  {
   "cell_type": "code",
   "execution_count": null,
   "metadata": {
    "collapsed": true
   },
   "outputs": [],
   "source": [
    "# Generators\n",
    "\n",
    "def is_prime(number):\n",
    "    for divisor in range(2, int(number ** 0.5) + 1):\n",
    "        if number % divisor == 0:\n",
    "            return False\n",
    "    return True\n",
    "\n",
    "def get_primes(max_number):\n",
    "    number = 1\n",
    "    while number < max_number:\n",
    "        number += 1\n",
    "        if is_prime(number):\n",
    "            yield number\n",
    "\n",
    "x = get_primes(8)\n",
    "print type(x)\n",
    "\n",
    "for item in x:\n",
    "    print item"
   ]
  },
  {
   "cell_type": "code",
   "execution_count": null,
   "metadata": {
    "collapsed": true
   },
   "outputs": [],
   "source": [
    "# The list object supports the iterator protocol\n",
    "l = [1, 2, 3]\n",
    "i = iter(l)\n",
    "print i.next()\n",
    "print i.next()"
   ]
  },
  {
   "cell_type": "markdown",
   "metadata": {},
   "source": [
    "## Exception Handling\n",
    "***\n",
    "Probably overlooked more often than it should be, always consider using\n",
    "\n",
    "### Basics\n",
    "- **raise**: Throw an error; Probably called throwing because of exception handling\n",
    "- **try**: Do something that might throw an error\n",
    "- **except**: Handle the exception here\n",
    "- **else**: Do this if no errors thrown\n",
    "- **finally**: Always do this, even if an exception is thrown"
   ]
  },
  {
   "cell_type": "code",
   "execution_count": null,
   "metadata": {
    "collapsed": true
   },
   "outputs": [],
   "source": [
    "# Exception Handling\n",
    "\n",
    "try:\n",
    "    # Do something that might raise exceptions\n",
    "    raise NameError('This raises a NameError error') # Throws an error for the sake of this example\n",
    "except NameError as NE:\n",
    "    print('Handle the exception here')\n",
    "else:\n",
    "    print \"Do this only if no exceptions\"\n",
    "finally:\n",
    "    print \"Always do this, even after expceptions\"\n",
    "\n",
    "\n",
    "# Good example of how to use it\n",
    "def divide(x, y):\n",
    "    try:\n",
    "        z = float(x)/y\n",
    "    except ZeroDivisionError as e:\n",
    "        z = e  # Can capture the error into a variable\n",
    "    finally:\n",
    "        print z\n",
    "\n",
    "divide(1, 2)  # 1/2\n",
    "divide(1, 0)  # 1/0, note that no error is thrown"
   ]
  },
  {
   "cell_type": "markdown",
   "metadata": {},
   "source": [
    "## Add Notebook Enhancements Here"
   ]
  },
  {
   "cell_type": "markdown",
   "metadata": {
    "collapsed": true
   },
   "source": [
    "## Revision History\n",
    "\n",
    "This file is in a mercurial repository and the last committed revision is listed below.<br>\n",
    "Cell only works if file is in a non-networked location"
   ]
  },
  {
   "cell_type": "code",
   "execution_count": null,
   "metadata": {
    "collapsed": true
   },
   "outputs": [],
   "source": [
    "output = !hg summary\n",
    "output = str(output)\n",
    "\n",
    "# get version from mercurial and display last save revision as REV + \n",
    "start = output.find(\"parent:\") + len(\"parent:\")\n",
    "output = output[start:]\n",
    "print \"Rev\" + str(output[:output.find(':')])"
   ]
  }
 ],
 "metadata": {
  "hide_input": false,
  "kernelspec": {
   "display_name": "Python 2",
   "language": "python",
   "name": "python2"
  },
  "language_info": {
   "codemirror_mode": {
    "name": "ipython",
    "version": 2
   },
   "file_extension": ".py",
   "mimetype": "text/x-python",
   "name": "python",
   "nbconvert_exporter": "python",
   "pygments_lexer": "ipython2",
   "version": "2.7.14"
  },
  "latex_envs": {
   "LaTeX_envs_menu_present": true,
   "autoclose": false,
   "autocomplete": true,
   "bibliofile": "biblio.bib",
   "cite_by": "apalike",
   "current_citInitial": 1,
   "eqLabelWithNumbers": true,
   "eqNumInitial": 1,
   "hotkeys": {
    "equation": "Ctrl-E",
    "itemize": "Ctrl-I"
   },
   "labels_anchors": false,
   "latex_user_defs": false,
   "report_style_numbering": false,
   "user_envs_cfg": false
  },
  "toc": {
   "nav_menu": {
    "height": "371px",
    "width": "252px"
   },
   "number_sections": false,
   "sideBar": false,
   "skip_h1_title": true,
   "title_cell": "Table of Contents",
   "title_sidebar": "Contents",
   "toc_cell": false,
   "toc_position": {
    "height": "814px",
    "left": "1px",
    "right": "20px",
    "top": "108px",
    "width": "255px"
   },
   "toc_section_display": true,
   "toc_window_display": false
  },
  "varInspector": {
   "cols": {
    "lenName": 16,
    "lenType": 16,
    "lenVar": 40
   },
   "kernels_config": {
    "python": {
     "delete_cmd_postfix": "",
     "delete_cmd_prefix": "del ",
     "library": "var_list.py",
     "varRefreshCmd": "print(var_dic_list())"
    },
    "r": {
     "delete_cmd_postfix": ") ",
     "delete_cmd_prefix": "rm(",
     "library": "var_list.r",
     "varRefreshCmd": "cat(var_dic_list()) "
    }
   },
   "types_to_exclude": [
    "module",
    "function",
    "builtin_function_or_method",
    "instance",
    "_Feature"
   ],
   "window_display": false
  }
 },
 "nbformat": 4,
 "nbformat_minor": 2
}
