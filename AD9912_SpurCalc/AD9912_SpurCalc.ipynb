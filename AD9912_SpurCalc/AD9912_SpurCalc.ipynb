{
 "cells": [
  {
   "cell_type": "code",
   "execution_count": 6,
   "metadata": {
    "scrolled": true
   },
   "outputs": [
    {
     "name": "stdout",
     "output_type": "stream",
     "text": [
      "Start FTW (dec) =  5910833773435\n",
      "End FTW (dec) =  5911115248412\n",
      "Stepsize FTW (dec) =  28\n",
      "\n",
      "...Calculating...\n",
      "\n",
      "Maximum PPT Magnitude Calculated = -114.39138 dBc at 2.891e+08 Hz with L = 48\n"
     ]
    }
   ],
   "source": [
    "import numpy as np\n",
    "\n",
    "# Define the AD9912 parameters\n",
    "fs = 1.0e9       # Sampling Frequency (Hertz)\n",
    "N = 48           # Frequency Tuning Word Bits\n",
    "P = 19           # Phase Truncation Bits\n",
    "fo = 21.0e6      # Target Output Frequency Center (Hertz)\n",
    "fsweep = 1e3     # Frequency sweep range about fo (Hertz)\n",
    "fstepsize = 1e-4 # Frequency stepsize to use during sweep (Hertz)\n",
    "\n",
    "# Calculate Min and Max Frequency Tuning Word (hex) from fo and fsweep range\n",
    "startfo = fo - fsweep / 2\n",
    "endfo = fo + fsweep / 2\n",
    "\n",
    "startFTW = int( round( 2 ** N * (startfo / fs) ) )\n",
    "endFTW = int( round( 2 ** N * (endfo / fs) ) )\n",
    "stepsizeFTW = int( round( 2 ** N * (fstepsize / fs) ) )\n",
    "\n",
    "print \"Start FTW (dec) = \", startFTW\n",
    "print \"End FTW (dec) = \", endFTW\n",
    "print \"Stepsize FTW (dec) = \", stepsizeFTW\n",
    "    \n",
    "#Preload Max spur variables for checking\n",
    "max_PPTMag_L = 0\n",
    "max_PPTMag = -200.0\n",
    "max_PPTMag_freq = 0.0\n",
    "\n",
    "# Loop calculations for each FTW from Start to End of fsweep range\n",
    "FTW = startFTW\n",
    "while FTW <= endFTW:\n",
    "\n",
    "    # Convert Frequency Tuning Word to binary with leading zeros to express them as 48 bits\n",
    "    FTW2 = (bin (FTW) )[2:] .zfill(48)\n",
    "    \n",
    "    # Determine the index of the rightmost non-zero bit \"L\"\n",
    "    L = FTW2.rfind('1') + 1 # Index needs to start at 1 instead of 0\n",
    "\n",
    "    # Calculate PPT Magnitude in dBc\n",
    "    PPTMag = np.float( 20 * np.log10( (np.sin( np.pi / (2 ** L) )) / (np.sin( (np.pi * (2 ** P - 1)) / (2 ** L) )) ) )\n",
    "    \n",
    "    # Calculate PPT Frequencies:\n",
    "    # Truncate FTW2 to L bits then convert to decimal values to determine K\n",
    "    Trunc_L_FTW = FTW2[:L]\n",
    "    \n",
    "    # Convert the truncated FTW to decimal for K\n",
    "    K = int(Trunc_L_FTW, 2)\n",
    "   \n",
    "    # Calculate the spectral index positions of the two PPT spurs (R1 and R2)\n",
    "    R1 = np.float( (K * (2 ** P - 1)) % (2 ** L) )\n",
    "    R2 = np.float( (K * ((2 ** L) - (2 ** P) + 1)) % (2 ** L) )\n",
    "   \n",
    "    # Calculate each PPT frequency from fs, R1 and R2\n",
    "    fPPT1 = np.float( fs * (R1 / (2 ** L)) )\n",
    "    fPPT2 = np.float( fs * (R2 / (2 ** L)) )\n",
    "\n",
    "    # Check for to see if spur is the new maximum\n",
    "    if PPTMag >= max_PPTMag:\n",
    "        max_PPTMag_L = L\n",
    "        max_PPTMag = PPTMag\n",
    "        \n",
    "        if abs(fo - fPPT1) <= abs(fo - fPPT2):\n",
    "            max_PPTMag_freq = fPPT1\n",
    "        else:\n",
    "            max_PPTMag_freq = fPPT2\n",
    "    \n",
    "    FTW += stepsizeFTW\n",
    "    \n",
    "print \"Maximum PPT Magnitude Calculated =\", \"{0:.5f}\" .format(max_PPTMag), \"dBc at\", \n",
    "print \"{0:.3e}\" .format(max_PPTMag_freq), \"Hz with L =\", max_PPTMag_L"
   ]
  }
 ],
 "metadata": {
  "hide_input": false,
  "kernelspec": {
   "display_name": "Python 2",
   "language": "python",
   "name": "python2"
  },
  "language_info": {
   "codemirror_mode": {
    "name": "ipython",
    "version": 2
   },
   "file_extension": ".py",
   "mimetype": "text/x-python",
   "name": "python",
   "nbconvert_exporter": "python",
   "pygments_lexer": "ipython2",
   "version": "2.7.13"
  }
 },
 "nbformat": 4,
 "nbformat_minor": 2
}
