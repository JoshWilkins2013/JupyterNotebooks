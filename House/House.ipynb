{
 "cells": [
  {
   "cell_type": "markdown",
   "metadata": {},
   "source": [
    "# <center> Buying A House </center>\n",
    "***\n",
    "\n",
    "## <center> Motivation </center>\n",
    "If you're anything like me, then I'm sure you're sick of paying rent, wondering why you are paying someone else when this money could go into owning a house. At first, it seems like a no-brainer! Trade your rent in for a mortgage payment and then at least some of your money is being saved. But there are a bunch of things you don't consider when this thought first crosses your mind. Here's to shedding some light on purchasing your first house.\n",
    "\n",
    "Before anything else, lets jump straight to the fun stuff! Here is a tool I created to help visualize how different aspects of your situation and how possible loans will affect both your current liquidity and your net worth."
   ]
  },
  {
   "cell_type": "code",
   "execution_count": 1,
   "metadata": {
    "code_folding": [
     0
    ],
    "hide_input": true
   },
   "outputs": [],
   "source": [
    "# Imports\n",
    "\n",
    "import numpy as np\n",
    "from matplotlib import pyplot as plt\n",
    "from ipywidgets import widgets, Label, Layout\n",
    "from IPython.display import display, clear_output\n",
    "from ipywidgets.widgets import IntSlider, FloatSlider, Label, VBox, HBox, Checkbox, Button\n",
    "\n",
    "# To prevent automatic figure display when execution of the cell ends\n",
    "% matplotlib inline\n",
    "%config InlineBackend.close_figures=False"
   ]
  },
  {
   "cell_type": "code",
   "execution_count": 2,
   "metadata": {
    "code_folding": [
     0
    ],
    "hide_input": true
   },
   "outputs": [],
   "source": [
    "# Creating the Interface Components\n",
    "\n",
    "# Income Group\n",
    "income_label = Label(r'$ \\underline{ \\textbf{Income} } $')\n",
    "\n",
    "label1 = Label('Income')\n",
    "label2 = Label('Additional Income')\n",
    "label3 = Label('Income Tax')\n",
    "income_label_box = VBox(children=(label1, label2, label3))\n",
    "\n",
    "income_slider = IntSlider(72500, 0, 150000, 500, layout=Layout(width='auto'))\n",
    "coc_slider = IntSlider(1100, 0, 3000, 100, layout=Layout(width='auto'))\n",
    "taxes_slider = IntSlider(20, 0, 30, 1, layout=Layout(width='auto'))\n",
    "income_slider_box = VBox(children=(income_slider, coc_slider, taxes_slider))\n",
    "\n",
    "temp = HBox(children=(income_label_box, income_slider_box))\n",
    "income_group = VBox(children=(income_label, temp))\n",
    "\n",
    "# Expense Group\n",
    "expense_label = Label(r'$ \\underline{ \\textbf{Expenses} } $')\n",
    "\n",
    "label1 = Label('Rent')\n",
    "label2 = Label('General')\n",
    "label3 = Label('Utilities')\n",
    "expense_label_box = VBox(children=(label1, label2, label3))\n",
    "\n",
    "rent_slider = IntSlider(14500, 0, 25000, 500, layout=Layout(width='auto'))\n",
    "general_slider = IntSlider(5000, 0, 15000, 100, layout=Layout(width='auto'))\n",
    "utilities_slider = IntSlider(1000, 0, 3000, 100, layout=Layout(width='auto'))\n",
    "expense_slider_box = VBox(children=(rent_slider, general_slider, utilities_slider))\n",
    "\n",
    "temp = HBox(children=(expense_label_box, expense_slider_box))\n",
    "expense_group = VBox(children=(expense_label, temp))\n",
    "\n",
    "# Savings Group\n",
    "savings_label = Label(r'$ \\underline{ \\textbf{Savings} } $')\n",
    "\n",
    "label1 = Label('Cash')\n",
    "label2 = Label('401K Savings')\n",
    "label3 = Label('Roth Savings')\n",
    "savings_label_box = VBox(children=(label1, label2, label3))\n",
    "\n",
    "cash_slider = IntSlider(38000, 0, 100000, 1000, layout=Layout(width='auto'))\n",
    "roth_slider = IntSlider(20000, 0, 100000, 1000, layout=Layout(width='auto'))\n",
    "ira_slider = IntSlider(24000, 0, 100000, 1000, layout=Layout(width='auto'))\n",
    "savings_slider_box = VBox(children=(cash_slider, ira_slider, roth_slider))\n",
    "\n",
    "temp = HBox(children=(savings_label_box, savings_slider_box))\n",
    "savings_group = VBox(children=(savings_label, temp))\n",
    "\n",
    "# Investment Group\n",
    "investment_label = Label(r'$ \\underline{ \\textbf{Investments} } $')\n",
    "\n",
    "label1 = Label('Investment Rate')\n",
    "label2 = Label('401K Contributions')\n",
    "label3 = Label('Roth Contributions')\n",
    "investment_label_box = VBox(children=(label1, label2, label3))\n",
    "\n",
    "invest_rate_slider = IntSlider(10, 0, 20, 1, layout=Layout(width='auto'))\n",
    "ira_contr_slider = IntSlider(18000, 0, 18000, 500, layout=Layout(width='auto'))\n",
    "roth_contr_slider = IntSlider(5500, 0, 5500, 500, layout=Layout(width='auto'))\n",
    "investment_slider_box = VBox(children=(invest_rate_slider, ira_contr_slider, roth_contr_slider))\n",
    "\n",
    "temp = HBox(children=(investment_label_box, investment_slider_box))\n",
    "investment_group = VBox(children=(investment_label, temp))\n",
    "\n",
    "# Loan Group\n",
    "loan_label = Label(r'$ \\underline{ \\textbf{Loans} } $')\n",
    "\n",
    "label1 = Label('Loan1 Years')\n",
    "label2 = Label('Loan1 Interest')\n",
    "label3 = Label('Loan2 Years')\n",
    "label4 = Label('Loan2 Interest')\n",
    "loan_label_box = VBox(children=(label1, label2, label3, label4))\n",
    "\n",
    "loan1_years_slider = IntSlider(10, 10, 30, 5, layout=Layout(width='auto'))\n",
    "loan1_interest_slider = FloatSlider(value=3.5, min=2, max=5, step=0.1, layout=Layout(width='auto'))\n",
    "loan2_years_slider = IntSlider(30, 10, 30, 5, layout=Layout(width='auto'))\n",
    "loan2_interest_slider = FloatSlider(value=4, min=2, max=5, step=0.1, layout=Layout(width='auto'))\n",
    "loan_slider_box = VBox(children=(loan1_years_slider, loan1_interest_slider, loan2_years_slider, loan2_interest_slider))\n",
    "\n",
    "temp = HBox(children=(investment_label_box, investment_slider_box))\n",
    "loan_group = VBox(children=(investment_label, temp))\n",
    "\n",
    "# Plot Options Group\n",
    "dont_buy_cash = Checkbox(description='Don\\'t Buy: Cash', value=True, layout=Layout(width='33%', justify_content='center'))\n",
    "dont_buy_equity = Checkbox(description='Don\\'t Buy: Equity', value=True, layout=Layout(width='33%', justify_content='center'))\n",
    "\n",
    "loan1_cash = Checkbox(description='Loan1: Cash', value=True, layout=Layout(width='33%', justify_content='center'))\n",
    "loan1_equity = Checkbox(description='Loan1: Equity', value=True, layout=Layout(width='33%', justify_content='center'))\n",
    "\n",
    "loan2_cash = Checkbox(description='Loan2: Cash', value=True, layout=Layout(width='34%', justify_content='center'))\n",
    "loan2_equity = Checkbox(description='Loan2: Equity', value=True, layout=Layout(width='34%', justify_content='center'))\n",
    "\n",
    "hbox1 = HBox(children=(dont_buy_cash, loan1_cash, loan2_cash), layout=Layout(width='100%'))\n",
    "hbox2 = HBox(children=(dont_buy_equity, loan1_equity, loan2_equity), layout=Layout(width='100%'))\n",
    "\n",
    "# Creating the Interface\n",
    "house_slider = IntSlider(250000, 0, 500000, 5000, description=\"House Cost\", layout=Layout(width='100%'))\n",
    "outlook_slider = IntSlider(30, 2, 50, 1, description=\"Outlook\", layout=Layout(width='100%'))\n",
    "update_button = Button(description='Update', layout=Layout(width='100%'))\n",
    "\n",
    "out = widgets.Output()\n",
    "empty_label = Label()\n",
    "\n",
    "plot_title_label = Label(r'$ \\underline{ \\textbf{Comparing Options} } $', layout=Layout(align_items='center'))\n",
    "\n",
    "vbox1 = VBox(children = (income_label, income_label_box, savings_label, savings_label_box, expense_label, expense_label_box, investment_label, investment_label_box, loan_label, loan_label_box))\n",
    "vbox2 = VBox(children = (empty_label, income_slider_box, empty_label, savings_slider_box, empty_label, expense_slider_box, empty_label, investment_slider_box, empty_label, loan_slider_box), layout=Layout(flex='1 1 auto', width='auto'))\n",
    "vbox3 = VBox(children = (plot_title_label, out, outlook_slider, house_slider, update_button, hbox1, hbox2), layout=Layout(align_items='center'))\n",
    "interface = HBox(children = (vbox1, vbox2, vbox3))"
   ]
  },
  {
   "cell_type": "code",
   "execution_count": 3,
   "metadata": {
    "code_folding": [
     0,
     2,
     6,
     60,
     112,
     124
    ],
    "hide_input": true
   },
   "outputs": [],
   "source": [
    "# Class Objects and Methods\n",
    "\n",
    "class Sliders(object):\n",
    "    def __init__(self):\n",
    "        self.update()\n",
    "        \n",
    "    def update(self):\n",
    "        # Income\n",
    "        self.income = income_slider.value # Income from Work\n",
    "        self.coc = coc_slider.value # Approximate monthly cash on cash return ($)\n",
    "        self.taxes = taxes_slider.value # Approximate total income tax (%)\n",
    "        \n",
    "        # Expenses\n",
    "        self.rent = rent_slider.value # Apt Rental\n",
    "        self.general = general_slider.value # General expenses (food/gas/etc)\n",
    "        self.utilities = utilities_slider.value   # Phone/Wifi/Electric\n",
    "        \n",
    "        # Savings\n",
    "        self.cash = cash_slider.value # Current Savings (Excluding IRAs)\n",
    "        self.roth = roth_slider.value # Roth investment per year\n",
    "        self.ira = ira_slider.value   # 401K investment per year\n",
    "        \n",
    "        # Investments\n",
    "        self.invest_rate = invest_rate_slider.value # Interest on investments (%)\n",
    "        self.ira_contr = ira_contr_slider.value   # Yearly contribution to 401(K)\n",
    "        self.roth_contr = roth_contr_slider.value # Yearly contribution to roth ira\n",
    "        \n",
    "        # Loans\n",
    "        self.loan1_years = loan1_years_slider.value\n",
    "        self.loan1_interest = loan1_interest_slider.value\n",
    "        self.loan2_years = loan2_years_slider.value\n",
    "        self.loan2_interest = loan2_interest_slider.value\n",
    "        \n",
    "        # House Cost\n",
    "        self.house = house_slider.value# Cost of house\n",
    "        self.down = 0.2 * self.house  # Down payment on house (Need to account for additional fees)\n",
    "        if self.down > self.cash: self.down = self.cash  # Cant put more down then you have\n",
    "        \n",
    "        # Plot Options\n",
    "        self.outlook = outlook_slider.value\n",
    "        self.plot_dont_buy_cash = dont_buy_cash.value\n",
    "        self.plot_dont_buy_equity = dont_buy_equity.value\n",
    "        self.plot_loan1_cash = loan1_cash.value\n",
    "        self.plot_loan1_equity = loan1_equity.value\n",
    "        self.plot_loan2_cash = loan2_cash.value\n",
    "        self.plot_loan2_equity = loan2_equity.value\n",
    "        \n",
    "        # Variable adjustments (taxes and things)\n",
    "        self.taxes = 1 - self.taxes/100.0\n",
    "\n",
    "        # Remove taxes, ira contributions, and general expenses from income\n",
    "        self.expenses = self.utilities + self.general  # Don't add rent or mortgage here, they are accounted for later\n",
    "        self.profit = (self.income - self.ira_contr) * self.taxes - self.roth_contr - self.expenses\n",
    "\n",
    "        self.coc *= 12 * self.taxes  # Make yearly than remove taxes\n",
    "        self.taxed_invest_rate = self.invest_rate/100.0 * self.taxes + 1 # Remove taxes from investment earnings\n",
    "        self.invest_rate =  self.invest_rate/100.0 + 1\n",
    "\n",
    "sliders = Sliders()\n",
    "\n",
    "class Loan(object):\n",
    "    \n",
    "    def __init__(self, years=30, interest=4, value=(sliders.house-sliders.down)):\n",
    "        \"\"\"\n",
    "        years: Number of years to pay off loan\n",
    "        interest: Interest Rate on loan\n",
    "        value: Original loan amount\n",
    "        \"\"\"\n",
    "        \n",
    "        self.value = sliders.house - sliders.down\n",
    "        self.interest = interest/1200.0  # Convert interest to decimal, then into per month basis\n",
    "        self.years = years\n",
    "        self.months = 12*years\n",
    "        \n",
    "        # The monthly mortgage payment for the loan\n",
    "        temp = (1 + self.interest)**self.months\n",
    "        mortgage = (self.value * self.interest * temp) / (temp - 1)\n",
    "        self.mortgage = 12*mortgage\n",
    "    \n",
    "    def outlook(self, year):\n",
    "        \"\"\"\n",
    "        year: Outlook across how many years\n",
    "        loan: Instance of Loan class\n",
    "        return: cash and equity up to year\n",
    "        \"\"\"\n",
    "\n",
    "        gain = sliders.profit + sliders.coc - self.mortgage \n",
    "        cash = [0]  # cash is 0 because spent all extra cash on house\n",
    "        iras = [sliders.ira + sliders.roth]  # Sum of ira savings (401K and roth)\n",
    "        equity = [sliders.down + iras[0]]  # equity[0] is the downpayment on the house plus ira savings\n",
    "        for i in range(1, year + 1):\n",
    "            if i==self.years+1: gain += self.mortgage  # After loan payed off, more money in pocket\n",
    "            cash.append(sliders.taxed_invest_rate*cash[i-1] + gain)\n",
    "            iras.append(sliders.invest_rate * iras[i-1] + sliders.ira_contr + sliders.roth_contr)\n",
    "            equity.append(cash[i] + iras[i] + self.owned(i) + sliders.down)\n",
    "        \n",
    "        return cash, equity\n",
    "    \n",
    "    def owned(self, year):\n",
    "        \"\"\"\n",
    "        year: Number of years since start of loan\n",
    "        return: The amount of $ you own of the loan\n",
    "        \"\"\"\n",
    "        \n",
    "        month = year * 12  # Convert year to month\n",
    "        if month > self.months: month = self.months  # Cant own more than the loan value\n",
    "\n",
    "        temp = (1 + self.interest)**self.months\n",
    "        bal = ( self.value * (temp - (1 + self.interest)**month) ) / (temp - 1)\n",
    "\n",
    "        return self.value - bal\n",
    "\n",
    "def dont_buy(year):\n",
    "    gain = sliders.profit - sliders.rent\n",
    "\n",
    "    cash = [sliders.cash]   # Have cash because you didn't buy that house\n",
    "    iras = [sliders.ira + sliders.roth]  # Sum of ira savings (401K and roth)\n",
    "    equity = [sliders.cash + iras[0]]  # equity[0] is the downpayment on the house plus ira savings\n",
    "    for i in range(1, year + 1):\n",
    "        cash.append(gain + sliders.taxed_invest_rate * cash[i-1])\n",
    "        iras.append(sliders.invest_rate * iras[i-1] + sliders.ira_contr + sliders.roth_contr)\n",
    "        equity.append(cash[i] + iras[i])\n",
    "    return cash, equity\n",
    "\n",
    "def plot_results(button):\n",
    "    sliders.update()\n",
    "    ax.clear()\n",
    "    ax.yaxis.tick_right()\n",
    "    \n",
    "    i = np.arange(sliders.outlook + 1)\n",
    "    \n",
    "    if sliders.plot_dont_buy_cash or sliders.plot_dont_buy_equity:\n",
    "        cash, equity = dont_buy(i[-1])\n",
    "        if sliders.plot_dont_buy_cash:\n",
    "            ax.plot(i, cash, label=\"Dont Buy: Cash\")\n",
    "        if sliders.plot_dont_buy_equity:\n",
    "            ax.plot(i, equity, label=\"Dont Buy: Equity\")\n",
    "    \n",
    "    if sliders.plot_loan1_cash or sliders.plot_loan1_equity:\n",
    "        loan1 = Loan(sliders.loan1_years, sliders.loan1_interest)\n",
    "        cash, equity = loan1.outlook(i[-1])\n",
    "        if sliders.plot_loan1_cash:\n",
    "            ax.plot(i, cash, label=\"Loan1: Cash\")\n",
    "        if sliders.plot_loan1_equity:\n",
    "            ax.plot(i, equity, label=\"Loan1: Equity\")\n",
    "    \n",
    "    if sliders.plot_loan2_cash or sliders.plot_loan2_equity:\n",
    "        loan2 = Loan(sliders.loan2_years, sliders.loan2_interest)\n",
    "        cash, equity = loan2.outlook(i[-1])\n",
    "        if sliders.plot_loan2_cash:\n",
    "            ax.plot(i, cash, label=\"Loan2: Cash\")\n",
    "        if sliders.plot_loan2_equity:\n",
    "            ax.plot(i, equity, label=\"Loan2: Equity\")\n",
    "    \n",
    "    ax.grid(which='both')\n",
    "    ax.set_xlabel(\"Number of Years\")\n",
    "    ax.set_ylabel(\"Money $$$\")\n",
    "    ax.legend()\n",
    "\n",
    "    with out:\n",
    "        clear_output(wait=True)\n",
    "        display(ax.figure)"
   ]
  },
  {
   "cell_type": "code",
   "execution_count": 4,
   "metadata": {
    "code_folding": [
     0
    ],
    "hide_input": true
   },
   "outputs": [
    {
     "data": {
      "application/vnd.jupyter.widget-view+json": {
       "model_id": "09934c010ca64b63af8a6a0e6da6fe8b",
       "version_major": 2,
       "version_minor": 0
      },
      "text/html": [
       "<p>Failed to display Jupyter Widget of type <code>HBox</code>.</p>\n",
       "<p>\n",
       "  If you're reading this message in the Jupyter Notebook or JupyterLab Notebook, it may mean\n",
       "  that the widgets JavaScript is still loading. If this message persists, it\n",
       "  likely means that the widgets JavaScript library is either not installed or\n",
       "  not enabled. See the <a href=\"https://ipywidgets.readthedocs.io/en/stable/user_install.html\">Jupyter\n",
       "  Widgets Documentation</a> for setup instructions.\n",
       "</p>\n",
       "<p>\n",
       "  If you're reading this message in another frontend (for example, a static\n",
       "  rendering on GitHub or <a href=\"https://nbviewer.jupyter.org/\">NBViewer</a>),\n",
       "  it may mean that your frontend doesn't currently support widgets.\n",
       "</p>\n"
      ],
      "text/plain": [
       "HBox(children=(VBox(children=(Label(value=u'$ \\\\underline{ \\\\textbf{Income} } $'), VBox(children=(Label(value=u'Income'), Label(value=u'Additional Income'), Label(value=u'Income Tax'))), Label(value=u'$ \\\\underline{ \\\\textbf{Savings} } $'), VBox(children=(Label(value=u'Cash'), Label(value=u'401K Savings'), Label(value=u'Roth Savings'))), Label(value=u'$ \\\\underline{ \\\\textbf{Expenses} } $'), VBox(children=(Label(value=u'Rent'), Label(value=u'General'), Label(value=u'Utilities'))), Label(value=u'$ \\\\underline{ \\\\textbf{Investments} } $'), VBox(children=(Label(value=u'Investment Rate'), Label(value=u'401K Contributions'), Label(value=u'Roth Contributions'))), Label(value=u'$ \\\\underline{ \\\\textbf{Loans} } $'), VBox(children=(Label(value=u'Loan1 Years'), Label(value=u'Loan1 Interest'), Label(value=u'Loan2 Years'), Label(value=u'Loan2 Interest'))))), VBox(children=(Label(value=u''), VBox(children=(IntSlider(value=72500, layout=Layout(width=u'auto'), max=150000, step=500), IntSlider(value=1100, layout=Layout(width=u'auto'), max=3000, step=100), IntSlider(value=20, layout=Layout(width=u'auto'), max=30))), Label(value=u''), VBox(children=(IntSlider(value=38000, layout=Layout(width=u'auto'), max=100000, step=1000), IntSlider(value=24000, layout=Layout(width=u'auto'), max=100000, step=1000), IntSlider(value=20000, layout=Layout(width=u'auto'), max=100000, step=1000))), Label(value=u''), VBox(children=(IntSlider(value=14500, layout=Layout(width=u'auto'), max=25000, step=500), IntSlider(value=5000, layout=Layout(width=u'auto'), max=15000, step=100), IntSlider(value=1000, layout=Layout(width=u'auto'), max=3000, step=100))), Label(value=u''), VBox(children=(IntSlider(value=10, layout=Layout(width=u'auto'), max=20), IntSlider(value=18000, layout=Layout(width=u'auto'), max=18000, step=500), IntSlider(value=5500, layout=Layout(width=u'auto'), max=5500, step=500))), Label(value=u''), VBox(children=(IntSlider(value=10, layout=Layout(width=u'auto'), max=30, min=10, step=5), FloatSlider(value=3.5, layout=Layout(width=u'auto'), max=5.0, min=2.0), IntSlider(value=30, layout=Layout(width=u'auto'), max=30, min=10, step=5), FloatSlider(value=4.0, layout=Layout(width=u'auto'), max=5.0, min=2.0)))), layout=Layout(flex=u'1 1 auto', width=u'auto')), VBox(children=(Label(value=u'$ \\\\underline{ \\\\textbf{Comparing Options} } $', layout=Layout(align_items=u'center')), Output(), IntSlider(value=30, description=u'Outlook', layout=Layout(width=u'100%'), max=50, min=2), IntSlider(value=250000, description=u'House Cost', layout=Layout(width=u'100%'), max=500000, step=5000), Button(description=u'Update', layout=Layout(width=u'100%'), style=ButtonStyle()), HBox(children=(Checkbox(value=True, description=u\"Don't Buy: Cash\", layout=Layout(justify_content=u'center', width=u'33%')), Checkbox(value=True, description=u'Loan1: Cash', layout=Layout(justify_content=u'center', width=u'33%')), Checkbox(value=True, description=u'Loan2: Cash', layout=Layout(justify_content=u'center', width=u'34%'))), layout=Layout(width=u'100%')), HBox(children=(Checkbox(value=True, description=u\"Don't Buy: Equity\", layout=Layout(justify_content=u'center', width=u'33%')), Checkbox(value=True, description=u'Loan1: Equity', layout=Layout(justify_content=u'center', width=u'33%')), Checkbox(value=True, description=u'Loan2: Equity', layout=Layout(justify_content=u'center', width=u'34%'))), layout=Layout(width=u'100%'))), layout=Layout(align_items=u'center'))))"
      ]
     },
     "metadata": {},
     "output_type": "display_data"
    }
   ],
   "source": [
    "# Display the Interface\n",
    "\n",
    "plt.rcParams['figure.figsize'] = (10.0, 8.0)\n",
    "plt.ioff()\n",
    "ax=plt.gca()\n",
    "\n",
    "update_button.on_click(plot_results)\n",
    "\n",
    "display(interface)\n",
    "plot_results(None)"
   ]
  },
  {
   "cell_type": "markdown",
   "metadata": {},
   "source": [
    "## <center> Slider Descriptions </center><br>\n",
    "<center> Whoa! Too many options you say? Here is a quick breakdown of what each component does </center>"
   ]
  },
  {
   "cell_type": "markdown",
   "metadata": {
    "cell_style": "split",
    "hide_input": false
   },
   "source": [
    "### Income\n",
    "- **Income**: Gross yearly income amount (From your part/full time job before taxes)\n",
    "- **Income Tax**: Total approximate income tax (%) including state and federal\n",
    "- **CoC Return**: Not quite the Cash on Cash Return, but the approximate monthly rental income minus property taxes, maintenance, and other fees\n",
    "\n",
    "### Savings\n",
    "- **Cash**: Total cash on hand for a down payment on a loan\n",
    "- **401K Savings**: Total savings in your 401(K)\n",
    "- **Roth Savings**: Total savings in your roth ira\n",
    "\n",
    "### Expenses\n",
    "- **Rent**: Yearly amount you pay on rent (Doesn't affect loan calculations)\n",
    "- **General**: Yearly amount you pay on general expenses including gas, food, travel, etc.\n",
    "- **Utilities**: Yearly amount you pay on utilities including electric, internet, phone, etc."
   ]
  },
  {
   "cell_type": "markdown",
   "metadata": {
    "cell_style": "split"
   },
   "source": [
    "\n",
    "### Investments\n",
    "- **Investment Rate**: Approximated yearly yield (%) on investments (stocks, bonds, etc.)\n",
    "- **401K Contributions**: Yearly contribution to 401(K)\n",
    "- **Roth Contributions**: Yearly contribution to roth ira\n",
    "\n",
    "### Loans\n",
    "- **LoanX Years**: Number of years to pay back loan\n",
    "- **LoanX Interest**: Interest on the loan (%)\n",
    "\n",
    "### Plot\n",
    "\n",
    "- **Plot Area**: An illustration of liquidity vs equity over a span of time\n",
    "\n",
    "- **Outlook**: Number of years to forecast\n",
    "- **House Cost**: Cost of house that you might buy - directly affects loan amount\n",
    "- **Update**: Button to update results with latest settings\n",
    "- **CheckBoxes**: Display options; Cash represents liquidity, equity represents net worth."
   ]
  },
  {
   "cell_type": "markdown",
   "metadata": {},
   "source": [
    "## <center> Analysis </center>\n",
    "<center> So what does this all mean? How do you get to the bottom of the real question; Should you buy a house?</center><br>\n",
    "Well to answer this question, it is helpful to ask yourself the following\n",
    "\n",
    "- What is the best loan option? Do I want a short term loan and pay it off quickly, or am I better of with a long term loan?\n",
    "- How advantageous is it if I rent out the spare room or get a duplex?\n",
    "- Am I better off skipping my IRA investments to help pay off the loan?"
   ]
  },
  {
   "attachments": {
    "Loan_Options.png": {
     "image/png": "[encoded data removed]"
    }
   },
   "cell_type": "markdown",
   "metadata": {},
   "source": [
    "### Loan Options\n",
    "Since this is your first house, I'm going to assume you can't afford to pay all cash. So the obvious question is which type of loan is the best option? My first reaction was the assumption a short term loan would be way better. With a long term loan you are paying a crap ton more in interest (See \"Banks Making Money\").\n",
    "\n",
    "But a quick look at the results and probably everyone would agree with me in that a long term loan appears to be better. Both your equity and liquidity remain higher for practically the entirety of the results. For the sake of this discussion, I assumed the difference between a 10 year loan and a 30 year loan was about 1% interest, but its not until about ~3% difference do these two even out.\n",
    "\n",
    "**Takeaway: A long term loan results in much higher liquidity across the entirety of the loan**\n",
    "\n",
    "![Loan_Options.png](attachment:Loan_Options.png)"
   ]
  },
  {
   "attachments": {
    "Rental_Income.png": {
     "image/png": "[encoded data removed]"
    }
   },
   "cell_type": "markdown",
   "metadata": {},
   "source": [
    "### Renting\n",
    "The next thought that crossed my mind was the possibility of renting out the spare room in a two bedroom house or getting a duplex and living for 'free' in one of the units. As you can see, this would greatly increase your liquidity and equity:\n",
    "\n",
    "**Takeaway: Rent out part of your new home if you can!**\n",
    "\n",
    "![Rental_Income.png](attachment:Rental_Income.png)"
   ]
  },
  {
   "attachments": {
    "IRA_Contributions.png": {
     "image/png": "[encoded data removed]"
    }
   },
   "cell_type": "markdown",
   "metadata": {},
   "source": [
    "### IRA Contributions\n",
    "This has less to do with buying a house than it does with general advice on IRA contributions.<br>\n",
    "Sorry this plot is a little misconceiving; taxes have not been taken out of equity because it represents the money as if it were still in the 401K.<br>\n",
    "The hope is that you'll be in a lower income tax bracket when you retire so that in the end you will end up with more money.<br>\n",
    "ie) If your tax bracket remained the same, the two equity plots (orange and red lines) would be the same.\n",
    "\n",
    "**Takeaway: Contribute as much as you can to those IRAs**\n",
    "\n",
    "![IRA_Contributions.png](attachment:IRA_Contributions.png)"
   ]
  },
  {
   "attachments": {
    "Typical.png": {
     "image/png": "[encoded data removed]"
    }
   },
   "cell_type": "markdown",
   "metadata": {},
   "source": [
    "## <center> Conclusion: Buy That House! </center><br>\n",
    "<center>Here is what a typical scenario would look like (actually the scenario I am in right now):</center>\n",
    "\n",
    "![Typical.png](attachment:Typical.png)\n",
    "\n",
    "You can see that, after about 4 years, your liquidity is back to about where it would have been had you not bought a house. And now that you did, you own part of that house and soon everything accelerates way beyond what you would've have made if you had not bought that house.\n",
    "\n",
    "Once you wrap your head around all of this, you might begin to wonder if you could take out multiple long term loans and compound additional rental income! Now just hand off all that extra maintenance and work to some manager and you've made a completely self-sustaining and passive income! Is financial freedom in reach? Now you truly are a genius :)"
   ]
  },
  {
   "cell_type": "markdown",
   "metadata": {},
   "source": [
    "## <center> Plot Derivations </center><br>\n",
    "\n",
    "<center> In case you are interested in the [math](https://www.mtgprofessor.com/formulas.htm) behind the scenes</center>"
   ]
  },
  {
   "cell_type": "markdown",
   "metadata": {
    "cell_style": "split"
   },
   "source": [
    "### Initial Slider Value Adjustments\n",
    "\n",
    "$taxes = 1 - \\frac{taxes}{100}$<br>\n",
    "$expenses = utilities + general$<br>\n",
    "$profit = (income - ira\\_contributions) * taxes - roth\\_contributions - expenses$<br>\n",
    "$apartment\\_income = apartment\\_income * 12 * taxes$<br>\n",
    "$taxed\\_invest\\_rate = \\frac{invest\\_rate}{100} * taxes + 1$<br>\n",
    "$invest\\_rate = \\frac{invest\\_rate}{100} + 1$\n",
    "\n",
    "### Loan Calculations\n",
    "$loan\\_value = house\\_cost - down\\_payment$<br>\n",
    "$months = 12*years$\n",
    "\n",
    "Make interest monthly:<br>\n",
    "$interest = \\frac{interest}{1200}$<br>\n",
    "\n",
    "Yearly mortgage payments:<br>\n",
    "$mortgage = 12 * \\frac{loan\\_value * interest * (1 + interest)^{months}}{(1 + interest)^{months} - 1}$\n",
    "\n",
    "Owned amount of loan:<br>\n",
    "$owned[i] = loan\\_value - \\frac{ loan\\_value * ((1 + interest)^{months} - (1 + interest)^{12 * i})}{(1 + interest)^{months} - 1}$"
   ]
  },
  {
   "cell_type": "markdown",
   "metadata": {
    "cell_style": "split"
   },
   "source": [
    "### Not Buying a House\n",
    "\n",
    "$gain = profit - rent$<br>\n",
    "$iras[0] = ira + roth$<br>\n",
    "$equity[0] = cash + iras[0]$<br>\n",
    "\n",
    "cash[i] = gain + taxed_invest_rate * cash[i-1]<br>\n",
    "iras[i] = invest_rate * iras[i-1] + ira_contr + roth_contr<br>\n",
    "equity[i] = cash[i] + iras[i]\n",
    "\n",
    "### Buying a House\n",
    "\n",
    "$down\\_payment = cash$<br>\n",
    "$gain = profit + rental\\_income - mortgage$<br>\n",
    "\n",
    "Once the the loan is payed off:<br>\n",
    "$gain = profit + rental\\_income$\n",
    "\n",
    "$cash[0] = 0$<br>\n",
    "$iras[0] = ira + roth$<br>\n",
    "$equity[0] = down\\_payment + iras[0]$\n",
    "\n",
    "$cash[i] = taxed\\_invest\\_rate * cash[i-1] + gain$<br>\n",
    "$iras[i] = invest\\_rate * iras[i-1] + ira\\_contr + roth\\_contr$\n",
    "\n",
    "equity[i] = cash[i] + iras[i] + owned[i] + down\\_payment"
   ]
  },
  {
   "cell_type": "markdown",
   "metadata": {},
   "source": [
    "## <center> Banks Making Money </center>\n",
    "\n",
    "So how much more are you actually paying the bank in interest if you get a long term loan over a short term loan?"
   ]
  },
  {
   "cell_type": "code",
   "execution_count": 8,
   "metadata": {},
   "outputs": [
    {
     "name": "stdout",
     "output_type": "stream",
     "text": [
      "On a $200,000 loan\n",
      "Interest payed over 10 years, 3.5% interest: 39565.65\n",
      "Interest payed over 30 years, 4.0% interest: 152363.35\n"
     ]
    }
   ],
   "source": [
    "# Amount of interest payed on a $200,00 loan\n",
    "\n",
    "loan_value = 2e5  # 200,000\n",
    "short_loan = Loan(10, 3.5, loan_value)\n",
    "long_loan = Loan(30, 4, loan_value)\n",
    "\n",
    "short_interest = (short_loan.mortgage * short_loan.years) - short_loan.value\n",
    "long_interest = (long_loan.mortgage * long_loan.years) - long_loan.value\n",
    "\n",
    "print \"On a $200,000 loan\"\n",
    "print \"Interest payed over 10 years, 3.5%% interest: %.2f\" % short_interest\n",
    "print \"Interest payed over 30 years, 4.0%% interest: %.2f\" % long_interest"
   ]
  }
 ],
 "metadata": {
  "kernelspec": {
   "display_name": "Python 2",
   "language": "python",
   "name": "python2"
  },
  "language_info": {
   "codemirror_mode": {
    "name": "ipython",
    "version": 2
   },
   "file_extension": ".py",
   "mimetype": "text/x-python",
   "name": "python",
   "nbconvert_exporter": "python",
   "pygments_lexer": "ipython2",
   "version": "2.7.14"
  },
  "toc": {
   "nav_menu": {},
   "number_sections": false,
   "sideBar": true,
   "skip_h1_title": true,
   "title_cell": "Table of Contents",
   "title_sidebar": "Contents",
   "toc_cell": false,
   "toc_position": {
    "height": "calc(100% - 180px)",
    "left": "10px",
    "top": "150px",
    "width": "251px"
   },
   "toc_section_display": true,
   "toc_window_display": false
  },
  "varInspector": {
   "cols": {
    "lenName": 16,
    "lenType": 16,
    "lenVar": 40
   },
   "kernels_config": {
    "python": {
     "delete_cmd_postfix": "",
     "delete_cmd_prefix": "del ",
     "library": "var_list.py",
     "varRefreshCmd": "print(var_dic_list())"
    },
    "r": {
     "delete_cmd_postfix": ") ",
     "delete_cmd_prefix": "rm(",
     "library": "var_list.r",
     "varRefreshCmd": "cat(var_dic_list()) "
    }
   },
   "types_to_exclude": [
    "module",
    "function",
    "builtin_function_or_method",
    "instance",
    "_Feature"
   ],
   "window_display": false
  },
  "widgets": {
   "application/vnd.jupyter.widget-state+json": {
    "state": {
     "006b86117f244240a900a16fd319da46": {
      "model_module": "@jupyter-widgets/base",
      "model_module_version": "1.0.0",
      "model_name": "LayoutModel",
      "state": {
       "width": "auto"
      }
     },
     "007c3c6bf2d143b783852d8ba64c1f13": {
      "model_module": "@jupyter-widgets/controls",
      "model_module_version": "1.1.0",
      "model_name": "IntSliderModel",
      "state": {
       "layout": "IPY_MODEL_0b2f65ccc9eb432dad3d8329fa06529c",
       "max": 30,
       "min": 10,
       "step": 5,
       "style": "IPY_MODEL_f0da3d6132ae4bb5a891bda0d8cb3a94",
       "value": 10
      }
     },
     "00bb94ac8b62474a993951ba5e90111e": {
      "model_module": "@jupyter-widgets/controls",
      "model_module_version": "1.1.0",
      "model_name": "DescriptionStyleModel",
      "state": {
       "description_width": ""
      }
     },
     "01c41a66b93447098c6d687fb7c14425": {
      "model_module": "@jupyter-widgets/base",
      "model_module_version": "1.0.0",
      "model_name": "LayoutModel",
      "state": {}
     },
     "023360c3da7e47d0bc0cd814ef4d73e6": {
      "model_module": "@jupyter-widgets/base",
      "model_module_version": "1.0.0",
      "model_name": "LayoutModel",
      "state": {}
     },
     "04a1f124e9d3453ba1d8779f44c5be84": {
      "model_module": "@jupyter-widgets/base",
      "model_module_version": "1.0.0",
      "model_name": "LayoutModel",
      "state": {
       "justify_content": "center",
       "width": "34%"
      }
     },
     "0558bfd8a3ab4343a31e8b2b14dfc470": {
      "model_module": "@jupyter-widgets/base",
      "model_module_version": "1.0.0",
      "model_name": "LayoutModel",
      "state": {}
     },
     "07451bfee6e949428309edbe25f15119": {
      "model_module": "@jupyter-widgets/controls",
      "model_module_version": "1.1.0",
      "model_name": "LabelModel",
      "state": {
       "layout": "IPY_MODEL_d9f77455d6e34aef93e2109fdd154858",
       "style": "IPY_MODEL_3f9b84f9eed44400809779c00a028298",
       "value": "Investment Rate"
      }
     },
     "077ee833bfd14b92a628dede69d8fd65": {
      "model_module": "@jupyter-widgets/controls",
      "model_module_version": "1.1.0",
      "model_name": "DescriptionStyleModel",
      "state": {
       "description_width": ""
      }
     },
     "0933183824724145b5c07320b1b616d5": {
      "model_module": "@jupyter-widgets/base",
      "model_module_version": "1.0.0",
      "model_name": "LayoutModel",
      "state": {}
     },
     "0a36aeead081442dae92decdea7342f5": {
      "model_module": "@jupyter-widgets/controls",
      "model_module_version": "1.1.0",
      "model_name": "CheckboxModel",
      "state": {
       "description": "Don't Buy: Equity",
       "disabled": false,
       "layout": "IPY_MODEL_7127984ee21349d9ba49f5ef3031ef8a",
       "style": "IPY_MODEL_d746392395d34e159f755078a8473ca6",
       "value": true
      }
     },
     "0b2f65ccc9eb432dad3d8329fa06529c": {
      "model_module": "@jupyter-widgets/base",
      "model_module_version": "1.0.0",
      "model_name": "LayoutModel",
      "state": {
       "width": "auto"
      }
     },
     "0b61d8d08be849b7ae4e293d2747aac3": {
      "model_module": "@jupyter-widgets/controls",
      "model_module_version": "1.1.0",
      "model_name": "IntSliderModel",
      "state": {
       "layout": "IPY_MODEL_69c549907ef04578858f5283da1f84d6",
       "max": 100000,
       "step": 1000,
       "style": "IPY_MODEL_0d291e1a2cc241f3ad2966b9d0c6ba1a",
       "value": 38000
      }
     },
     "0ba501840d9a482da4bf0aff8e965dab": {
      "model_module": "@jupyter-widgets/controls",
      "model_module_version": "1.1.0",
      "model_name": "DescriptionStyleModel",
      "state": {
       "description_width": ""
      }
     },
     "0c3c276da0d74ad28a950f928b94f013": {
      "model_module": "@jupyter-widgets/controls",
      "model_module_version": "1.1.0",
      "model_name": "FloatSliderModel",
      "state": {
       "layout": "IPY_MODEL_97100c5f66f24ad3911a3ec5f8c9d0b3",
       "max": 5,
       "min": 2,
       "step": 0.1,
       "style": "IPY_MODEL_a9103798d61240debac998c6c9db3f4a",
       "value": 3.5
      }
     },
     "0c477b1b27814eeb832bba82dd14cb97": {
      "model_module": "@jupyter-widgets/base",
      "model_module_version": "1.0.0",
      "model_name": "LayoutModel",
      "state": {}
     },
     "0c6ddd3e027f4b9ea3e59ad3727b9f65": {
      "model_module": "@jupyter-widgets/controls",
      "model_module_version": "1.1.0",
      "model_name": "SliderStyleModel",
      "state": {
       "description_width": ""
      }
     },
     "0d291e1a2cc241f3ad2966b9d0c6ba1a": {
      "model_module": "@jupyter-widgets/controls",
      "model_module_version": "1.1.0",
      "model_name": "SliderStyleModel",
      "state": {
       "description_width": ""
      }
     },
     "0fcf13cb8b854171bbc54562a8d844f9": {
      "model_module": "@jupyter-widgets/base",
      "model_module_version": "1.0.0",
      "model_name": "LayoutModel",
      "state": {}
     },
     "109bc1dd92af475992b47168d9c3cd0e": {
      "model_module": "@jupyter-widgets/base",
      "model_module_version": "1.0.0",
      "model_name": "LayoutModel",
      "state": {}
     },
     "124dd9d00f1f41e4a90ab47c7c933ea2": {
      "model_module": "@jupyter-widgets/base",
      "model_module_version": "1.0.0",
      "model_name": "LayoutModel",
      "state": {
       "width": "auto"
      }
     },
     "133e9eab39d4474eac047b5363072b31": {
      "model_module": "@jupyter-widgets/base",
      "model_module_version": "1.0.0",
      "model_name": "LayoutModel",
      "state": {}
     },
     "1470a4934fbe40f1a85e130d5ec3749f": {
      "model_module": "@jupyter-widgets/controls",
      "model_module_version": "1.1.0",
      "model_name": "DescriptionStyleModel",
      "state": {
       "description_width": ""
      }
     },
     "14f22dade1574fac87553263776543f7": {
      "model_module": "@jupyter-widgets/controls",
      "model_module_version": "1.1.0",
      "model_name": "DescriptionStyleModel",
      "state": {
       "description_width": ""
      }
     },
     "155962b45ed54141b46bbe559d7d7427": {
      "model_module": "@jupyter-widgets/base",
      "model_module_version": "1.0.0",
      "model_name": "LayoutModel",
      "state": {}
     },
     "1a4d6a139be147fc98f9f60242b9690d": {
      "model_module": "@jupyter-widgets/controls",
      "model_module_version": "1.1.0",
      "model_name": "LabelModel",
      "state": {
       "layout": "IPY_MODEL_0c477b1b27814eeb832bba82dd14cb97",
       "style": "IPY_MODEL_de6ac58a222b4dc4837c80b9c28bc843",
       "value": "Roth Savings"
      }
     },
     "1a8bab54bd32454895751f9581d1a949": {
      "model_module": "@jupyter-widgets/controls",
      "model_module_version": "1.1.0",
      "model_name": "CheckboxModel",
      "state": {
       "description": "Don't Buy: Cash",
       "disabled": false,
       "layout": "IPY_MODEL_a8f8b9f6f4ba4098b1f1821bd6f9d70a",
       "style": "IPY_MODEL_5aa24da849694585bf4e62d410bb08fa",
       "value": true
      }
     },
     "1e90fa3d85c94dc79abed1d493d0e9d9": {
      "model_module": "@jupyter-widgets/controls",
      "model_module_version": "1.1.0",
      "model_name": "DescriptionStyleModel",
      "state": {
       "description_width": ""
      }
     },
     "1eed1d40bb824e01b59605458d914728": {
      "model_module": "@jupyter-widgets/base",
      "model_module_version": "1.0.0",
      "model_name": "LayoutModel",
      "state": {
       "width": "auto"
      }
     },
     "2298571269c1459db010eee2efb07343": {
      "model_module": "@jupyter-widgets/base",
      "model_module_version": "1.0.0",
      "model_name": "LayoutModel",
      "state": {
       "width": "auto"
      }
     },
     "2354feb1ae6c490891ba02fefeb26905": {
      "model_module": "@jupyter-widgets/controls",
      "model_module_version": "1.1.0",
      "model_name": "LabelModel",
      "state": {
       "layout": "IPY_MODEL_b358e2bb9b714d799303c9e6eecf8ee1",
       "style": "IPY_MODEL_dacfdef083994e42919a9483d6170c67",
       "value": "$ \\underline{ \\textbf{Income} } $"
      }
     },
     "235fac620e5c4fb684064dfcf276ec18": {
      "model_module": "@jupyter-widgets/base",
      "model_module_version": "1.0.0",
      "model_name": "LayoutModel",
      "state": {}
     },
     "29b65c4d00bc4fabbf0ca0bc94d11e20": {
      "model_module": "@jupyter-widgets/base",
      "model_module_version": "1.0.0",
      "model_name": "LayoutModel",
      "state": {}
     },
     "30d94723d1444bbd8b57373581c8fa43": {
      "model_module": "@jupyter-widgets/controls",
      "model_module_version": "1.1.0",
      "model_name": "DescriptionStyleModel",
      "state": {
       "description_width": ""
      }
     },
     "347c171b6afa44aba7cbfa4d60ba5225": {
      "model_module": "@jupyter-widgets/controls",
      "model_module_version": "1.1.0",
      "model_name": "IntSliderModel",
      "state": {
       "layout": "IPY_MODEL_6f29a735a056419eb866a7d2fafb9f4b",
       "max": 18000,
       "step": 500,
       "style": "IPY_MODEL_af57b81501584492b9ad313ea745716f",
       "value": 18000
      }
     },
     "348bd7a24d4f46988c359a6bc077b71a": {
      "model_module": "@jupyter-widgets/controls",
      "model_module_version": "1.1.0",
      "model_name": "LabelModel",
      "state": {
       "layout": "IPY_MODEL_4dd3882333f44425bb1f34f52e0f4bb3",
       "style": "IPY_MODEL_e3290553ed3c4dceb30461a3cadd2097",
       "value": "Utilities"
      }
     },
     "390f86161ac94ef9b7180a18f960b26c": {
      "model_module": "@jupyter-widgets/controls",
      "model_module_version": "1.1.0",
      "model_name": "DescriptionStyleModel",
      "state": {
       "description_width": ""
      }
     },
     "392195a09cc94c289aef360b8df23de8": {
      "model_module": "@jupyter-widgets/controls",
      "model_module_version": "1.1.0",
      "model_name": "DescriptionStyleModel",
      "state": {
       "description_width": ""
      }
     },
     "396173d25d8745b2834f8a02ab7a68b4": {
      "model_module": "@jupyter-widgets/base",
      "model_module_version": "1.0.0",
      "model_name": "LayoutModel",
      "state": {
       "flex": "1 1 auto",
       "width": "auto"
      }
     },
     "399a3f27c0cd48c581950dc87f9ff69c": {
      "model_module": "@jupyter-widgets/controls",
      "model_module_version": "1.1.0",
      "model_name": "SliderStyleModel",
      "state": {
       "description_width": ""
      }
     },
     "39de178c8ceb4748b2d5a5e66727824c": {
      "model_module": "@jupyter-widgets/base",
      "model_module_version": "1.0.0",
      "model_name": "LayoutModel",
      "state": {}
     },
     "3a8300005f3a41d3adb7fdb35a2ea1af": {
      "model_module": "@jupyter-widgets/base",
      "model_module_version": "1.0.0",
      "model_name": "LayoutModel",
      "state": {
       "width": "auto"
      }
     },
     "3d72c7885f8a41c7801330d85a756daa": {
      "model_module": "@jupyter-widgets/controls",
      "model_module_version": "1.1.0",
      "model_name": "VBoxModel",
      "state": {
       "children": [
        "IPY_MODEL_07451bfee6e949428309edbe25f15119",
        "IPY_MODEL_7f8dc3c8888b4a48817114df742bb356",
        "IPY_MODEL_cf9814452a4b423593431a32df0378f1"
       ],
       "layout": "IPY_MODEL_9a1f0bfa8d9e4dcbb169f5bafc93157c"
      }
     },
     "3df532d2c91946a586a43cca5f38b88e": {
      "model_module": "@jupyter-widgets/base",
      "model_module_version": "1.0.0",
      "model_name": "LayoutModel",
      "state": {}
     },
     "3f9b84f9eed44400809779c00a028298": {
      "model_module": "@jupyter-widgets/controls",
      "model_module_version": "1.1.0",
      "model_name": "DescriptionStyleModel",
      "state": {
       "description_width": ""
      }
     },
     "3fb96f107b0f46b7906ec5a39926ff3b": {
      "model_module": "@jupyter-widgets/controls",
      "model_module_version": "1.1.0",
      "model_name": "SliderStyleModel",
      "state": {
       "description_width": ""
      }
     },
     "41e01c17f29a41d79569c226ff8230d7": {
      "model_module": "@jupyter-widgets/controls",
      "model_module_version": "1.1.0",
      "model_name": "FloatSliderModel",
      "state": {
       "layout": "IPY_MODEL_ab8d01f4ec0e49428b5e01659cbf4831",
       "max": 5,
       "min": 2,
       "step": 0.1,
       "style": "IPY_MODEL_546d907618c94960a991cefd806c7d68",
       "value": 4
      }
     },
     "45e5f5e40b7f47af9739ddc3804d7ac8": {
      "model_module": "@jupyter-widgets/output",
      "model_module_version": "1.0.0",
      "model_name": "OutputModel",
      "state": {
       "layout": "IPY_MODEL_512f2fcd919f422fb267c8163b2bd90b",
       "outputs": [
        {
         "data": {
          "image/png": "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\n",
          "text/plain": "<matplotlib.figure.Figure at 0xc34a690>"
         },
         "metadata": {},
         "output_type": "display_data"
        }
       ]
      }
     },
     "479c85c1daa140ac8749effe1ee71c1b": {
      "model_module": "@jupyter-widgets/controls",
      "model_module_version": "1.1.0",
      "model_name": "CheckboxModel",
      "state": {
       "description": "Loan2: Cash",
       "disabled": false,
       "layout": "IPY_MODEL_a571b7362f244f9eb87da280e4528aec",
       "style": "IPY_MODEL_7ae04d32316744d0b28ccc204ea0d478",
       "value": true
      }
     },
     "485546cb1f5a4a509e3ad1b6c776d428": {
      "model_module": "@jupyter-widgets/controls",
      "model_module_version": "1.1.0",
      "model_name": "SliderStyleModel",
      "state": {
       "description_width": ""
      }
     },
     "48e211825b98435a9eeff4dcb3181fc6": {
      "model_module": "@jupyter-widgets/base",
      "model_module_version": "1.0.0",
      "model_name": "LayoutModel",
      "state": {
       "width": "auto"
      }
     },
     "4d52b1bcd37e441dbbe361f37b096f09": {
      "model_module": "@jupyter-widgets/controls",
      "model_module_version": "1.1.0",
      "model_name": "LabelModel",
      "state": {
       "layout": "IPY_MODEL_0558bfd8a3ab4343a31e8b2b14dfc470",
       "style": "IPY_MODEL_50638ed45c3e4fc791ba8da2a830c745",
       "value": "Loan1 Interest"
      }
     },
     "4dd3882333f44425bb1f34f52e0f4bb3": {
      "model_module": "@jupyter-widgets/base",
      "model_module_version": "1.0.0",
      "model_name": "LayoutModel",
      "state": {}
     },
     "50638ed45c3e4fc791ba8da2a830c745": {
      "model_module": "@jupyter-widgets/controls",
      "model_module_version": "1.1.0",
      "model_name": "DescriptionStyleModel",
      "state": {
       "description_width": ""
      }
     },
     "512f2fcd919f422fb267c8163b2bd90b": {
      "model_module": "@jupyter-widgets/base",
      "model_module_version": "1.0.0",
      "model_name": "LayoutModel",
      "state": {}
     },
     "515a54bb52ae4826ac6f87de37c08c67": {
      "model_module": "@jupyter-widgets/base",
      "model_module_version": "1.0.0",
      "model_name": "LayoutModel",
      "state": {}
     },
     "51e79b2fc35c41f29f3a71cc79f4d6ce": {
      "model_module": "@jupyter-widgets/base",
      "model_module_version": "1.0.0",
      "model_name": "LayoutModel",
      "state": {}
     },
     "539923a1365a4aa989a87806632a6d43": {
      "model_module": "@jupyter-widgets/base",
      "model_module_version": "1.0.0",
      "model_name": "LayoutModel",
      "state": {}
     },
     "546d907618c94960a991cefd806c7d68": {
      "model_module": "@jupyter-widgets/controls",
      "model_module_version": "1.1.0",
      "model_name": "SliderStyleModel",
      "state": {
       "description_width": ""
      }
     },
     "549e4b236c904d8f9b881c42637a5b8b": {
      "model_module": "@jupyter-widgets/controls",
      "model_module_version": "1.1.0",
      "model_name": "LabelModel",
      "state": {
       "layout": "IPY_MODEL_f5b8151939554540b964e25def184737",
       "style": "IPY_MODEL_7eec661b4f454d42ba445489fee36c87"
      }
     },
     "5525ceabbcd0420196b612f5c920a17c": {
      "model_module": "@jupyter-widgets/controls",
      "model_module_version": "1.1.0",
      "model_name": "LabelModel",
      "state": {
       "layout": "IPY_MODEL_515a54bb52ae4826ac6f87de37c08c67",
       "style": "IPY_MODEL_30d94723d1444bbd8b57373581c8fa43",
       "value": "$ \\underline{ \\textbf{Investments} } $"
      }
     },
     "55dd73c496284634aa193552e554c35c": {
      "model_module": "@jupyter-widgets/controls",
      "model_module_version": "1.1.0",
      "model_name": "VBoxModel",
      "state": {
       "children": [
        "IPY_MODEL_0b61d8d08be849b7ae4e293d2747aac3",
        "IPY_MODEL_cf30b764f8704926a40acb839e780164",
        "IPY_MODEL_d699538b837a4c3fa0ccc3281a1c9a02"
       ],
       "layout": "IPY_MODEL_c1f911867c5a42ec9042d4d6051be7d4"
      }
     },
     "55ebfb0a1e9b495eb6b7b47f9cecbbc4": {
      "model_module": "@jupyter-widgets/base",
      "model_module_version": "1.0.0",
      "model_name": "LayoutModel",
      "state": {}
     },
     "5825d014d6c949d98b14827434a6484c": {
      "model_module": "@jupyter-widgets/controls",
      "model_module_version": "1.1.0",
      "model_name": "VBoxModel",
      "state": {
       "children": [
        "IPY_MODEL_5d888c8d643848088516bc2be09db839",
        "IPY_MODEL_c69a7fa76bb545969926d495125afa7a",
        "IPY_MODEL_a2ae20409303428c938a8e3f56fbb2cb"
       ],
       "layout": "IPY_MODEL_109bc1dd92af475992b47168d9c3cd0e"
      }
     },
     "5866541caf664b518c5c5bf2b1ec3452": {
      "model_module": "@jupyter-widgets/base",
      "model_module_version": "1.0.0",
      "model_name": "LayoutModel",
      "state": {
       "width": "auto"
      }
     },
     "593b041187a14be7b7c059f0ae49bec6": {
      "model_module": "@jupyter-widgets/base",
      "model_module_version": "1.0.0",
      "model_name": "LayoutModel",
      "state": {}
     },
     "5aa24da849694585bf4e62d410bb08fa": {
      "model_module": "@jupyter-widgets/controls",
      "model_module_version": "1.1.0",
      "model_name": "DescriptionStyleModel",
      "state": {
       "description_width": ""
      }
     },
     "5b775940ed6e47a88fa8dac9a23bfbf2": {
      "model_module": "@jupyter-widgets/base",
      "model_module_version": "1.0.0",
      "model_name": "LayoutModel",
      "state": {
       "width": "auto"
      }
     },
     "5d888c8d643848088516bc2be09db839": {
      "model_module": "@jupyter-widgets/controls",
      "model_module_version": "1.1.0",
      "model_name": "LabelModel",
      "state": {
       "layout": "IPY_MODEL_86173094ec114806acfc5eb930199986",
       "style": "IPY_MODEL_0ba501840d9a482da4bf0aff8e965dab",
       "value": "Income"
      }
     },
     "5e40c12a2e694bb38e16832444079cfd": {
      "model_module": "@jupyter-widgets/base",
      "model_module_version": "1.0.0",
      "model_name": "LayoutModel",
      "state": {}
     },
     "5f6669cc2ac5424197924c34b7a81ca4": {
      "model_module": "@jupyter-widgets/controls",
      "model_module_version": "1.1.0",
      "model_name": "CheckboxModel",
      "state": {
       "description": "Loan2: Equity",
       "disabled": false,
       "layout": "IPY_MODEL_04a1f124e9d3453ba1d8779f44c5be84",
       "style": "IPY_MODEL_f51717bef8b04c479f05ba34b27c2b7d",
       "value": true
      }
     },
     "5ff1a1952b2d46d5bd19afd877ac71f8": {
      "model_module": "@jupyter-widgets/controls",
      "model_module_version": "1.1.0",
      "model_name": "VBoxModel",
      "state": {
       "children": [
        "IPY_MODEL_d6d84e794feb49cfb7fe8a93e7a1dee7",
        "IPY_MODEL_c304117b3a254b39b1a4452ec449d573"
       ],
       "layout": "IPY_MODEL_155962b45ed54141b46bbe559d7d7427"
      }
     },
     "60283f1ab00440dbb587396193237f0b": {
      "model_module": "@jupyter-widgets/controls",
      "model_module_version": "1.1.0",
      "model_name": "SliderStyleModel",
      "state": {
       "description_width": ""
      }
     },
     "63080047050a4348a8cbf8803cf3392d": {
      "model_module": "@jupyter-widgets/controls",
      "model_module_version": "1.1.0",
      "model_name": "HBoxModel",
      "state": {
       "children": [
        "IPY_MODEL_1a8bab54bd32454895751f9581d1a949",
        "IPY_MODEL_7cecb2e6703b4fec9504fdacd0c06965",
        "IPY_MODEL_479c85c1daa140ac8749effe1ee71c1b"
       ],
       "layout": "IPY_MODEL_8f143fc797de4a82bc0d80614f2e7266"
      }
     },
     "635a45bc65cb45d284c82ce80e99cc21": {
      "model_module": "@jupyter-widgets/controls",
      "model_module_version": "1.1.0",
      "model_name": "SliderStyleModel",
      "state": {
       "description_width": ""
      }
     },
     "63e109d2086a4cbab9e7159d96b27797": {
      "model_module": "@jupyter-widgets/controls",
      "model_module_version": "1.1.0",
      "model_name": "DescriptionStyleModel",
      "state": {
       "description_width": ""
      }
     },
     "655cf97346e1448da3e5f3687f718eeb": {
      "model_module": "@jupyter-widgets/controls",
      "model_module_version": "1.1.0",
      "model_name": "HBoxModel",
      "state": {
       "children": [
        "IPY_MODEL_0a36aeead081442dae92decdea7342f5",
        "IPY_MODEL_b36e0417f47e4b78b1f8ba57d6d64d66",
        "IPY_MODEL_5f6669cc2ac5424197924c34b7a81ca4"
       ],
       "layout": "IPY_MODEL_bebc617d6d1d484fa704a3044dc92ea4"
      }
     },
     "65b242e4ea0b42148df4d67372037b65": {
      "model_module": "@jupyter-widgets/base",
      "model_module_version": "1.0.0",
      "model_name": "LayoutModel",
      "state": {
       "width": "100%"
      }
     },
     "66f3b4d91ffe48ff87ddbf637abb7aa8": {
      "model_module": "@jupyter-widgets/controls",
      "model_module_version": "1.1.0",
      "model_name": "DescriptionStyleModel",
      "state": {
       "description_width": ""
      }
     },
     "68410eb4d5f54841b5e8de017f450e12": {
      "model_module": "@jupyter-widgets/controls",
      "model_module_version": "1.1.0",
      "model_name": "SliderStyleModel",
      "state": {
       "description_width": ""
      }
     },
     "69b78a83f4f04b7fb036502cd4a1fa96": {
      "model_module": "@jupyter-widgets/controls",
      "model_module_version": "1.1.0",
      "model_name": "VBoxModel",
      "state": {
       "children": [
        "IPY_MODEL_c12158cc18db46ccbc0e6164cca14b0c",
        "IPY_MODEL_7a9eda3e41d945098562ad1fd190ca35",
        "IPY_MODEL_7f9e7ebb4c204b2cabd7519e67becaca"
       ],
       "layout": "IPY_MODEL_83089a542e3b40649316f45348ab3e36"
      }
     },
     "69c549907ef04578858f5283da1f84d6": {
      "model_module": "@jupyter-widgets/base",
      "model_module_version": "1.0.0",
      "model_name": "LayoutModel",
      "state": {
       "width": "auto"
      }
     },
     "6c0d5c242c01499eb636042df8741f25": {
      "model_module": "@jupyter-widgets/controls",
      "model_module_version": "1.1.0",
      "model_name": "DescriptionStyleModel",
      "state": {
       "description_width": ""
      }
     },
     "6d0268dee79a4a6eac1b9d15ccd6a9ab": {
      "model_module": "@jupyter-widgets/controls",
      "model_module_version": "1.1.0",
      "model_name": "SliderStyleModel",
      "state": {
       "description_width": ""
      }
     },
     "6dcf5dfa26744318bbc30e974512b1cd": {
      "model_module": "@jupyter-widgets/base",
      "model_module_version": "1.0.0",
      "model_name": "LayoutModel",
      "state": {
       "width": "auto"
      }
     },
     "6e61b19cf77441e6b05e15ae522cfbf5": {
      "model_module": "@jupyter-widgets/controls",
      "model_module_version": "1.1.0",
      "model_name": "LabelModel",
      "state": {
       "layout": "IPY_MODEL_d311733cd0b84ceb972eff4634959abb",
       "style": "IPY_MODEL_63e109d2086a4cbab9e7159d96b27797",
       "value": "General"
      }
     },
     "6e6ca42cd67540129fc36e2223983b93": {
      "model_module": "@jupyter-widgets/base",
      "model_module_version": "1.0.0",
      "model_name": "LayoutModel",
      "state": {
       "width": "auto"
      }
     },
     "6e73df41272f40f4a9f56e4cce57b21f": {
      "model_module": "@jupyter-widgets/controls",
      "model_module_version": "1.1.0",
      "model_name": "HBoxModel",
      "state": {
       "children": [
        "IPY_MODEL_3d72c7885f8a41c7801330d85a756daa",
        "IPY_MODEL_fb5dc93c3c4e481e9f8cc6adc042ef2f"
       ],
       "layout": "IPY_MODEL_ba9b934127e24c6cbf9672d80f58a3b6"
      }
     },
     "6f29a735a056419eb866a7d2fafb9f4b": {
      "model_module": "@jupyter-widgets/base",
      "model_module_version": "1.0.0",
      "model_name": "LayoutModel",
      "state": {
       "width": "auto"
      }
     },
     "7127984ee21349d9ba49f5ef3031ef8a": {
      "model_module": "@jupyter-widgets/base",
      "model_module_version": "1.0.0",
      "model_name": "LayoutModel",
      "state": {
       "justify_content": "center",
       "width": "33%"
      }
     },
     "73b36a10828f4038948a1f013df41f99": {
      "model_module": "@jupyter-widgets/controls",
      "model_module_version": "1.1.0",
      "model_name": "SliderStyleModel",
      "state": {
       "description_width": ""
      }
     },
     "7735c24a63b043808c7a9f346ea9367e": {
      "model_module": "@jupyter-widgets/base",
      "model_module_version": "1.0.0",
      "model_name": "LayoutModel",
      "state": {}
     },
     "7774f218a7754b898b443d03b04e3cd6": {
      "model_module": "@jupyter-widgets/controls",
      "model_module_version": "1.1.0",
      "model_name": "ButtonStyleModel",
      "state": {}
     },
     "7a9eda3e41d945098562ad1fd190ca35": {
      "model_module": "@jupyter-widgets/controls",
      "model_module_version": "1.1.0",
      "model_name": "IntSliderModel",
      "state": {
       "layout": "IPY_MODEL_6dcf5dfa26744318bbc30e974512b1cd",
       "max": 3000,
       "step": 100,
       "style": "IPY_MODEL_399a3f27c0cd48c581950dc87f9ff69c",
       "value": 1100
      }
     },
     "7ae04d32316744d0b28ccc204ea0d478": {
      "model_module": "@jupyter-widgets/controls",
      "model_module_version": "1.1.0",
      "model_name": "DescriptionStyleModel",
      "state": {
       "description_width": ""
      }
     },
     "7b45eebba5844e1c9c065f0744068463": {
      "model_module": "@jupyter-widgets/controls",
      "model_module_version": "1.1.0",
      "model_name": "HBoxModel",
      "state": {
       "children": [
        "IPY_MODEL_3d72c7885f8a41c7801330d85a756daa",
        "IPY_MODEL_fb5dc93c3c4e481e9f8cc6adc042ef2f"
       ],
       "layout": "IPY_MODEL_39de178c8ceb4748b2d5a5e66727824c"
      }
     },
     "7c4c49a46a0f4d73bc8cef90b52d45f1": {
      "model_module": "@jupyter-widgets/controls",
      "model_module_version": "1.1.0",
      "model_name": "DescriptionStyleModel",
      "state": {
       "description_width": ""
      }
     },
     "7cecb2e6703b4fec9504fdacd0c06965": {
      "model_module": "@jupyter-widgets/controls",
      "model_module_version": "1.1.0",
      "model_name": "CheckboxModel",
      "state": {
       "description": "Loan1: Cash",
       "disabled": false,
       "layout": "IPY_MODEL_fbeb583b483b448fad6256f2b8d4327d",
       "style": "IPY_MODEL_83459e79e53d4c0ca2901b2788500ac0",
       "value": true
      }
     },
     "7d418e8313ef4d14b29df67faeb32a16": {
      "model_module": "@jupyter-widgets/base",
      "model_module_version": "1.0.0",
      "model_name": "LayoutModel",
      "state": {
       "width": "auto"
      }
     },
     "7eec661b4f454d42ba445489fee36c87": {
      "model_module": "@jupyter-widgets/controls",
      "model_module_version": "1.1.0",
      "model_name": "DescriptionStyleModel",
      "state": {
       "description_width": ""
      }
     },
     "7f8dc3c8888b4a48817114df742bb356": {
      "model_module": "@jupyter-widgets/controls",
      "model_module_version": "1.1.0",
      "model_name": "LabelModel",
      "state": {
       "layout": "IPY_MODEL_29b65c4d00bc4fabbf0ca0bc94d11e20",
       "style": "IPY_MODEL_b7a3f063de7e4bb191060d2dc5ed6477",
       "value": "401K Contributions"
      }
     },
     "7f99917f27e94591abc01e91dda8687d": {
      "model_module": "@jupyter-widgets/controls",
      "model_module_version": "1.1.0",
      "model_name": "VBoxModel",
      "state": {
       "children": [
        "IPY_MODEL_007c3c6bf2d143b783852d8ba64c1f13",
        "IPY_MODEL_0c3c276da0d74ad28a950f928b94f013",
        "IPY_MODEL_dec01f7a4eec4d629302d1ae9f63ce51",
        "IPY_MODEL_41e01c17f29a41d79569c226ff8230d7"
       ],
       "layout": "IPY_MODEL_b246afe475814aa6ad02d8a1cc271508"
      }
     },
     "7f9e7ebb4c204b2cabd7519e67becaca": {
      "model_module": "@jupyter-widgets/controls",
      "model_module_version": "1.1.0",
      "model_name": "IntSliderModel",
      "state": {
       "layout": "IPY_MODEL_7d418e8313ef4d14b29df67faeb32a16",
       "max": 30,
       "style": "IPY_MODEL_b7bb4411df734160a7b7e07d98e9de08",
       "value": 20
      }
     },
     "83089a542e3b40649316f45348ab3e36": {
      "model_module": "@jupyter-widgets/base",
      "model_module_version": "1.0.0",
      "model_name": "LayoutModel",
      "state": {}
     },
     "83459e79e53d4c0ca2901b2788500ac0": {
      "model_module": "@jupyter-widgets/controls",
      "model_module_version": "1.1.0",
      "model_name": "DescriptionStyleModel",
      "state": {
       "description_width": ""
      }
     },
     "844bf88dbff441f6b0408b85d72e453e": {
      "model_module": "@jupyter-widgets/controls",
      "model_module_version": "1.1.0",
      "model_name": "VBoxModel",
      "state": {
       "children": [
        "IPY_MODEL_e24dac7c40894037b39a3c07d30b8c9f",
        "IPY_MODEL_9579fb96e1084456b1d8b444e5cc261a",
        "IPY_MODEL_1a4d6a139be147fc98f9f60242b9690d"
       ],
       "layout": "IPY_MODEL_3df532d2c91946a586a43cca5f38b88e"
      }
     },
     "86173094ec114806acfc5eb930199986": {
      "model_module": "@jupyter-widgets/base",
      "model_module_version": "1.0.0",
      "model_name": "LayoutModel",
      "state": {}
     },
     "86b6cfcccc1e450ba588753e78321eb4": {
      "model_module": "@jupyter-widgets/controls",
      "model_module_version": "1.1.0",
      "model_name": "VBoxModel",
      "state": {
       "children": [
        "IPY_MODEL_549e4b236c904d8f9b881c42637a5b8b",
        "IPY_MODEL_69b78a83f4f04b7fb036502cd4a1fa96",
        "IPY_MODEL_549e4b236c904d8f9b881c42637a5b8b",
        "IPY_MODEL_55dd73c496284634aa193552e554c35c",
        "IPY_MODEL_549e4b236c904d8f9b881c42637a5b8b",
        "IPY_MODEL_d549adc2d74f4844a3f48f808ece75ee",
        "IPY_MODEL_549e4b236c904d8f9b881c42637a5b8b",
        "IPY_MODEL_fb5dc93c3c4e481e9f8cc6adc042ef2f",
        "IPY_MODEL_549e4b236c904d8f9b881c42637a5b8b",
        "IPY_MODEL_7f99917f27e94591abc01e91dda8687d"
       ],
       "layout": "IPY_MODEL_396173d25d8745b2834f8a02ab7a68b4"
      }
     },
     "8f143fc797de4a82bc0d80614f2e7266": {
      "model_module": "@jupyter-widgets/base",
      "model_module_version": "1.0.0",
      "model_name": "LayoutModel",
      "state": {
       "width": "100%"
      }
     },
     "8f87d63b031f4c7d914c10d8cc4c6df4": {
      "model_module": "@jupyter-widgets/base",
      "model_module_version": "1.0.0",
      "model_name": "LayoutModel",
      "state": {}
     },
     "922a9c5c855949b9bb931c5cc06f3166": {
      "model_module": "@jupyter-widgets/controls",
      "model_module_version": "1.1.0",
      "model_name": "ButtonModel",
      "state": {
       "description": "Update",
       "layout": "IPY_MODEL_e6c5e3a753f447e88c0dc1232445fa74",
       "style": "IPY_MODEL_7774f218a7754b898b443d03b04e3cd6"
      }
     },
     "937c7e3b8c9a422283b9891ccd84443e": {
      "model_module": "@jupyter-widgets/controls",
      "model_module_version": "1.1.0",
      "model_name": "IntSliderModel",
      "state": {
       "description": "Outlook",
       "layout": "IPY_MODEL_c3d7610f5a494a1e80e8a22f77ca76b2",
       "max": 50,
       "min": 2,
       "style": "IPY_MODEL_60283f1ab00440dbb587396193237f0b",
       "value": 30
      }
     },
     "9579fb96e1084456b1d8b444e5cc261a": {
      "model_module": "@jupyter-widgets/controls",
      "model_module_version": "1.1.0",
      "model_name": "LabelModel",
      "state": {
       "layout": "IPY_MODEL_0933183824724145b5c07320b1b616d5",
       "style": "IPY_MODEL_c4734209155f4458a217e2b8c0d43b91",
       "value": "401K Savings"
      }
     },
     "97100c5f66f24ad3911a3ec5f8c9d0b3": {
      "model_module": "@jupyter-widgets/base",
      "model_module_version": "1.0.0",
      "model_name": "LayoutModel",
      "state": {
       "width": "auto"
      }
     },
     "995bbec69a254f2e98307a2c57556f28": {
      "model_module": "@jupyter-widgets/controls",
      "model_module_version": "1.1.0",
      "model_name": "VBoxModel",
      "state": {
       "children": [
        "IPY_MODEL_d926fcdb690042a4bae90e860c6eae97",
        "IPY_MODEL_45e5f5e40b7f47af9739ddc3804d7ac8",
        "IPY_MODEL_937c7e3b8c9a422283b9891ccd84443e",
        "IPY_MODEL_df726d7eb4504ef79a2936fbc36a4e18",
        "IPY_MODEL_922a9c5c855949b9bb931c5cc06f3166",
        "IPY_MODEL_63080047050a4348a8cbf8803cf3392d",
        "IPY_MODEL_655cf97346e1448da3e5f3687f718eeb"
       ],
       "layout": "IPY_MODEL_d9308d16c703440d8b0f287f80800e3b"
      }
     },
     "9a1f0bfa8d9e4dcbb169f5bafc93157c": {
      "model_module": "@jupyter-widgets/base",
      "model_module_version": "1.0.0",
      "model_name": "LayoutModel",
      "state": {}
     },
     "9a77ea13dbd74bee95571e9188a4bbdf": {
      "model_module": "@jupyter-widgets/base",
      "model_module_version": "1.0.0",
      "model_name": "LayoutModel",
      "state": {}
     },
     "9aebe008da394fc282a75a6d94055967": {
      "model_module": "@jupyter-widgets/base",
      "model_module_version": "1.0.0",
      "model_name": "LayoutModel",
      "state": {}
     },
     "9c80b8587b6943c09f8b81f0504f62a7": {
      "model_module": "@jupyter-widgets/controls",
      "model_module_version": "1.1.0",
      "model_name": "DescriptionStyleModel",
      "state": {
       "description_width": ""
      }
     },
     "a2ae20409303428c938a8e3f56fbb2cb": {
      "model_module": "@jupyter-widgets/controls",
      "model_module_version": "1.1.0",
      "model_name": "LabelModel",
      "state": {
       "layout": "IPY_MODEL_a6df9063d0d948b09124c4bb2ae1e7a4",
       "style": "IPY_MODEL_392195a09cc94c289aef360b8df23de8",
       "value": "Income Tax"
      }
     },
     "a32ff9d3817647fb99e15ceaedaada1a": {
      "model_module": "@jupyter-widgets/base",
      "model_module_version": "1.0.0",
      "model_name": "LayoutModel",
      "state": {}
     },
     "a41dc2a614f941f390dcc81db87ef0b2": {
      "model_module": "@jupyter-widgets/controls",
      "model_module_version": "1.1.0",
      "model_name": "SliderStyleModel",
      "state": {
       "description_width": ""
      }
     },
     "a4535c0d4f5f47118b8d2508e2d5fbb0": {
      "model_module": "@jupyter-widgets/controls",
      "model_module_version": "1.1.0",
      "model_name": "DescriptionStyleModel",
      "state": {
       "description_width": ""
      }
     },
     "a571b7362f244f9eb87da280e4528aec": {
      "model_module": "@jupyter-widgets/base",
      "model_module_version": "1.0.0",
      "model_name": "LayoutModel",
      "state": {
       "justify_content": "center",
       "width": "34%"
      }
     },
     "a603bf6ad64b42bb8d723dce38d590da": {
      "model_module": "@jupyter-widgets/controls",
      "model_module_version": "1.1.0",
      "model_name": "IntSliderModel",
      "state": {
       "layout": "IPY_MODEL_5b775940ed6e47a88fa8dac9a23bfbf2",
       "max": 20,
       "style": "IPY_MODEL_a41dc2a614f941f390dcc81db87ef0b2",
       "value": 10
      }
     },
     "a6bd8d3454ce49eab210f8ae5ee93da0": {
      "model_module": "@jupyter-widgets/base",
      "model_module_version": "1.0.0",
      "model_name": "LayoutModel",
      "state": {}
     },
     "a6df9063d0d948b09124c4bb2ae1e7a4": {
      "model_module": "@jupyter-widgets/base",
      "model_module_version": "1.0.0",
      "model_name": "LayoutModel",
      "state": {}
     },
     "a8f8b9f6f4ba4098b1f1821bd6f9d70a": {
      "model_module": "@jupyter-widgets/base",
      "model_module_version": "1.0.0",
      "model_name": "LayoutModel",
      "state": {
       "justify_content": "center",
       "width": "33%"
      }
     },
     "a9103798d61240debac998c6c9db3f4a": {
      "model_module": "@jupyter-widgets/controls",
      "model_module_version": "1.1.0",
      "model_name": "SliderStyleModel",
      "state": {
       "description_width": ""
      }
     },
     "aa1cd4f55bd04944915b682ccc2e687f": {
      "model_module": "@jupyter-widgets/controls",
      "model_module_version": "1.1.0",
      "model_name": "VBoxModel",
      "state": {
       "children": [
        "IPY_MODEL_2354feb1ae6c490891ba02fefeb26905",
        "IPY_MODEL_5825d014d6c949d98b14827434a6484c",
        "IPY_MODEL_d6d84e794feb49cfb7fe8a93e7a1dee7",
        "IPY_MODEL_844bf88dbff441f6b0408b85d72e453e",
        "IPY_MODEL_b12f0adf67de4cf58ac0d7a11f1b750a",
        "IPY_MODEL_b6f3efa6c0244ec88069080517f1d895",
        "IPY_MODEL_5525ceabbcd0420196b612f5c920a17c",
        "IPY_MODEL_3d72c7885f8a41c7801330d85a756daa",
        "IPY_MODEL_ce655639a0c841a39867e108f31ead17",
        "IPY_MODEL_be36c0e36a94436ea9ce38cb2624143e"
       ],
       "layout": "IPY_MODEL_ac54f67f6956479693e52332b876186d"
      }
     },
     "ab8d01f4ec0e49428b5e01659cbf4831": {
      "model_module": "@jupyter-widgets/base",
      "model_module_version": "1.0.0",
      "model_name": "LayoutModel",
      "state": {
       "width": "auto"
      }
     },
     "abc69ff7803e4975a18e54c117e038e8": {
      "model_module": "@jupyter-widgets/base",
      "model_module_version": "1.0.0",
      "model_name": "LayoutModel",
      "state": {}
     },
     "ac54f67f6956479693e52332b876186d": {
      "model_module": "@jupyter-widgets/base",
      "model_module_version": "1.0.0",
      "model_name": "LayoutModel",
      "state": {}
     },
     "ae3a6fe9e4bd4104830e11c8b575f829": {
      "model_module": "@jupyter-widgets/controls",
      "model_module_version": "1.1.0",
      "model_name": "VBoxModel",
      "state": {
       "children": [
        "IPY_MODEL_2354feb1ae6c490891ba02fefeb26905",
        "IPY_MODEL_d55c617c51314fd3aa5d9a4033929bde"
       ],
       "layout": "IPY_MODEL_133e9eab39d4474eac047b5363072b31"
      }
     },
     "aec1a4030858426e9ca3784f90055c05": {
      "model_module": "@jupyter-widgets/controls",
      "model_module_version": "1.1.0",
      "model_name": "LabelModel",
      "state": {
       "layout": "IPY_MODEL_593b041187a14be7b7c059f0ae49bec6",
       "style": "IPY_MODEL_6c0d5c242c01499eb636042df8741f25",
       "value": "Rent"
      }
     },
     "af57b81501584492b9ad313ea745716f": {
      "model_module": "@jupyter-widgets/controls",
      "model_module_version": "1.1.0",
      "model_name": "SliderStyleModel",
      "state": {
       "description_width": ""
      }
     },
     "b0b40a0f26844ff29507144a3e90e5d2": {
      "model_module": "@jupyter-widgets/controls",
      "model_module_version": "1.1.0",
      "model_name": "VBoxModel",
      "state": {
       "children": [
        "IPY_MODEL_b12f0adf67de4cf58ac0d7a11f1b750a",
        "IPY_MODEL_cb1f108221014119987c28a1e5383793"
       ],
       "layout": "IPY_MODEL_539923a1365a4aa989a87806632a6d43"
      }
     },
     "b12f0adf67de4cf58ac0d7a11f1b750a": {
      "model_module": "@jupyter-widgets/controls",
      "model_module_version": "1.1.0",
      "model_name": "LabelModel",
      "state": {
       "layout": "IPY_MODEL_f1dd929151424a15abf58cd4ea91f3b3",
       "style": "IPY_MODEL_7c4c49a46a0f4d73bc8cef90b52d45f1",
       "value": "$ \\underline{ \\textbf{Expenses} } $"
      }
     },
     "b19dc8f30b9b47d39fb93cf3e88e6b27": {
      "model_module": "@jupyter-widgets/base",
      "model_module_version": "1.0.0",
      "model_name": "LayoutModel",
      "state": {
       "justify_content": "center",
       "width": "33%"
      }
     },
     "b246afe475814aa6ad02d8a1cc271508": {
      "model_module": "@jupyter-widgets/base",
      "model_module_version": "1.0.0",
      "model_name": "LayoutModel",
      "state": {}
     },
     "b358e2bb9b714d799303c9e6eecf8ee1": {
      "model_module": "@jupyter-widgets/base",
      "model_module_version": "1.0.0",
      "model_name": "LayoutModel",
      "state": {}
     },
     "b36e0417f47e4b78b1f8ba57d6d64d66": {
      "model_module": "@jupyter-widgets/controls",
      "model_module_version": "1.1.0",
      "model_name": "CheckboxModel",
      "state": {
       "description": "Loan1: Equity",
       "disabled": false,
       "layout": "IPY_MODEL_b19dc8f30b9b47d39fb93cf3e88e6b27",
       "style": "IPY_MODEL_e9f69b3703114676b142c464e9d16a27",
       "value": true
      }
     },
     "b6f3efa6c0244ec88069080517f1d895": {
      "model_module": "@jupyter-widgets/controls",
      "model_module_version": "1.1.0",
      "model_name": "VBoxModel",
      "state": {
       "children": [
        "IPY_MODEL_aec1a4030858426e9ca3784f90055c05",
        "IPY_MODEL_6e61b19cf77441e6b05e15ae522cfbf5",
        "IPY_MODEL_348bd7a24d4f46988c359a6bc077b71a"
       ],
       "layout": "IPY_MODEL_c3b4b5489a8c4215b916205ca718db5c"
      }
     },
     "b7a3f063de7e4bb191060d2dc5ed6477": {
      "model_module": "@jupyter-widgets/controls",
      "model_module_version": "1.1.0",
      "model_name": "DescriptionStyleModel",
      "state": {
       "description_width": ""
      }
     },
     "b7bb4411df734160a7b7e07d98e9de08": {
      "model_module": "@jupyter-widgets/controls",
      "model_module_version": "1.1.0",
      "model_name": "SliderStyleModel",
      "state": {
       "description_width": ""
      }
     },
     "b8e6755ae1be44c4869217971b6773a9": {
      "model_module": "@jupyter-widgets/controls",
      "model_module_version": "1.1.0",
      "model_name": "IntSliderModel",
      "state": {
       "layout": "IPY_MODEL_124dd9d00f1f41e4a90ab47c7c933ea2",
       "max": 15000,
       "step": 100,
       "style": "IPY_MODEL_485546cb1f5a4a509e3ad1b6c776d428",
       "value": 5000
      }
     },
     "b926ff98870d42a9bf2e9a6d63d9955b": {
      "model_module": "@jupyter-widgets/controls",
      "model_module_version": "1.1.0",
      "model_name": "IntSliderModel",
      "state": {
       "layout": "IPY_MODEL_006b86117f244240a900a16fd319da46",
       "max": 25000,
       "step": 500,
       "style": "IPY_MODEL_635a45bc65cb45d284c82ce80e99cc21",
       "value": 14500
      }
     },
     "ba9b934127e24c6cbf9672d80f58a3b6": {
      "model_module": "@jupyter-widgets/base",
      "model_module_version": "1.0.0",
      "model_name": "LayoutModel",
      "state": {}
     },
     "be36c0e36a94436ea9ce38cb2624143e": {
      "model_module": "@jupyter-widgets/controls",
      "model_module_version": "1.1.0",
      "model_name": "VBoxModel",
      "state": {
       "children": [
        "IPY_MODEL_d22b7b2acb434a29bdc2d2d10a41cf4b",
        "IPY_MODEL_4d52b1bcd37e441dbbe361f37b096f09",
        "IPY_MODEL_ed4c5139c5314f249cb7380c94eff08e",
        "IPY_MODEL_c78af15a53424e7b8d044d6b41905062"
       ],
       "layout": "IPY_MODEL_9a77ea13dbd74bee95571e9188a4bbdf"
      }
     },
     "bebc617d6d1d484fa704a3044dc92ea4": {
      "model_module": "@jupyter-widgets/base",
      "model_module_version": "1.0.0",
      "model_name": "LayoutModel",
      "state": {
       "width": "100%"
      }
     },
     "c12158cc18db46ccbc0e6164cca14b0c": {
      "model_module": "@jupyter-widgets/controls",
      "model_module_version": "1.1.0",
      "model_name": "IntSliderModel",
      "state": {
       "layout": "IPY_MODEL_2298571269c1459db010eee2efb07343",
       "max": 150000,
       "step": 500,
       "style": "IPY_MODEL_73b36a10828f4038948a1f013df41f99",
       "value": 72500
      }
     },
     "c1f911867c5a42ec9042d4d6051be7d4": {
      "model_module": "@jupyter-widgets/base",
      "model_module_version": "1.0.0",
      "model_name": "LayoutModel",
      "state": {}
     },
     "c304117b3a254b39b1a4452ec449d573": {
      "model_module": "@jupyter-widgets/controls",
      "model_module_version": "1.1.0",
      "model_name": "HBoxModel",
      "state": {
       "children": [
        "IPY_MODEL_844bf88dbff441f6b0408b85d72e453e",
        "IPY_MODEL_55dd73c496284634aa193552e554c35c"
       ],
       "layout": "IPY_MODEL_eae97614cdfe4626a8073a67a55c03d7"
      }
     },
     "c3b4b5489a8c4215b916205ca718db5c": {
      "model_module": "@jupyter-widgets/base",
      "model_module_version": "1.0.0",
      "model_name": "LayoutModel",
      "state": {}
     },
     "c3d7610f5a494a1e80e8a22f77ca76b2": {
      "model_module": "@jupyter-widgets/base",
      "model_module_version": "1.0.0",
      "model_name": "LayoutModel",
      "state": {
       "width": "100%"
      }
     },
     "c4734209155f4458a217e2b8c0d43b91": {
      "model_module": "@jupyter-widgets/controls",
      "model_module_version": "1.1.0",
      "model_name": "DescriptionStyleModel",
      "state": {
       "description_width": ""
      }
     },
     "c69a7fa76bb545969926d495125afa7a": {
      "model_module": "@jupyter-widgets/controls",
      "model_module_version": "1.1.0",
      "model_name": "LabelModel",
      "state": {
       "layout": "IPY_MODEL_51e79b2fc35c41f29f3a71cc79f4d6ce",
       "style": "IPY_MODEL_077ee833bfd14b92a628dede69d8fd65",
       "value": "Additional Income"
      }
     },
     "c78af15a53424e7b8d044d6b41905062": {
      "model_module": "@jupyter-widgets/controls",
      "model_module_version": "1.1.0",
      "model_name": "LabelModel",
      "state": {
       "layout": "IPY_MODEL_5e40c12a2e694bb38e16832444079cfd",
       "style": "IPY_MODEL_a4535c0d4f5f47118b8d2508e2d5fbb0",
       "value": "Loan2 Interest"
      }
     },
     "cb1f108221014119987c28a1e5383793": {
      "model_module": "@jupyter-widgets/controls",
      "model_module_version": "1.1.0",
      "model_name": "HBoxModel",
      "state": {
       "children": [
        "IPY_MODEL_b6f3efa6c0244ec88069080517f1d895",
        "IPY_MODEL_d549adc2d74f4844a3f48f808ece75ee"
       ],
       "layout": "IPY_MODEL_9aebe008da394fc282a75a6d94055967"
      }
     },
     "ce655639a0c841a39867e108f31ead17": {
      "model_module": "@jupyter-widgets/controls",
      "model_module_version": "1.1.0",
      "model_name": "LabelModel",
      "state": {
       "layout": "IPY_MODEL_a32ff9d3817647fb99e15ceaedaada1a",
       "style": "IPY_MODEL_390f86161ac94ef9b7180a18f960b26c",
       "value": "$ \\underline{ \\textbf{Loans} } $"
      }
     },
     "cf30b764f8704926a40acb839e780164": {
      "model_module": "@jupyter-widgets/controls",
      "model_module_version": "1.1.0",
      "model_name": "IntSliderModel",
      "state": {
       "layout": "IPY_MODEL_48e211825b98435a9eeff4dcb3181fc6",
       "max": 100000,
       "step": 1000,
       "style": "IPY_MODEL_dc06e6ccda6f47f1b03568d430c56c88",
       "value": 24000
      }
     },
     "cf9814452a4b423593431a32df0378f1": {
      "model_module": "@jupyter-widgets/controls",
      "model_module_version": "1.1.0",
      "model_name": "LabelModel",
      "state": {
       "layout": "IPY_MODEL_abc69ff7803e4975a18e54c117e038e8",
       "style": "IPY_MODEL_9c80b8587b6943c09f8b81f0504f62a7",
       "value": "Roth Contributions"
      }
     },
     "d07404c1250e4e8ea16503d51c841f9f": {
      "model_module": "@jupyter-widgets/controls",
      "model_module_version": "1.1.0",
      "model_name": "VBoxModel",
      "state": {
       "children": [
        "IPY_MODEL_5525ceabbcd0420196b612f5c920a17c",
        "IPY_MODEL_6e73df41272f40f4a9f56e4cce57b21f"
       ],
       "layout": "IPY_MODEL_01c41a66b93447098c6d687fb7c14425"
      }
     },
     "d12d69bb066644fda83257375a75f7a1": {
      "model_module": "@jupyter-widgets/controls",
      "model_module_version": "1.1.0",
      "model_name": "VBoxModel",
      "state": {
       "children": [
        "IPY_MODEL_5525ceabbcd0420196b612f5c920a17c",
        "IPY_MODEL_7b45eebba5844e1c9c065f0744068463"
       ],
       "layout": "IPY_MODEL_8f87d63b031f4c7d914c10d8cc4c6df4"
      }
     },
     "d22b7b2acb434a29bdc2d2d10a41cf4b": {
      "model_module": "@jupyter-widgets/controls",
      "model_module_version": "1.1.0",
      "model_name": "LabelModel",
      "state": {
       "layout": "IPY_MODEL_d7d2e4ba95b54a8ca013ce5c26e2bd54",
       "style": "IPY_MODEL_14f22dade1574fac87553263776543f7",
       "value": "Loan1 Years"
      }
     },
     "d311733cd0b84ceb972eff4634959abb": {
      "model_module": "@jupyter-widgets/base",
      "model_module_version": "1.0.0",
      "model_name": "LayoutModel",
      "state": {}
     },
     "d4ebba8bbc7d4990b8425df40c456503": {
      "model_module": "@jupyter-widgets/controls",
      "model_module_version": "1.1.0",
      "model_name": "SliderStyleModel",
      "state": {
       "description_width": ""
      }
     },
     "d549adc2d74f4844a3f48f808ece75ee": {
      "model_module": "@jupyter-widgets/controls",
      "model_module_version": "1.1.0",
      "model_name": "VBoxModel",
      "state": {
       "children": [
        "IPY_MODEL_b926ff98870d42a9bf2e9a6d63d9955b",
        "IPY_MODEL_b8e6755ae1be44c4869217971b6773a9",
        "IPY_MODEL_d6af6b71b4824a6d9afbefb57c6f71fb"
       ],
       "layout": "IPY_MODEL_023360c3da7e47d0bc0cd814ef4d73e6"
      }
     },
     "d55c617c51314fd3aa5d9a4033929bde": {
      "model_module": "@jupyter-widgets/controls",
      "model_module_version": "1.1.0",
      "model_name": "HBoxModel",
      "state": {
       "children": [
        "IPY_MODEL_5825d014d6c949d98b14827434a6484c",
        "IPY_MODEL_69b78a83f4f04b7fb036502cd4a1fa96"
       ],
       "layout": "IPY_MODEL_a6bd8d3454ce49eab210f8ae5ee93da0"
      }
     },
     "d699538b837a4c3fa0ccc3281a1c9a02": {
      "model_module": "@jupyter-widgets/controls",
      "model_module_version": "1.1.0",
      "model_name": "IntSliderModel",
      "state": {
       "layout": "IPY_MODEL_6e6ca42cd67540129fc36e2223983b93",
       "max": 100000,
       "step": 1000,
       "style": "IPY_MODEL_0c6ddd3e027f4b9ea3e59ad3727b9f65",
       "value": 20000
      }
     },
     "d6af6b71b4824a6d9afbefb57c6f71fb": {
      "model_module": "@jupyter-widgets/controls",
      "model_module_version": "1.1.0",
      "model_name": "IntSliderModel",
      "state": {
       "layout": "IPY_MODEL_3a8300005f3a41d3adb7fdb35a2ea1af",
       "max": 3000,
       "step": 100,
       "style": "IPY_MODEL_d4ebba8bbc7d4990b8425df40c456503",
       "value": 1000
      }
     },
     "d6d84e794feb49cfb7fe8a93e7a1dee7": {
      "model_module": "@jupyter-widgets/controls",
      "model_module_version": "1.1.0",
      "model_name": "LabelModel",
      "state": {
       "layout": "IPY_MODEL_fc193c6f014a41ffbf041692ce016e76",
       "style": "IPY_MODEL_1e90fa3d85c94dc79abed1d493d0e9d9",
       "value": "$ \\underline{ \\textbf{Savings} } $"
      }
     },
     "d746392395d34e159f755078a8473ca6": {
      "model_module": "@jupyter-widgets/controls",
      "model_module_version": "1.1.0",
      "model_name": "DescriptionStyleModel",
      "state": {
       "description_width": ""
      }
     },
     "d7d2e4ba95b54a8ca013ce5c26e2bd54": {
      "model_module": "@jupyter-widgets/base",
      "model_module_version": "1.0.0",
      "model_name": "LayoutModel",
      "state": {}
     },
     "d926fcdb690042a4bae90e860c6eae97": {
      "model_module": "@jupyter-widgets/controls",
      "model_module_version": "1.1.0",
      "model_name": "LabelModel",
      "state": {
       "layout": "IPY_MODEL_ffa7aef35ee24ecc80e7977f6374768a",
       "style": "IPY_MODEL_66f3b4d91ffe48ff87ddbf637abb7aa8",
       "value": "$ \\underline{ \\textbf{Comparing Options} } $"
      }
     },
     "d9308d16c703440d8b0f287f80800e3b": {
      "model_module": "@jupyter-widgets/base",
      "model_module_version": "1.0.0",
      "model_name": "LayoutModel",
      "state": {
       "align_items": "center"
      }
     },
     "d9f77455d6e34aef93e2109fdd154858": {
      "model_module": "@jupyter-widgets/base",
      "model_module_version": "1.0.0",
      "model_name": "LayoutModel",
      "state": {}
     },
     "dacfdef083994e42919a9483d6170c67": {
      "model_module": "@jupyter-widgets/controls",
      "model_module_version": "1.1.0",
      "model_name": "DescriptionStyleModel",
      "state": {
       "description_width": ""
      }
     },
     "dc06e6ccda6f47f1b03568d430c56c88": {
      "model_module": "@jupyter-widgets/controls",
      "model_module_version": "1.1.0",
      "model_name": "SliderStyleModel",
      "state": {
       "description_width": ""
      }
     },
     "de6ac58a222b4dc4837c80b9c28bc843": {
      "model_module": "@jupyter-widgets/controls",
      "model_module_version": "1.1.0",
      "model_name": "DescriptionStyleModel",
      "state": {
       "description_width": ""
      }
     },
     "dec01f7a4eec4d629302d1ae9f63ce51": {
      "model_module": "@jupyter-widgets/controls",
      "model_module_version": "1.1.0",
      "model_name": "IntSliderModel",
      "state": {
       "layout": "IPY_MODEL_5866541caf664b518c5c5bf2b1ec3452",
       "max": 30,
       "min": 10,
       "step": 5,
       "style": "IPY_MODEL_3fb96f107b0f46b7906ec5a39926ff3b",
       "value": 30
      }
     },
     "df726d7eb4504ef79a2936fbc36a4e18": {
      "model_module": "@jupyter-widgets/controls",
      "model_module_version": "1.1.0",
      "model_name": "IntSliderModel",
      "state": {
       "description": "House Cost",
       "layout": "IPY_MODEL_65b242e4ea0b42148df4d67372037b65",
       "max": 500000,
       "step": 5000,
       "style": "IPY_MODEL_6d0268dee79a4a6eac1b9d15ccd6a9ab",
       "value": 250000
      }
     },
     "e0dc9038cee248d1ba1af374ab7d97d0": {
      "model_module": "@jupyter-widgets/controls",
      "model_module_version": "1.1.0",
      "model_name": "IntSliderModel",
      "state": {
       "layout": "IPY_MODEL_1eed1d40bb824e01b59605458d914728",
       "max": 5500,
       "step": 500,
       "style": "IPY_MODEL_68410eb4d5f54841b5e8de017f450e12",
       "value": 5500
      }
     },
     "e24dac7c40894037b39a3c07d30b8c9f": {
      "model_module": "@jupyter-widgets/controls",
      "model_module_version": "1.1.0",
      "model_name": "LabelModel",
      "state": {
       "layout": "IPY_MODEL_235fac620e5c4fb684064dfcf276ec18",
       "style": "IPY_MODEL_1470a4934fbe40f1a85e130d5ec3749f",
       "value": "Cash"
      }
     },
     "e3290553ed3c4dceb30461a3cadd2097": {
      "model_module": "@jupyter-widgets/controls",
      "model_module_version": "1.1.0",
      "model_name": "DescriptionStyleModel",
      "state": {
       "description_width": ""
      }
     },
     "e6c5e3a753f447e88c0dc1232445fa74": {
      "model_module": "@jupyter-widgets/base",
      "model_module_version": "1.0.0",
      "model_name": "LayoutModel",
      "state": {
       "width": "100%"
      }
     },
     "e9f69b3703114676b142c464e9d16a27": {
      "model_module": "@jupyter-widgets/controls",
      "model_module_version": "1.1.0",
      "model_name": "DescriptionStyleModel",
      "state": {
       "description_width": ""
      }
     },
     "eae97614cdfe4626a8073a67a55c03d7": {
      "model_module": "@jupyter-widgets/base",
      "model_module_version": "1.0.0",
      "model_name": "LayoutModel",
      "state": {}
     },
     "ed4c5139c5314f249cb7380c94eff08e": {
      "model_module": "@jupyter-widgets/controls",
      "model_module_version": "1.1.0",
      "model_name": "LabelModel",
      "state": {
       "layout": "IPY_MODEL_0fcf13cb8b854171bbc54562a8d844f9",
       "style": "IPY_MODEL_00bb94ac8b62474a993951ba5e90111e",
       "value": "Loan2 Years"
      }
     },
     "f0da3d6132ae4bb5a891bda0d8cb3a94": {
      "model_module": "@jupyter-widgets/controls",
      "model_module_version": "1.1.0",
      "model_name": "SliderStyleModel",
      "state": {
       "description_width": ""
      }
     },
     "f1dd929151424a15abf58cd4ea91f3b3": {
      "model_module": "@jupyter-widgets/base",
      "model_module_version": "1.0.0",
      "model_name": "LayoutModel",
      "state": {}
     },
     "f51717bef8b04c479f05ba34b27c2b7d": {
      "model_module": "@jupyter-widgets/controls",
      "model_module_version": "1.1.0",
      "model_name": "DescriptionStyleModel",
      "state": {
       "description_width": ""
      }
     },
     "f5b8151939554540b964e25def184737": {
      "model_module": "@jupyter-widgets/base",
      "model_module_version": "1.0.0",
      "model_name": "LayoutModel",
      "state": {}
     },
     "f7f64be2a46e4edc98523648ee956515": {
      "model_module": "@jupyter-widgets/controls",
      "model_module_version": "1.1.0",
      "model_name": "HBoxModel",
      "state": {
       "children": [
        "IPY_MODEL_aa1cd4f55bd04944915b682ccc2e687f",
        "IPY_MODEL_86b6cfcccc1e450ba588753e78321eb4",
        "IPY_MODEL_995bbec69a254f2e98307a2c57556f28"
       ],
       "layout": "IPY_MODEL_55ebfb0a1e9b495eb6b7b47f9cecbbc4"
      }
     },
     "fb5dc93c3c4e481e9f8cc6adc042ef2f": {
      "model_module": "@jupyter-widgets/controls",
      "model_module_version": "1.1.0",
      "model_name": "VBoxModel",
      "state": {
       "children": [
        "IPY_MODEL_a603bf6ad64b42bb8d723dce38d590da",
        "IPY_MODEL_347c171b6afa44aba7cbfa4d60ba5225",
        "IPY_MODEL_e0dc9038cee248d1ba1af374ab7d97d0"
       ],
       "layout": "IPY_MODEL_7735c24a63b043808c7a9f346ea9367e"
      }
     },
     "fbeb583b483b448fad6256f2b8d4327d": {
      "model_module": "@jupyter-widgets/base",
      "model_module_version": "1.0.0",
      "model_name": "LayoutModel",
      "state": {
       "justify_content": "center",
       "width": "33%"
      }
     },
     "fc193c6f014a41ffbf041692ce016e76": {
      "model_module": "@jupyter-widgets/base",
      "model_module_version": "1.0.0",
      "model_name": "LayoutModel",
      "state": {}
     },
     "ffa7aef35ee24ecc80e7977f6374768a": {
      "model_module": "@jupyter-widgets/base",
      "model_module_version": "1.0.0",
      "model_name": "LayoutModel",
      "state": {
       "align_items": "center"
      }
     }
    },
    "version_major": 2,
    "version_minor": 0
   }
  }
 },
 "nbformat": 4,
 "nbformat_minor": 2
}
